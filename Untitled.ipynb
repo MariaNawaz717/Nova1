{
 "cells": [
  {
   "cell_type": "code",
   "execution_count": null,
   "id": "8c6fc9d4-2981-4a8c-83d6-6dae3d0415dc",
   "metadata": {},
   "outputs": [],
   "source": []
  }
 ],
 "metadata": {
  "kernelspec": {
   "display_name": "",
   "name": ""
  },
  "language_info": {
   "name": ""
  }
 },
 "nbformat": 4,
 "nbformat_minor": 5
}
