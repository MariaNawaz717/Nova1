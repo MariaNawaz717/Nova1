{
 "cells": [
  {
   "cell_type": "markdown",
   "metadata": {
    "id": "occYz8iXWKQk"
   },
   "source": [
    "\n",
    "Credits: This notebook is based on a [Python tutorial](http://cs231n.github.io/python-numpy-tutorial/) by [Justin Johnson](https://web.eecs.umich.edu/~justincj/) for [CS231n](http://cs231n.github.io/). "
   ]
  },
  {
   "cell_type": "markdown",
   "metadata": {
    "id": "W-trfVF5WKQw"
   },
   "source": [
    "## Introduction"
   ]
  },
  {
   "cell_type": "markdown",
   "metadata": {
    "id": "zR7IRFdyWKQy"
   },
   "source": [
    "We will use the Python programming language for all assignments in this course. Python is a great general-purpose programming language on its own, but with the help of a few popular libraries (numpy, scipy, matplotlib) it becomes a powerful environment for scientific computing.\n",
    "\n",
    "We expect that many of you will have some experience with Python and numpy; for the rest of you, this section will serve as a quick crash course both on the Python programming language and on the use of Python for scientific computing."
   ]
  },
  {
   "cell_type": "markdown",
   "metadata": {
    "id": "A1LyBMR8WKQ1"
   },
   "source": [
    "In this tutorial, we will cover:\n",
    "\n",
    "* Basic Python: Basic data types (Containers, Lists, Dictionaries, Sets, Tuples), Functions, Classes\n",
    "* Numpy: Arrays, Array indexing, Datatypes, Array math, Broadcasting\n",
    "* Matplotlib: Plotting, Subplots, Images\n",
    "* IPython: Creating notebooks, Typical workflows"
   ]
  },
  {
   "cell_type": "markdown",
   "metadata": {
    "id": "bdv-xJ-VWKQ3"
   },
   "source": [
    "## Basics of Python"
   ]
  },
  {
   "cell_type": "markdown",
   "metadata": {
    "id": "G78id_A-WKQ4"
   },
   "source": [
    "Python is a high-level, dynamically typed multiparadigm programming language. Python code is often said to be almost like pseudocode, since it allows you to express very powerful ideas in very few lines of code while being very readable. As an example, here is an implementation of the classic quicksort algorithm in Python:"
   ]
  },
  {
   "cell_type": "code",
   "execution_count": null,
   "metadata": {
    "id": "-rtIO5QqWKQ6"
   },
   "outputs": [],
   "source": [
    "def quicksort(arr):\n",
    "    if len(arr) <= 1:\n",
    "        return arr\n",
    "    pivot = arr[len(arr) // 2]\n",
    "    left = [x for x in arr if x < pivot]\n",
    "    middle = [x for x in arr if x == pivot]\n",
    "    right = [x for x in arr if x > pivot]\n",
    "    return quicksort(left) + middle + quicksort(right)\n",
    "\n",
    "print(quicksort([5,16,1,50,0,5,14]))\n",
    "# Prints \"[0, 1, 5, 5, 14, 16, 50]\""
   ]
  },
  {
   "cell_type": "markdown",
   "metadata": {
    "id": "90nqR-PyWKQ-"
   },
   "source": [
    "### Python versions"
   ]
  },
  {
   "cell_type": "markdown",
   "metadata": {
    "id": "7R_NmqJrWKQ_"
   },
   "source": [
    "For this class all code will use Python 3.7. You can check your Python version by executing the cell below:"
   ]
  },
  {
   "cell_type": "code",
   "execution_count": null,
   "metadata": {
    "id": "_GCl5VfmWKRB"
   },
   "outputs": [],
   "source": [
    "!python3 --version"
   ]
  },
  {
   "cell_type": "markdown",
   "metadata": {
    "id": "rUJqaUE7WKRD"
   },
   "source": [
    "### Basic data types"
   ]
  },
  {
   "cell_type": "markdown",
   "metadata": {
    "id": "iCRB131rWKRE"
   },
   "source": [
    "#### Numbers"
   ]
  },
  {
   "cell_type": "markdown",
   "metadata": {
    "id": "vmWbDg3OWKRF"
   },
   "source": [
    "Integers and floats work as you would expect from other languages:"
   ]
  },
  {
   "cell_type": "code",
   "execution_count": null,
   "metadata": {
    "id": "Gvp0I3p6WKRG"
   },
   "outputs": [],
   "source": [
    "x = 10\n",
    "print(type(x)) # Prints \"<class 'int'>\"\n",
    "print(x)       # Prints \"3\""
   ]
  },
  {
   "cell_type": "code",
   "execution_count": null,
   "metadata": {
    "id": "vCByb8r0WKRG"
   },
   "outputs": [],
   "source": [
    "print(x + 1)   # Addition; prints \"4\"\n",
    "print(x - 1)   # Subtraction; prints \"2\"\n",
    "print(x * 2)   # Multiplication; prints \"6\"\n",
    "print(x ** 2)  # Exponentiation; prints \"9\""
   ]
  },
  {
   "cell_type": "code",
   "execution_count": null,
   "metadata": {
    "id": "M8kvYCWbWKRH"
   },
   "outputs": [],
   "source": [
    "x += 1\n",
    "print(x)  # Prints \"4\"\n",
    "x *= 2\n",
    "print(x)  # Prints \"8\""
   ]
  },
  {
   "cell_type": "code",
   "execution_count": null,
   "metadata": {
    "id": "JgGZ9niAWKRI"
   },
   "outputs": [],
   "source": [
    "y = 9.5\n",
    "print(type(y)) # Prints \"<class 'float'>\"\n",
    "print(y, y + 1, y * 2, y ** 2) # Prints \"2.5 3.5 5.0 6.25\""
   ]
  },
  {
   "cell_type": "markdown",
   "metadata": {
    "id": "CiLEtnVKWKRK"
   },
   "source": [
    "Note that unlike many languages, Python does not have unary increment (x++) or decrement (x--) operators.\n",
    "\n",
    "Python also has built-in types for long integers and complex numbers; you can find all of the details in the [documentation](https://docs.python.org/3.7/library/stdtypes.html#numeric-types-int-float-complex)."
   ]
  },
  {
   "cell_type": "markdown",
   "metadata": {
    "id": "PlxHAPYfWKRK"
   },
   "source": [
    "#### Booleans"
   ]
  },
  {
   "cell_type": "markdown",
   "metadata": {
    "id": "Fr6CZepgWKRL"
   },
   "source": [
    "Python implements all of the usual operators for Boolean logic, but uses English words rather than symbols (`&&`, `||`, etc.):"
   ]
  },
  {
   "cell_type": "code",
   "execution_count": null,
   "metadata": {
    "id": "LW9CK7R7WKRM"
   },
   "outputs": [],
   "source": [
    "t = True\n",
    "f = False\n",
    "print(type(t)) # Prints \"<class 'bool'>\"\n",
    "print(t and f) # Logical AND; prints \"False\"\n",
    "print(t or f)  # Logical OR; prints \"True\"\n",
    "print(not t)   # Logical NOT; prints \"False\"\n",
    "print(t != f)  # Logical XOR; prints \"True\""
   ]
  },
  {
   "cell_type": "markdown",
   "metadata": {
    "id": "fXqBE_oOWKRM"
   },
   "source": [
    "#### Strings\n",
    "\n",
    "Python has great support for strings:"
   ]
  },
  {
   "cell_type": "code",
   "execution_count": null,
   "metadata": {
    "id": "0XeQcNmPWKRN"
   },
   "outputs": [],
   "source": [
    "machine = 'machine'    # String literals can use single quotes\n",
    "learning = \"learning\"    # or double quotes; it does not matter.\n",
    "print(machine)       # Prints \"machine\"\n",
    "print(len(machine))  # String length; prints \"7\"\n",
    "course = machine + ' ' + learning  # String concatenation\n",
    "print(course)  # prints \"machine learning\"\n",
    "code = '%s %s %d' % (machine, learning, 535)  # sprintf style string formatting\n",
    "print(code)  # prints \"machine learning 535\""
   ]
  },
  {
   "cell_type": "markdown",
   "metadata": {
    "id": "dVne6LXbWKRO"
   },
   "source": [
    "String objects have a bunch of useful methods; for example:"
   ]
  },
  {
   "cell_type": "code",
   "execution_count": null,
   "metadata": {
    "id": "OWT9hYmUWKRP"
   },
   "outputs": [],
   "source": [
    "s = \"neural networks\"\n",
    "print(s.capitalize())  # Capitalize a string; prints \"Neural nerworks\"\n",
    "print(s.upper())       # Convert a string to uppercase; prints \"NEURAL NETWORKS\"\n",
    "print(s.rjust(20))      # Right-justify a string, padding with spaces; prints \"     neural networks\"\n",
    "print(s.center(20))     # Center a string, padding with spaces; prints \"  neural networks   \"\n",
    "print(s.replace('ral', '(ral)'))  # Replace all instances of one substring with another;\n",
    "                                # prints \"he(ell)(ell)o\"\n",
    "print('  AI    '.strip())  # Strip leading and trailing whitespace; prints \"AI\""
   ]
  },
  {
   "cell_type": "markdown",
   "metadata": {
    "id": "sEiCd17mWKRR"
   },
   "source": [
    "You can find a list of all string methods in the [documentation](https://docs.python.org/3.7/library/stdtypes.html#string-methods)."
   ]
  },
  {
   "cell_type": "markdown",
   "metadata": {
    "id": "1sT-jG2mWKRS"
   },
   "source": [
    "### Containers"
   ]
  },
  {
   "cell_type": "markdown",
   "metadata": {
    "id": "XJY9zJhFWKRS"
   },
   "source": [
    "Python includes several built-in container types: lists, dictionaries, sets, and tuples."
   ]
  },
  {
   "cell_type": "markdown",
   "metadata": {
    "id": "koPtVnfrWKRT"
   },
   "source": [
    "#### Lists"
   ]
  },
  {
   "cell_type": "markdown",
   "metadata": {
    "id": "LLOlN2a-WKRV"
   },
   "source": [
    "A list is the Python equivalent of an array, but is resizeable and can contain elements of different types:"
   ]
  },
  {
   "cell_type": "code",
   "execution_count": null,
   "metadata": {
    "id": "721AsuibWKRW"
   },
   "outputs": [],
   "source": [
    "xs = [5, 1, 9]    # Create a list\n",
    "print(xs, xs[2])  # Prints \"[5, 1, 9] 9\"\n",
    "print(xs[-1])     # Negative indices count from the end of the list; prints \"9\"\n",
    "xs[2] = 'scrap'     # Lists can contain elements of different types\n",
    "print(xs)         # Prints \"[5, 1, 'scrap']\"\n",
    "xs.append('!')  # Add a new element to the end of the list\n",
    "print(xs)         # Prints \"[5, 1, 'scrap', '!']\"\n",
    "x = xs.pop()      # Remove and return the last element of the list\n",
    "print(x, xs)      # Prints \"! [5, 1, 'scrap']\""
   ]
  },
  {
   "cell_type": "markdown",
   "metadata": {
    "id": "qF_gZH_-WKRX"
   },
   "source": [
    "As usual, you can find all the gory details about lists in the [documentation](https://docs.python.org/3.7/tutorial/datastructures.html#more-on-lists)."
   ]
  },
  {
   "cell_type": "markdown",
   "metadata": {
    "id": "iYNOm2OWWKRY"
   },
   "source": [
    "##### Slicing"
   ]
  },
  {
   "cell_type": "markdown",
   "metadata": {
    "id": "ols_O8sMWKRZ"
   },
   "source": [
    "In addition to accessing list elements one at a time, Python provides concise syntax to access sublists; this is known as slicing:"
   ]
  },
  {
   "cell_type": "code",
   "execution_count": null,
   "metadata": {
    "id": "P9oCx5TLWKRZ"
   },
   "outputs": [],
   "source": [
    "nums = list(range(5))     # range is a built-in function that creates a list of integers\n",
    "print(nums)               # Prints \"[0, 1, 2, 3, 4]\"\n",
    "print(nums[2:4])          # Get a slice from index 2 to 4 (exclusive); prints \"[2, 3]\"\n",
    "print(nums[2:])           # Get a slice from index 2 to the end; prints \"[2, 3, 4]\"\n",
    "print(nums[:2])           # Get a slice from the start to index 2 (exclusive); prints \"[0, 1]\"\n",
    "print(nums[:])            # Get a slice of the whole list; prints \"[0, 1, 2, 3, 4]\"\n",
    "print(nums[:-1])          # Slice indices can be negative; prints \"[0, 1, 2, 3]\"\n",
    "nums[2:4] = [8, 9]        # Assign a new sublist to a slice\n",
    "print(nums)               # Prints \"[0, 1, 8, 9, 4]\""
   ]
  },
  {
   "cell_type": "markdown",
   "metadata": {
    "id": "fuV6A-OyWKRa"
   },
   "source": [
    "##### Loops"
   ]
  },
  {
   "cell_type": "markdown",
   "metadata": {
    "id": "E6_9iRsRWKRb"
   },
   "source": [
    "You can loop over the elements of a list like this:"
   ]
  },
  {
   "cell_type": "code",
   "execution_count": null,
   "metadata": {
    "id": "5sbYXMb-WKRb"
   },
   "outputs": [],
   "source": [
    "games = ['CS:GO', 'Valorant', 'Rainbow Siege']\n",
    "for game in games:\n",
    "    print(game)\n",
    "# Prints \"CS:GO\", \"Valorant\", \"Rainbow Siege\", each on its own line."
   ]
  },
  {
   "cell_type": "markdown",
   "metadata": {
    "id": "T6AP24tLWKRb"
   },
   "source": [
    "If you want access to the index of each element within the body of a loop, use the built-in `enumerate` function:"
   ]
  },
  {
   "cell_type": "code",
   "execution_count": null,
   "metadata": {
    "id": "B9gICtLPWKRc"
   },
   "outputs": [],
   "source": [
    "animals = ['Cat', 'Duck', 'Dog']\n",
    "for idx, animal in enumerate(animals):\n",
    "    print('#%d: %s' % (idx + 1, animal))\n",
    "# Prints \"#1: Cat\", \"#2: Duck\", \"#3: Dog\", each on its own line"
   ]
  },
  {
   "cell_type": "markdown",
   "metadata": {
    "id": "Ns8c1kUJWKRc"
   },
   "source": [
    "##### List comprehensions:"
   ]
  },
  {
   "cell_type": "markdown",
   "metadata": {
    "id": "Mw0WiWpTWKRd"
   },
   "source": [
    "When programming, frequently we want to transform one type of data into another. As a simple example, consider the following code that computes square numbers:"
   ]
  },
  {
   "cell_type": "code",
   "execution_count": null,
   "metadata": {
    "id": "rwt9iY-9WKRd"
   },
   "outputs": [],
   "source": [
    "nums = [0, 1, 2, 3, 4]\n",
    "squares = []\n",
    "for x in nums:\n",
    "    squares.append(x ** 2)\n",
    "print(squares)   # Prints [0, 1, 4, 9, 16]"
   ]
  },
  {
   "cell_type": "markdown",
   "metadata": {
    "id": "zln903BXWKRe"
   },
   "source": [
    "You can make this code simpler using a list comprehension:"
   ]
  },
  {
   "cell_type": "code",
   "execution_count": null,
   "metadata": {
    "id": "-qwt30seWKRe"
   },
   "outputs": [],
   "source": [
    "nums = [0, 1, 2, 3, 4]\n",
    "squares = [x ** 2 for x in nums]\n",
    "print(squares)   # Prints [0, 1, 4, 9, 16]"
   ]
  },
  {
   "cell_type": "markdown",
   "metadata": {
    "id": "sqTWOBJtWKRf"
   },
   "source": [
    "List comprehensions can also contain conditions:"
   ]
  },
  {
   "cell_type": "code",
   "execution_count": null,
   "metadata": {
    "id": "6ZH4uijNWKRf"
   },
   "outputs": [],
   "source": [
    "nums = [0, 1, 2, 3, 4]\n",
    "even_squares = [x ** 2 for x in nums if x % 2 == 0]\n",
    "print(even_squares)  # Prints \"[0, 4, 16]\"\n",
    "odd_squares = [x ** 2 for x in nums if x % 2 != 0]\n",
    "print(odd_squares)  # Prints \"[1, 9]\""
   ]
  },
  {
   "cell_type": "markdown",
   "metadata": {
    "id": "VWaFen4HWKRg"
   },
   "source": [
    "#### Dictionaries"
   ]
  },
  {
   "cell_type": "markdown",
   "metadata": {
    "id": "-4qbEpSYWKRi"
   },
   "source": [
    "A dictionary stores (key, value) pairs, similar to a `Map` in Java or an object in Javascript. You can use it like this:"
   ]
  },
  {
   "cell_type": "code",
   "execution_count": null,
   "metadata": {
    "id": "kUuSdyIdWKRi"
   },
   "outputs": [],
   "source": [
    "d = {'swings': 'fun', 'pasta': 'tasty'}  # Create a new dictionary with some data\n",
    "print(d['swings'])       # Get an entry from a dictionary; prints \"fun\"\n",
    "print('swings' in d)     # Check if a dictionary has a given key; prints \"True\"\n",
    "d['duck'] = 'cute'     # Set an entry in a dictionary\n",
    "print(d['duck'])      # Prints \"cute\"\n",
    "# print(d['cat'])  # KeyError: 'cat' not a key of d\n",
    "print(d.get('monkey', 'N/A'))  # Get an element with a default; prints \"N/A\"\n",
    "print(d.get('duck', 'N/A'))    # Get an element with a default; prints \"cute\"\n",
    "del d['duck']         # Remove an element from a dictionary\n",
    "print(d.get('duck', 'N/A')) # \"duck\" is no longer a key; prints \"N/A\""
   ]
  },
  {
   "cell_type": "markdown",
   "metadata": {
    "id": "M2ciTBx-WKRj"
   },
   "source": [
    "You can find all you need to know about dictionaries in the [documentation](https://docs.python.org/3.7/library/stdtypes.html#dict)."
   ]
  },
  {
   "cell_type": "markdown",
   "metadata": {
    "id": "KHhTnHmHWKRk"
   },
   "source": [
    "##### Loops \n",
    "\n",
    "It is easy to iterate over the keys in a dictionary:"
   ]
  },
  {
   "cell_type": "code",
   "execution_count": null,
   "metadata": {
    "id": "B9h_gkKcWKRl"
   },
   "outputs": [],
   "source": [
    "d = {'Real Madrid': 14, 'Liverpool': 6, 'Barcelona': 5}\n",
    "for team in d:\n",
    "    titles = d[team]\n",
    "    print('%s has %d UEFA Champions League titles' % (team, titles))\n",
    "# Prints \"Real Madrid has 14 UEFA Champions League titles\", \"Liverpool has 6 UEFA Champions League titles\", \"Barcelona has 5 UEFA Champions League titles\""
   ]
  },
  {
   "cell_type": "markdown",
   "metadata": {
    "id": "IZqW7Y2uWKRl"
   },
   "source": [
    "If you want access to keys and their corresponding values, use the `items` method:"
   ]
  },
  {
   "cell_type": "code",
   "execution_count": null,
   "metadata": {
    "id": "Ik7NhDsAWKRm"
   },
   "outputs": [],
   "source": [
    "d = {'Real Madrid': 14, 'Liverpool': 6, 'Barcelona': 5}\n",
    "for team, titles in d.items():\n",
    "    print('%s has %d UEFA Champions League titles' % (team, titles))\n",
    "# Prints \"Real Madrid has 14 UEFA Champions League titles\", \"Liverpool has 6 UEFA Champions League titles\", \"Barcelona has 5 UEFA Champions League titles\""
   ]
  },
  {
   "cell_type": "markdown",
   "metadata": {
    "id": "kLBhlWmvWKRn"
   },
   "source": [
    "##### Dictionary comprehensions \n",
    "\n",
    "These are similar to list comprehensions, but allow you to easily construct dictionaries. For example:"
   ]
  },
  {
   "cell_type": "code",
   "execution_count": null,
   "metadata": {
    "id": "rtQAkqFZWKRn"
   },
   "outputs": [],
   "source": [
    "nums = [0, 1, 2, 3, 4, 5]\n",
    "odd_num_to_square = {x: x ** 2 for x in nums if x % 2 != 0}\n",
    "print(odd_num_to_square)  # Prints \"{1: 1, 3: 9, 5: 25}\""
   ]
  },
  {
   "cell_type": "markdown",
   "metadata": {
    "id": "NkKG4tu3WKRo"
   },
   "source": [
    "#### Sets"
   ]
  },
  {
   "cell_type": "markdown",
   "metadata": {
    "id": "x4N6a4pZWKRo"
   },
   "source": [
    "A set is an unordered collection of distinct elements. As a simple example, consider the following:"
   ]
  },
  {
   "cell_type": "code",
   "execution_count": null,
   "metadata": {
    "id": "4TPSu65sWKRo"
   },
   "outputs": [],
   "source": [
    "animals = {'cat', 'dog'}\n",
    "print('cat' in animals)   # Check if an element is in a set; prints \"True\"\n",
    "print('fish' in animals)  # prints \"False\"\n",
    "animals.add('fish')       # Add an element to a set\n",
    "print('fish' in animals)  # Prints \"True\"\n",
    "print(len(animals))       # Number of elements in a set; prints \"3\"\n",
    "animals.add('cat')        # Adding an element that is already in the set does nothing\n",
    "print(len(animals))       # Prints \"3\"\n",
    "animals.remove('cat')     # Remove an element from a set\n",
    "print(len(animals))       # Prints \"2\""
   ]
  },
  {
   "cell_type": "markdown",
   "metadata": {
    "id": "qzKB4Vu0WKRp"
   },
   "source": [
    "As usual, everything you want to know about sets can be found in the [documentation](https://docs.python.org/3.7/library/stdtypes.html#set)."
   ]
  },
  {
   "cell_type": "markdown",
   "metadata": {
    "id": "XujICTuEWKRq"
   },
   "source": [
    "##### Loops \n",
    "\n",
    "Iterating over a set has the same syntax as iterating over a list; however since sets are unordered, you cannot make assumptions about the order in which you visit the elements of the set:"
   ]
  },
  {
   "cell_type": "code",
   "execution_count": null,
   "metadata": {
    "id": "QU7E9nAvWKRq"
   },
   "outputs": [],
   "source": [
    "animals = {'cat', 'dog', 'fish'}\n",
    "for idx, animal in enumerate(animals):\n",
    "    print('#%d: %s' % (idx + 1, animal))\n",
    "# Prints \"#1: fish\", \"#2: cat\", \"#3: dog\""
   ]
  },
  {
   "cell_type": "markdown",
   "metadata": {
    "id": "jFCXy8BdWKRr"
   },
   "source": [
    "##### Set comprehensions\n",
    "\n",
    "Like lists and dictionaries, we can easily construct sets using set comprehensions:"
   ]
  },
  {
   "cell_type": "code",
   "execution_count": null,
   "metadata": {
    "id": "01I1CuKvWKRr"
   },
   "outputs": [],
   "source": [
    "from math import sqrt\n",
    "nums = {int(sqrt(x)) for x in range(30)}\n",
    "print(nums)  # Prints \"{0, 1, 2, 3, 4, 5}\""
   ]
  },
  {
   "cell_type": "markdown",
   "metadata": {
    "id": "vY_VPNSrWKRs"
   },
   "source": [
    "#### Tuples"
   ]
  },
  {
   "cell_type": "markdown",
   "metadata": {
    "id": "fGZC4a0tWKRt"
   },
   "source": [
    "A tuple is an (immutable) ordered list of values. A tuple is in many ways similar to a list; one of the most important differences is that tuples can be used as keys in dictionaries and as elements of sets, while lists cannot. Here is a trivial example:"
   ]
  },
  {
   "cell_type": "code",
   "execution_count": null,
   "metadata": {
    "id": "iJe5C--VWKRt"
   },
   "outputs": [],
   "source": [
    "d = {(x, 9 - x): x for x in range(10)}  # Create a dictionary with tuple keys\n",
    "t = (8, 1)        # Create a tuple\n",
    "print(type(t))    # Prints \"<class 'tuple'>\"\n",
    "print(d[t])       # Prints \"8\"\n",
    "print(d[(8, 1)])  # Prints \"8\""
   ]
  },
  {
   "cell_type": "markdown",
   "metadata": {
    "id": "HLjBlI0IWKRt"
   },
   "source": [
    "The [documentation](https://docs.python.org/3.7/tutorial/datastructures.html#tuples-and-sequences) has more information about tuples."
   ]
  },
  {
   "cell_type": "markdown",
   "metadata": {
    "id": "uBOJVmqMWKRt"
   },
   "source": [
    "### Functions"
   ]
  },
  {
   "cell_type": "markdown",
   "metadata": {
    "id": "Jei3ft82WKRu"
   },
   "source": [
    "Python functions are defined using the `def` keyword. For example:"
   ]
  },
  {
   "cell_type": "code",
   "execution_count": null,
   "metadata": {
    "id": "4C-aNT7iWKRu"
   },
   "outputs": [],
   "source": [
    "def sign(x):\n",
    "    if x > 0:\n",
    "        return 'positive'\n",
    "    elif x < 0:\n",
    "        return 'negative'\n",
    "    else:\n",
    "        return 'zero'\n",
    "\n",
    "for x in [-1, 0, 1]:\n",
    "    print(sign(x))\n",
    "# Prints \"negative\", \"zero\", \"positive\""
   ]
  },
  {
   "cell_type": "markdown",
   "metadata": {
    "id": "cFAuVS7kWKRw"
   },
   "source": [
    "We will often define functions to take optional keyword arguments, like this:"
   ]
  },
  {
   "cell_type": "code",
   "execution_count": null,
   "metadata": {
    "id": "t-648u1gWKRx"
   },
   "outputs": [],
   "source": [
    "def hello(name, loud=False):\n",
    "    if loud:\n",
    "        print('HELLO, %s!' % name.upper())\n",
    "    else:\n",
    "        print('Hello, %s' % name)\n",
    "\n",
    "hello('Rick') # Prints \"Hello, Bob\"\n",
    "hello('Morty', loud=True)  # Prints \"HELLO, FRED!\""
   ]
  },
  {
   "cell_type": "markdown",
   "metadata": {
    "id": "0X6CcKdsWKRz"
   },
   "source": [
    "There is a lot more information about Python functions in the [documentation](https://docs.python.org/3.7/tutorial/controlflow.html#defining-functions)."
   ]
  },
  {
   "cell_type": "markdown",
   "metadata": {
    "id": "UAoEJA8V-0xM"
   },
   "source": [
    "#### Lambda Functions\n",
    "These are anonymous functions in Python which take any number of arguments but only one expression. Syntax: \n",
    "`lambda arguments : expression`. They are one line function and expression are representing the body of a normal function."
   ]
  },
  {
   "cell_type": "code",
   "execution_count": null,
   "metadata": {
    "id": "49LbTQdQAs0V"
   },
   "outputs": [],
   "source": [
    "l = lambda a : a+10  ## lambda function 'l' is created which is taking 'a' as an argument and expression adds 10 to the value of argument a\n",
    "print(l(4))  ## passing 4 as value of 'a' argument of lambda function 'l' . This will return 12(12 = 4+10) as output.\n",
    "\n",
    "l1 = lambda a,b,c : a * b * c ## lambda function 'l1' is created which is taking 3 arguments (a,b,c) and return the result by multiplying them all.\n",
    "print(l1(10,20,30))  ## passing 10,20,30 as arguments 'a', 'b', 'c' respectively to 'l1' function. Print result 6000 (6000 = 10*20*30)"
   ]
  },
  {
   "cell_type": "markdown",
   "metadata": {
    "id": "ZMq_za7-Cwvm"
   },
   "source": [
    "We can use Lambda function anonymously inside other functions. Example is shown below"
   ]
  },
  {
   "cell_type": "code",
   "execution_count": null,
   "metadata": {
    "id": "KJivSg5lDAHo"
   },
   "outputs": [],
   "source": [
    "def func(n):  ## define a function that takes argument 'n' and returns a lambda function after dividing some unknown argument 'a' with given 'n'\n",
    "  return lambda a: a/n\n",
    "\n",
    "l2 = func(10)  ## passing 10 as value of 'n' in 'func' function. This will return lambda function 'l2' where n is assigned a value of 10.\n",
    "print(l2(7)) ## This will call lambda function 'l2' where 7 is given as value for argument 'a'. Print 0.7(0.7 = 7/10) as result "
   ]
  },
  {
   "cell_type": "markdown",
   "metadata": {
    "id": "xQNGLLXKWKRz"
   },
   "source": [
    "### Classes"
   ]
  },
  {
   "cell_type": "markdown",
   "metadata": {
    "id": "6SGqEAprWKR0"
   },
   "source": [
    "The syntax for defining classes in Python is straightforward:"
   ]
  },
  {
   "cell_type": "code",
   "execution_count": null,
   "metadata": {
    "id": "qIBGkxIhWKR1"
   },
   "outputs": [],
   "source": [
    "class Greeter(object):\n",
    "\n",
    "    # Constructor\n",
    "    def __init__(self, name):\n",
    "        self.name = name  # Create an instance variable\n",
    "\n",
    "    # Instance method\n",
    "    def greet(self, loud=False):\n",
    "        if loud:\n",
    "            print('HELLO, %s!' % self.name.upper())\n",
    "        else:\n",
    "            print('Hello, %s' % self.name)\n",
    "\n",
    "g = Greeter('Nezuko')  # Construct an instance of the Greeter class\n",
    "g.greet()            # Call an instance method; prints \"Hello, Fred\"\n",
    "g.greet(loud=True)   # Call an instance method; prints \"HELLO, FRED!\""
   ]
  },
  {
   "cell_type": "markdown",
   "metadata": {
    "id": "wjqA7mYRWKR1"
   },
   "source": [
    "You can read a lot more about Python classes in the [documentation](https://docs.python.org/3.7/tutorial/classes.html)."
   ]
  },
  {
   "cell_type": "markdown",
   "metadata": {
    "id": "42h3QLCSWKR3"
   },
   "source": [
    "## Numpy"
   ]
  },
  {
   "cell_type": "markdown",
   "metadata": {
    "id": "zU2WaCbkWKR3"
   },
   "source": [
    "[Numpy](https://numpy.org/) is the core library for scientific computing in Python. It provides a high-performance multidimensional array object, and tools for working with these arrays."
   ]
  },
  {
   "cell_type": "markdown",
   "metadata": {
    "id": "g589xsxOWKR4"
   },
   "source": [
    "To use Numpy, we first need to import the `numpy` package:"
   ]
  },
  {
   "cell_type": "code",
   "execution_count": null,
   "metadata": {
    "id": "LTTqN8XzWKR4"
   },
   "outputs": [],
   "source": [
    "import numpy as np"
   ]
  },
  {
   "cell_type": "markdown",
   "metadata": {
    "id": "n9VDoMTUWKR5"
   },
   "source": [
    "### Arrays"
   ]
  },
  {
   "cell_type": "markdown",
   "metadata": {
    "id": "bobIuV-dWKR6"
   },
   "source": [
    "A numpy array is a grid of values, all of the same type, and is indexed by a tuple of nonnegative integers. The number of dimensions is the rank of the array; the shape of an array is a tuple of integers giving the size of the array along each dimension."
   ]
  },
  {
   "cell_type": "markdown",
   "metadata": {
    "id": "jPWmsGeuWKR6"
   },
   "source": [
    "We can initialize numpy arrays from nested Python lists, and access elements using square brackets:"
   ]
  },
  {
   "cell_type": "code",
   "execution_count": null,
   "metadata": {
    "id": "BmJsPbzLWKR7"
   },
   "outputs": [],
   "source": [
    "a = np.array([1, 2, 3])   # Create a rank 1 array\n",
    "print(type(a))            # Prints \"<class 'numpy.ndarray'>\"\n",
    "print(a.shape)            # Prints \"(3,)\"\n",
    "print(a[0], a[1], a[2])   # Prints \"1 2 3\"\n",
    "a[0] = 5                  # Change an element of the array\n",
    "print(a)                  # Prints \"[5, 2, 3]\"\n",
    "\n",
    "b = np.array([[1,2,3],[4,5,6]])    # Create a rank 2 array\n",
    "print(b.shape)                     # Prints \"(2, 3)\"\n",
    "print(b[0, 0], b[0, 1], b[1, 0])   # Prints \"1 2 4\""
   ]
  },
  {
   "cell_type": "markdown",
   "metadata": {
    "id": "j9YOQcsOWKR7"
   },
   "source": [
    "Numpy also provides many functions to create arrays:"
   ]
  },
  {
   "cell_type": "code",
   "execution_count": null,
   "metadata": {
    "id": "Oq-lu5hVWKR8"
   },
   "outputs": [],
   "source": [
    "a = np.zeros((2,2))   # Create an array of all zeros\n",
    "print(a)              # Prints \"[[ 0.  0.]\n",
    "                      #          [ 0.  0.]]\"\n",
    "\n",
    "b = np.ones((1,2))    # Create an array of all ones\n",
    "print(b)              # Prints \"[[ 1.  1.]]\"\n",
    "\n",
    "c = np.full((2,2), 7)  # Create a constant array\n",
    "print(c)               # Prints \"[[ 7.  7.]\n",
    "                       #          [ 7.  7.]]\"\n",
    "\n",
    "d = np.eye(2)         # Create a 2x2 identity matrix\n",
    "print(d)              # Prints \"[[ 1.  0.]\n",
    "                      #          [ 0.  1.]]\"\n",
    "\n",
    "e = np.random.random((2,2))  # Create an array filled with random values\n",
    "print(e)                     # Might print \"[[ 0.91940167  0.08143941]\n",
    "                             #               [ 0.68744134  0.87236687]]\""
   ]
  },
  {
   "cell_type": "markdown",
   "metadata": {
    "id": "7QNOLklPWKR9"
   },
   "source": [
    "You can read about other methods of array creation in the [documentation](https://docs.scipy.org/doc/numpy/user/basics.creation.html#arrays-creation)."
   ]
  },
  {
   "cell_type": "markdown",
   "metadata": {
    "id": "U6fnf7AVWKR9"
   },
   "source": [
    "### Array indexing"
   ]
  },
  {
   "cell_type": "markdown",
   "metadata": {
    "id": "NegrMjkKWKR-"
   },
   "source": [
    "Numpy offers several ways to index into arrays."
   ]
  },
  {
   "cell_type": "markdown",
   "metadata": {
    "id": "jSIFZAlWWKR-"
   },
   "source": [
    "#### Slicing \n",
    "\n",
    "Similar to Python lists, numpy arrays can be sliced. Since arrays may be multidimensional, you must specify a slice for each dimension of the array:"
   ]
  },
  {
   "cell_type": "code",
   "execution_count": null,
   "metadata": {
    "id": "XVNWtWt_WKR_"
   },
   "outputs": [],
   "source": [
    "# Create the following rank 2 array with shape (3, 4)\n",
    "# [[ 1  2  3  4]\n",
    "#  [ 5  6  7  8]\n",
    "#  [ 9 10 11 12]]\n",
    "a = np.array([[1,2,3,4], [5,6,7,8], [9,10,11,12]])\n",
    "\n",
    "# Use slicing to pull out the subarray consisting of the first 2 rows\n",
    "# and columns 1 and 2; b is the following array of shape (2, 2):\n",
    "# [[2 3]\n",
    "#  [6 7]]\n",
    "b = a[:2, 1:3]\n",
    "\n",
    "# A slice of an array is a view into the same data, so modifying it\n",
    "# will modify the original array.\n",
    "print(a[0, 1])   # Prints \"2\"\n",
    "b[0, 0] = 77     # b[0, 0] is the same piece of data as a[0, 1]\n",
    "print(a[0, 1])   # Prints \"77\""
   ]
  },
  {
   "cell_type": "markdown",
   "metadata": {
    "id": "1F5mB7crWKR_"
   },
   "source": [
    "You can also mix integer indexing with slice indexing. However, doing so will yield an array of lower rank than the original array:"
   ]
  },
  {
   "cell_type": "code",
   "execution_count": null,
   "metadata": {
    "id": "xWFd9PbyWKSA"
   },
   "outputs": [],
   "source": [
    "# Create the following rank 2 array with shape (3, 4)\n",
    "# [[ 1  2  3  4]\n",
    "#  [ 5  6  7  8]\n",
    "#  [ 9 10 11 12]]\n",
    "a = np.array([[1,2,3,4], [5,6,7,8], [9,10,11,12]])\n",
    "\n",
    "# Two ways of accessing the data in the middle row of the array.\n",
    "# Mixing integer indexing with slices yields an array of lower rank,\n",
    "# while using only slices yields an array of the same rank as the\n",
    "# original array:\n",
    "row_r1 = a[1, :]    # Rank 1 view of the second row of a\n",
    "row_r2 = a[1:2, :]  # Rank 2 view of the second row of a\n",
    "print(row_r1, row_r1.shape)  # Prints \"[5 6 7 8] (4,)\"\n",
    "print(row_r2, row_r2.shape)  # Prints \"[[5 6 7 8]] (1, 4)\"\n",
    "\n",
    "# We can make the same distinction when accessing columns of an array:\n",
    "col_r1 = a[:, 1]\n",
    "col_r2 = a[:, 1:2]\n",
    "print(col_r1, col_r1.shape)  # Prints \"[ 2  6 10] (3,)\"\n",
    "print(col_r2, col_r2.shape)  # Prints \"[[ 2]\n",
    "                             #          [ 6]\n",
    "                             #          [10]] (3, 1)\""
   ]
  },
  {
   "cell_type": "markdown",
   "metadata": {
    "id": "BWJe42ZzWKSA"
   },
   "source": [
    "#### Integer array indexing\n",
    "\n",
    "When you index into numpy arrays using slicing, the resulting array view will always be a subarray of the original array. In contrast, integer array indexing allows you to construct arbitrary arrays using the data from another array. Here is an example:"
   ]
  },
  {
   "cell_type": "code",
   "execution_count": null,
   "metadata": {
    "id": "8bME80H_WKSB"
   },
   "outputs": [],
   "source": [
    "a = np.array([[1,2], [3, 4], [5, 6]])\n",
    "\n",
    "# An example of integer array indexing.\n",
    "# The returned array will have shape (3,) and\n",
    "print(a[[0, 1, 2], [0, 1, 0]])  # Prints \"[1 4 5]\"\n",
    "\n",
    "# The above example of integer array indexing is equivalent to this:\n",
    "print(np.array([a[0, 0], a[1, 1], a[2, 0]]))  # Prints \"[1 4 5]\"\n",
    "\n",
    "# When using integer array indexing, you can reuse the same\n",
    "# element from the source array:\n",
    "print(a[[0, 0], [1, 1]])  # Prints \"[2 2]\"\n",
    "\n",
    "# Equivalent to the previous integer array indexing example\n",
    "print(np.array([a[0, 1], a[0, 1]]))  # Prints \"[2 2]\""
   ]
  },
  {
   "cell_type": "markdown",
   "metadata": {
    "id": "Kcjct936WKSE"
   },
   "source": [
    "One useful trick with integer array indexing is selecting or mutating one element from each row of a matrix:"
   ]
  },
  {
   "cell_type": "code",
   "execution_count": null,
   "metadata": {
    "id": "P5UW9D2tWKSF"
   },
   "outputs": [],
   "source": [
    "# Create a new array from which we will select elements\n",
    "a = np.array([[1,2,3], [4,5,6], [7,8,9], [10, 11, 12]])\n",
    "\n",
    "print(a)  # prints \"array([[ 1,  2,  3],\n",
    "          #                [ 4,  5,  6],\n",
    "          #                [ 7,  8,  9],\n",
    "          #                [10, 11, 12]])\"\n",
    "\n",
    "# Create an array of indices\n",
    "b = np.array([0, 2, 0, 1])\n",
    "\n",
    "# Select one element from each row of a using the indices in b\n",
    "print(a[np.arange(4), b])  # Prints \"[ 1  6  7 11]\"\n",
    "\n",
    "# Mutate one element from each row of a using the indices in b\n",
    "a[np.arange(4), b] += 10\n",
    "\n",
    "print(a)  # prints \"array([[11,  2,  3],\n",
    "          #                [ 4,  5, 16],\n",
    "          #                [17,  8,  9],\n",
    "          #                [10, 21, 12]])"
   ]
  },
  {
   "cell_type": "markdown",
   "metadata": {
    "id": "ellIekboWKSH"
   },
   "source": [
    "#### Boolean array indexing \n",
    "\n",
    "Boolean array indexing lets you pick out arbitrary elements of an array. Frequently this type of indexing is used to select the elements of an array that satisfy some condition. Here is an example:"
   ]
  },
  {
   "cell_type": "code",
   "execution_count": null,
   "metadata": {
    "id": "BEBKkhaLWKSH"
   },
   "outputs": [],
   "source": [
    "a = np.array([[1,2], [3, 4], [5, 6]])\n",
    "\n",
    "bool_idx = (a > 2)   # Find the elements of a that are bigger than 2;\n",
    "                     # this returns a numpy array of Booleans of the same\n",
    "                     # shape as a, where each slot of bool_idx tells\n",
    "                     # whether that element of a is > 2.\n",
    "\n",
    "print(bool_idx)      # Prints \"[[False False]\n",
    "                     #          [ True  True]\n",
    "                     #          [ True  True]]\"\n",
    "\n",
    "# We use boolean array indexing to construct a rank 1 array\n",
    "# consisting of the elements of a corresponding to the True values\n",
    "# of bool_idx\n",
    "print(a[bool_idx])  # Prints \"[3 4 5 6]\"\n",
    "\n",
    "# We can do all of the above in a single concise statement:\n",
    "print(a[a > 2])     # Prints \"[3 4 5 6]\""
   ]
  },
  {
   "cell_type": "markdown",
   "metadata": {
    "id": "ddW5arpNWKSI"
   },
   "source": [
    "For brevity we have left out a lot of details about numpy array indexing; if you want to know more you should read the [documentation](https://docs.scipy.org/doc/numpy/reference/arrays.indexing.html)."
   ]
  },
  {
   "cell_type": "markdown",
   "metadata": {
    "id": "u2lHw5BsWKSI"
   },
   "source": [
    "### Datatypes"
   ]
  },
  {
   "cell_type": "markdown",
   "metadata": {
    "id": "n69riEsDWKSI"
   },
   "source": [
    "Every numpy array is a grid of elements of the same type. Numpy provides a large set of numeric datatypes that you can use to construct arrays. Numpy tries to guess a datatype when you create an array, but functions that construct arrays usually also include an optional argument to explicitly specify the datatype. Here is an example:"
   ]
  },
  {
   "cell_type": "code",
   "execution_count": null,
   "metadata": {
    "id": "j056PH3yWKSJ"
   },
   "outputs": [],
   "source": [
    "x = np.array([1, 2])   # Let numpy choose the datatype\n",
    "print(x.dtype)         # Prints \"int64\"\n",
    "\n",
    "x = np.array([1.0, 2.0])   # Let numpy choose the datatype\n",
    "print(x.dtype)             # Prints \"float64\"\n",
    "\n",
    "x = np.array([1, 2], dtype=np.int64)   # Force a particular datatype\n",
    "print(x.dtype)                         # Prints \"int64\""
   ]
  },
  {
   "cell_type": "markdown",
   "metadata": {
    "id": "V_Oie3GTWKSJ"
   },
   "source": [
    "You can read all about numpy datatypes in the [documentation](https://docs.scipy.org/doc/numpy/reference/arrays.dtypes.html)."
   ]
  },
  {
   "cell_type": "markdown",
   "metadata": {
    "id": "W6O03EaaWKSJ"
   },
   "source": [
    "### Array math"
   ]
  },
  {
   "cell_type": "markdown",
   "metadata": {
    "id": "_oImgJjgWKSK"
   },
   "source": [
    "Basic mathematical functions operate elementwise on arrays, and are available both as operator overloads and as functions in the numpy module:"
   ]
  },
  {
   "cell_type": "code",
   "execution_count": null,
   "metadata": {
    "id": "eXMzKEmiWKSK"
   },
   "outputs": [],
   "source": [
    "x = np.array([[1,2],[3,4]], dtype=np.float64)\n",
    "y = np.array([[5,6],[7,8]], dtype=np.float64)\n",
    "\n",
    "# Elementwise sum; both produce the array\n",
    "# [[ 6.0  8.0]\n",
    "#  [10.0 12.0]]\n",
    "print(x + y)\n",
    "print(np.add(x, y))\n",
    "\n",
    "# Elementwise difference; both produce the array\n",
    "# [[-4.0 -4.0]\n",
    "#  [-4.0 -4.0]]\n",
    "print(x - y)\n",
    "print(np.subtract(x, y))\n",
    "\n",
    "# Elementwise product; both produce the array\n",
    "# [[ 5.0 12.0]\n",
    "#  [21.0 32.0]]\n",
    "print(x * y)\n",
    "print(np.multiply(x, y))\n",
    "\n",
    "# Elementwise division; both produce the array\n",
    "# [[ 0.2         0.33333333]\n",
    "#  [ 0.42857143  0.5       ]]\n",
    "print(x / y)\n",
    "print(np.divide(x, y))\n",
    "\n",
    "# Elementwise square root; produces the array\n",
    "# [[ 1.          1.41421356]\n",
    "#  [ 1.73205081  2.        ]]\n",
    "print(np.sqrt(x))"
   ]
  },
  {
   "cell_type": "markdown",
   "metadata": {
    "id": "xDSCM-UoWKSL"
   },
   "source": [
    "We use the dot function to compute inner products of vectors, to multiply a vector by a matrix, and to multiply matrices. dot is available both as a function in the numpy module and as an instance method of array objects:"
   ]
  },
  {
   "cell_type": "code",
   "execution_count": null,
   "metadata": {
    "id": "v4NoMOoiWKSM"
   },
   "outputs": [],
   "source": [
    "x = np.array([[1,2],[3,4]])\n",
    "y = np.array([[5,6],[7,8]])\n",
    "\n",
    "v = np.array([9,10])\n",
    "w = np.array([11, 12])\n",
    "\n",
    "# Inner product of vectors; both produce 219\n",
    "print(v.dot(w))\n",
    "print(np.dot(v, w))\n",
    "\n",
    "# Matrix / vector product; both produce the rank 1 array [29 67]\n",
    "print(x.dot(v))\n",
    "print(np.dot(x, v))\n",
    "\n",
    "# Matrix / matrix product; both produce the rank 2 array\n",
    "# [[19 22]\n",
    "#  [43 50]]\n",
    "print(x.dot(y))\n",
    "print(np.dot(x, y))"
   ]
  },
  {
   "cell_type": "markdown",
   "metadata": {
    "id": "1D70_KurWKSM"
   },
   "source": [
    "Numpy provides many useful functions for performing computations on arrays; one of the most useful is `sum`:"
   ]
  },
  {
   "cell_type": "code",
   "execution_count": null,
   "metadata": {
    "id": "rV2-npEjWKSM"
   },
   "outputs": [],
   "source": [
    "x = np.array([[1,2],[3,4]])\n",
    "\n",
    "print(np.sum(x))  # Compute sum of all elements; prints \"10\"\n",
    "print(np.sum(x, axis=0))  # Compute sum of each column; prints \"[4 6]\"\n",
    "print(np.sum(x, axis=1))  # Compute sum of each row; prints \"[3 7]\""
   ]
  },
  {
   "cell_type": "markdown",
   "metadata": {
    "id": "S6CC77cnWKSN"
   },
   "source": [
    "You can find the full list of mathematical functions provided by numpy in the [documentation](https://docs.scipy.org/doc/numpy/reference/routines.math.html).\n",
    "\n",
    "Apart from computing mathematical functions using arrays, we frequently need to reshape or otherwise manipulate data in arrays. The simplest example of this type of operation is transposing a matrix; to transpose a matrix, simply use the T attribute of an array object:"
   ]
  },
  {
   "cell_type": "code",
   "execution_count": null,
   "metadata": {
    "id": "zDab1bssWKSN"
   },
   "outputs": [],
   "source": [
    "x = np.array([[1,2], [3,4]])\n",
    "print(x)    # Prints \"[[1 2]\n",
    "            #          [3 4]]\"\n",
    "print(x.T)  # Prints \"[[1 3]\n",
    "            #          [2 4]]\"\n",
    "\n",
    "# Note that taking the transpose of a rank 1 array does nothing:\n",
    "v = np.array([1,2,3])\n",
    "print(v)    # Prints \"[1 2 3]\"\n",
    "print(v.T)  # Prints \"[1 2 3]\""
   ]
  },
  {
   "cell_type": "markdown",
   "metadata": {
    "id": "7sYNo5d-WKSO"
   },
   "source": [
    "Numpy provides many more functions for manipulating arrays; you can see the full list in the [documentation](https://docs.scipy.org/doc/numpy/reference/routines.array-manipulation.html)."
   ]
  },
  {
   "cell_type": "markdown",
   "metadata": {
    "id": "fuld54y4WKSO"
   },
   "source": [
    "### Broadcasting"
   ]
  },
  {
   "cell_type": "markdown",
   "metadata": {
    "id": "MWTOmS2FWKSP"
   },
   "source": [
    "Broadcasting is a powerful mechanism that allows numpy to work with arrays of different shapes when performing arithmetic operations. Frequently we have a smaller array and a larger array, and we want to use the smaller array multiple times to perform some operation on the larger array.\n",
    "\n",
    "For example, suppose that we want to add a constant vector to each row of a matrix. We could do it like this:"
   ]
  },
  {
   "cell_type": "code",
   "execution_count": null,
   "metadata": {
    "id": "FhNRmwXKWKSP"
   },
   "outputs": [],
   "source": [
    "# We will add the vector v to each row of the matrix x,\n",
    "# storing the result in the matrix y\n",
    "x = np.array([[1,2,3], [4,5,6], [7,8,9], [10, 11, 12]])\n",
    "v = np.array([1, 0, 1])\n",
    "y = np.empty_like(x)   # Create an empty matrix with the same shape as x\n",
    "\n",
    "# Add the vector v to each row of the matrix x with an explicit loop\n",
    "for i in range(4):\n",
    "    y[i, :] = x[i, :] + v\n",
    "\n",
    "# Now y is the following\n",
    "# [[ 2  2  4]\n",
    "#  [ 5  5  7]\n",
    "#  [ 8  8 10]\n",
    "#  [11 11 13]]\n",
    "print(y)"
   ]
  },
  {
   "cell_type": "markdown",
   "metadata": {
    "id": "z_Lk23RrWKSQ"
   },
   "source": [
    "This works; however when the matrix `x` is very large, computing an explicit loop in Python could be slow. Note that adding the vector `v` to each row of the matrix `x` is equivalent to forming a matrix `vv` by stacking multiple copies of `v` vertically, then performing elementwise summation of `x` and `vv`. We could implement this approach like this:"
   ]
  },
  {
   "cell_type": "code",
   "execution_count": null,
   "metadata": {
    "id": "FLw5y_KoWKSQ"
   },
   "outputs": [],
   "source": [
    "# We will add the vector v to each row of the matrix x,\n",
    "# storing the result in the matrix y\n",
    "x = np.array([[1,2,3], [4,5,6], [7,8,9], [10, 11, 12]])\n",
    "v = np.array([1, 0, 1])\n",
    "vv = np.tile(v, (4, 1))   # Stack 4 copies of v on top of each other\n",
    "print(vv)                 # Prints \"[[1 0 1]\n",
    "                          #          [1 0 1]\n",
    "                          #          [1 0 1]\n",
    "                          #          [1 0 1]]\"\n",
    "y = x + vv  # Add x and vv elementwise\n",
    "print(y)  # Prints \"[[ 2  2  4\n",
    "          #          [ 5  5  7]\n",
    "          #          [ 8  8 10]\n",
    "          #          [11 11 13]]\""
   ]
  },
  {
   "cell_type": "markdown",
   "metadata": {
    "id": "4zIopNHsWKSR"
   },
   "source": [
    "Numpy broadcasting allows us to perform this computation without actually creating multiple copies of `v`. Consider this version, using broadcasting:"
   ]
  },
  {
   "cell_type": "code",
   "execution_count": null,
   "metadata": {
    "id": "XlD0dy8iWKSR"
   },
   "outputs": [],
   "source": [
    "# We will add the vector v to each row of the matrix x,\n",
    "# storing the result in the matrix y\n",
    "x = np.array([[1,2,3], [4,5,6], [7,8,9], [10, 11, 12]])\n",
    "v = np.array([1, 0, 1])\n",
    "y = x + v  # Add v to each row of x using broadcasting\n",
    "print(y)  # Prints \"[[ 2  2  4]\n",
    "          #          [ 5  5  7]\n",
    "          #          [ 8  8 10]\n",
    "          #          [11 11 13]]\""
   ]
  },
  {
   "cell_type": "markdown",
   "metadata": {
    "id": "U9sJAgKBWKSS"
   },
   "source": [
    "The line `y = x + v` works even though `x` has shape `(4, 3)` and `v` has shape `(3,)` due to broadcasting; this line works as if `v` actually had shape `(4, 3)`, where each row was a copy of `v`, and the sum was performed elementwise.\n",
    "\n",
    "Broadcasting two arrays together follows these rules:\n",
    "\n",
    "If the arrays do not have the same rank, prepend the shape of the lower rank array with 1s until both shapes have the same length.\n",
    "The two arrays are said to be compatible in a dimension if they have the same size in the dimension, or if one of the arrays has size 1 in that dimension.\n",
    "The arrays can be broadcast together if they are compatible in all dimensions.\n",
    "After broadcasting, each array behaves as if it had shape equal to the elementwise maximum of shapes of the two input arrays.\n",
    "In any dimension where one array had size 1 and the other array had size greater than 1, the first array behaves as if it were copied along that dimension\n",
    "If this explanation does not make sense, try reading the explanation from the [documentation](https://docs.scipy.org/doc/numpy/user/basics.broadcasting.html) or this [explanation](https://numpy.org/devdocs/user/theory.broadcasting.html).\n",
    "\n",
    "Functions that support broadcasting are known as universal functions. You can find the list of all universal functions in the [documentation](https://docs.scipy.org/doc/numpy/reference/ufuncs.html#available-ufuncs).\n",
    "\n",
    "Here are some applications of broadcasting:"
   ]
  },
  {
   "cell_type": "code",
   "execution_count": null,
   "metadata": {
    "id": "61nwixDfWKST"
   },
   "outputs": [],
   "source": [
    "# Compute outer product of vectors\n",
    "v = np.array([1,2,3])  # v has shape (3,)\n",
    "w = np.array([4,5])    # w has shape (2,)\n",
    "# To compute an outer product, we first reshape v to be a column\n",
    "# vector of shape (3, 1); we can then broadcast it against w to yield\n",
    "# an output of shape (3, 2), which is the outer product of v and w:\n",
    "# [[ 4  5]\n",
    "#  [ 8 10]\n",
    "#  [12 15]]\n",
    "print(np.reshape(v, (3, 1)) * w)\n",
    "\n",
    "# Add a vector to each row of a matrix\n",
    "x = np.array([[1,2,3], [4,5,6]])\n",
    "# x has shape (2, 3) and v has shape (3,) so they broadcast to (2, 3),\n",
    "# giving the following matrix:\n",
    "# [[2 4 6]\n",
    "#  [5 7 9]]\n",
    "print(x + v)\n",
    "\n",
    "# Add a vector to each column of a matrix\n",
    "# x has shape (2, 3) and w has shape (2,).\n",
    "# If we transpose x then it has shape (3, 2) and can be broadcast\n",
    "# against w to yield a result of shape (3, 2); transposing this result\n",
    "# yields the final result of shape (2, 3) which is the matrix x with\n",
    "# the vector w added to each column. Gives the following matrix:\n",
    "# [[ 5  6  7]\n",
    "#  [ 9 10 11]]\n",
    "print((x.T + w).T)\n",
    "# Another solution is to reshape w to be a column vector of shape (2, 1);\n",
    "# we can then broadcast it directly against x to produce the same\n",
    "# output.\n",
    "print(x + np.reshape(w, (2, 1)))\n",
    "\n",
    "# Multiply a matrix by a constant:\n",
    "# x has shape (2, 3). Numpy treats scalars as arrays of shape ();\n",
    "# these can be broadcast together to shape (2, 3), producing the\n",
    "# following array:\n",
    "# [[ 2  4  6]\n",
    "#  [ 8 10 12]]\n",
    "print(x * 2)"
   ]
  },
  {
   "cell_type": "markdown",
   "metadata": {
    "id": "REL7CA21WKSU"
   },
   "source": [
    "Broadcasting typically makes your code more concise and faster, so you should strive to use it where possible."
   ]
  },
  {
   "cell_type": "markdown",
   "metadata": {
    "id": "AeYhJt6_WKSV"
   },
   "source": [
    "This brief overview has touched on many of the important things that you need to know about numpy, but is far from complete. Check out the [numpy reference](https://docs.scipy.org/doc/numpy/reference/) to find out much more about numpy."
   ]
  },
  {
   "cell_type": "markdown",
   "metadata": {
    "id": "r0_WmUyYBhse"
   },
   "source": [
    "## Iterators\n",
    "\n",
    "Iterators are objects that contain countable number of values. Iterators can traverse the different structures like list, dictionaries, tuples, strings and sets etc through their values. The structures on which iterators can iterate on are called **iterable objects**. For example, we will make a list and return iterator from it.The `next()` function on iterator is called to get the next item from iterator."
   ]
  },
  {
   "cell_type": "code",
   "execution_count": null,
   "metadata": {
    "id": "Il9UycHDC5zY"
   },
   "outputs": [],
   "source": [
    "mylist = ['blue', 'orange', 'green', 'yellow']  ## create a list 'mylist'\n",
    "itr = iter(mylist)  ## create an iterator of mylist using iter() function\n",
    "print(next(itr))  ## print 1st element of mylist\n",
    "print(next(itr))  ## print 2nd element of mylist\n",
    "print(next(itr))  ## print 3rd element of mylist\n",
    "print(next(itr))  ## print 4rth element of mylist"
   ]
  },
  {
   "cell_type": "markdown",
   "metadata": {
    "id": "ZHTOpnsbG1SC"
   },
   "source": [
    "## Zip in Python\n",
    "Zip function returns a zip object which is an iterator of tuples where first tuple represent the first enteries of the two passed tuples paired together, second tuple represents the second entries of passed tuples paired together and so on.\n",
    "Example below shows two tuples `a` and `b` passed as input to `zip` function to zip respective entries together.\n"
   ]
  },
  {
   "cell_type": "code",
   "execution_count": null,
   "metadata": {
    "id": "tegAs3CVNEAG"
   },
   "outputs": [],
   "source": [
    "a = ('2', '3', '4', '5', '6')  ## create tuple 'a'\n",
    "b = ('4', '9', '16', '25', '36')  ## create b tuple 'b'\n",
    "z = zip(a,b) ## zip both tuples \n",
    "print(tuple(z)) ## print zip result. Will print (('2', '4'), ('3', '9'), ('4', '16'), ('5', '25'), ('6', '36'))"
   ]
  },
  {
   "cell_type": "markdown",
   "metadata": {
    "id": "YHuVQrcoQtSW"
   },
   "source": [
    "### Zip Lists\n",
    "\n",
    "Zip can also be used to zip entries of two lists together. Example is given below:"
   ]
  },
  {
   "cell_type": "code",
   "execution_count": null,
   "metadata": {
    "id": "axC--DuyN6K2"
   },
   "outputs": [],
   "source": [
    "a = ['l1', 'l2', 'l3', 'l4', 'l5'] ## create list 'a'\n",
    "b = ['s1', 's2', 's3', 's4', 's5'] ## create tuple 'b'\n",
    "z = zip(a,b) ## zip both lists \n",
    "print(list(z))## print zip result. Will print [('l1', 's1'), ('l2', 's2'), ('l3', 's3'), ('l4', 's4'), ('l5', 's5')]"
   ]
  },
  {
   "cell_type": "markdown",
   "metadata": {
    "id": "vQMZ4_3ZNtnO"
   },
   "source": [
    "### Zip Lists to a dictionary\n",
    "We can zip entries of two lists together to form a dictionary. Given an example below use `zip` and `dict` functions. `dict` converts zip iterator to a dictionary."
   ]
  },
  {
   "cell_type": "code",
   "execution_count": null,
   "metadata": {
    "id": "6qmO3agSPV_4"
   },
   "outputs": [],
   "source": [
    "stocks = ['Alphabet C', 'VCPlus', 'TCS']  ## create list 'stocks'\n",
    "prices = [3452, 1127, 2750]  ## create list 'prices'\n",
    "dictionary = dict(zip(stocks, prices))   ## zip the two lists and convert zip object to a dictionary using dict()\n",
    "print(dictionary) ## print dictionary {'Alphabet C': 3452, 'VCPlus': 1127, 'TCS': 2750}"
   ]
  },
  {
   "cell_type": "markdown",
   "metadata": {
    "id": "jsQjzDRDTgnI"
   },
   "source": [
    "To read more on zip built-in function, refer to [documentation](https://docs.python.org/3/library/functions.html#zip) here."
   ]
  },
  {
   "cell_type": "markdown",
   "metadata": {
    "id": "IoCBqMS9WKSW"
   },
   "source": [
    "## Matplotlib"
   ]
  },
  {
   "cell_type": "markdown",
   "metadata": {
    "id": "6fcef1L8WKSW"
   },
   "source": [
    "[Matplotlib](https://matplotlib.org/) is a plotting library. In this section give a brief introduction to the `matplotlib.pyplot` module, which provides a plotting system similar to that of MATLAB."
   ]
  },
  {
   "cell_type": "code",
   "execution_count": null,
   "metadata": {
    "id": "aa1Qp-9cWKSX"
   },
   "outputs": [],
   "source": [
    "import matplotlib.pyplot as plt"
   ]
  },
  {
   "cell_type": "markdown",
   "metadata": {
    "id": "v9jjd93vWKSX"
   },
   "source": [
    "By running this special iPython command, we will be displaying plots inline:"
   ]
  },
  {
   "cell_type": "code",
   "execution_count": null,
   "metadata": {
    "id": "o0Fb-dJSWKSY"
   },
   "outputs": [],
   "source": [
    "%matplotlib inline"
   ]
  },
  {
   "cell_type": "markdown",
   "metadata": {
    "id": "Y70GeIJgWKSZ"
   },
   "source": [
    "### Plotting"
   ]
  },
  {
   "cell_type": "markdown",
   "metadata": {
    "id": "gjV_pGftWKSZ"
   },
   "source": [
    "The most important function in `matplotlib` is `plot`, which allows you to plot 2D data. Here is a simple example:"
   ]
  },
  {
   "cell_type": "code",
   "execution_count": null,
   "metadata": {
    "colab": {
     "base_uri": "https://localhost:8080/",
     "height": 265
    },
    "executionInfo": {
     "elapsed": 85,
     "status": "ok",
     "timestamp": 1632761731859,
     "user": {
      "displayName": "Eman Gpu",
      "photoUrl": "https://lh3.googleusercontent.com/a/default-user=s64",
      "userId": "10062528383135308282"
     },
     "user_tz": -300
    },
    "id": "Yu4-N8n-WKSa",
    "outputId": "80652f49-7a8c-44cf-c895-f93070979a69"
   },
   "outputs": [],
   "source": [
    "# Compute the x and y coordinates for points on a sine curve\n",
    "x = np.arange(0, 3 * np.pi, 0.1)\n",
    "y = np.sin(x)\n",
    "\n",
    "# Plot the points using matplotlib\n",
    "plt.plot(x, y)\n",
    "plt.show()  # You must call plt.show() to make graphics appear."
   ]
  },
  {
   "cell_type": "markdown",
   "metadata": {
    "id": "hPg7iOcwWKSa"
   },
   "source": [
    "With just a little bit of extra work we can easily plot multiple lines at once, and add a title, legend, and axis labels:"
   ]
  },
  {
   "cell_type": "code",
   "execution_count": null,
   "metadata": {
    "colab": {
     "base_uri": "https://localhost:8080/",
     "height": 295
    },
    "executionInfo": {
     "elapsed": 698,
     "status": "ok",
     "timestamp": 1632761734439,
     "user": {
      "displayName": "Eman Gpu",
      "photoUrl": "https://lh3.googleusercontent.com/a/default-user=s64",
      "userId": "10062528383135308282"
     },
     "user_tz": -300
    },
    "id": "65z3ngzCWKSa",
    "outputId": "ee49eedb-7330-431c-9d37-3f3ce438dc0b"
   },
   "outputs": [],
   "source": [
    "# Compute the x and y coordinates for points on sine and cosine curves\n",
    "x = np.arange(0, 3 * np.pi, 0.1)\n",
    "y_sin = np.sin(x)\n",
    "y_cos = np.cos(x)\n",
    "\n",
    "# Plot the points using matplotlib\n",
    "plt.plot(x, y_sin)\n",
    "plt.plot(x, y_cos)\n",
    "plt.xlabel('x axis label')\n",
    "plt.ylabel('y axis label')\n",
    "plt.title('Sine and Cosine')\n",
    "plt.legend(['Sine', 'Cosine'])\n",
    "plt.show()"
   ]
  },
  {
   "cell_type": "markdown",
   "metadata": {
    "id": "BXdl9cX1WKSb"
   },
   "source": [
    "You can read much more about the `plot` function in the [documentation](https://matplotlib.org/api/pyplot_api.html#matplotlib.pyplot.plot)."
   ]
  },
  {
   "cell_type": "markdown",
   "metadata": {
    "id": "yjv8odw0WKSb"
   },
   "source": [
    "### Subplots "
   ]
  },
  {
   "cell_type": "markdown",
   "metadata": {
    "id": "9t2sZt62WKSc"
   },
   "source": [
    "You can plot different things in the same figure using the subplot function. Here is an example:"
   ]
  },
  {
   "cell_type": "code",
   "execution_count": null,
   "metadata": {
    "colab": {
     "base_uri": "https://localhost:8080/",
     "height": 281
    },
    "executionInfo": {
     "elapsed": 471,
     "status": "ok",
     "timestamp": 1632764801722,
     "user": {
      "displayName": "Eman Gpu",
      "photoUrl": "https://lh3.googleusercontent.com/a/default-user=s64",
      "userId": "10062528383135308282"
     },
     "user_tz": -300
    },
    "id": "XuTfX3CcWKSc",
    "outputId": "a17df40b-a68b-44f9-e785-3109ba6607ed"
   },
   "outputs": [],
   "source": [
    "# Compute the x and y coordinates for points on sine and cosine curves\n",
    "x = np.arange(0, 3 * np.pi, 0.1)\n",
    "y_sin = np.sin(x)\n",
    "y_cos = np.cos(x)\n",
    "\n",
    "# Set up a subplot grid that has height 2 and width 1,\n",
    "# and set the first such subplot as active.\n",
    "plt.subplot(2, 1, 1)\n",
    "\n",
    "# Make the first plot\n",
    "plt.plot(x, y_sin)\n",
    "plt.title('Sine')\n",
    "\n",
    "# Set the second subplot as active, and make the second plot.\n",
    "plt.subplot(2, 1, 2)\n",
    "plt.plot(x, y_cos)\n",
    "plt.title('Cosine')\n",
    "\n",
    "# Show the figure.\n",
    "plt.show()"
   ]
  },
  {
   "cell_type": "markdown",
   "metadata": {
    "id": "2WRJ69zXWKSc"
   },
   "source": [
    "You can read much more about the `subplot` function in the [documentation](https://matplotlib.org/api/pyplot_api.html#matplotlib.pyplot.subplot)."
   ]
  },
  {
   "cell_type": "markdown",
   "metadata": {
    "id": "drzsBrKVaYcv"
   },
   "source": [
    "## Regex\n",
    "\n",
    "A regular expression (or RE) specifies a set of strings that matches it; the functions in this module let you check if a particular string matches a given regular expression (or if a given regular expression matches a particular string, which comes down to the same thing). Regex may involve metacharaters/Sequences/Sets that form a search pattern.\n",
    "\n",
    "1. `^` matches the start of the string\n",
    "2. `*` matches zero or more number of repitions of preceding Regular expression.\n",
    "3.  `$` matches the end of string with given sequence.\n",
    "4.  `\\d`\tReturns a match where the string contains digits (numbers from 0-9)\n",
    "5.  `\\s` returns a match where the string contains a white space character\n",
    "6.  `[a-n]` returns a match for any lower case character, alphabetically between a and n.\n",
    "7.  `[0-9]` returns a match for any digit between 0 and 9\n",
    "\n",
    "Complete list of sequences can be found [here](https://docs.python.org/3/library/re.html)\n",
    "\n",
    "To use Regex, we first need to import the package."
   ]
  },
  {
   "cell_type": "code",
   "execution_count": null,
   "metadata": {
    "id": "U7nvlhLtcBwX"
   },
   "outputs": [],
   "source": [
    "import re"
   ]
  },
  {
   "cell_type": "markdown",
   "metadata": {
    "id": "QqyKqSrlcpMY"
   },
   "source": [
    "This package offers variety of different functions which can be used to find patterns in the string."
   ]
  },
  {
   "cell_type": "markdown",
   "metadata": {
    "id": "0-LpOKUheedf"
   },
   "source": [
    "###FindAll()\n",
    "This method is used to print a list of all the matches of given string. If no matches are found then an empty list is returned. Following examples will explain:"
   ]
  },
  {
   "cell_type": "code",
   "execution_count": null,
   "metadata": {
    "id": "hjnI4JNIccGV"
   },
   "outputs": [],
   "source": [
    "txt = \"Its been an energetic day today.\"\n",
    "x = re.findall(\"day\", txt) ## find all instances of string 'day' in txt string\n",
    "print(x) ## print all occurences if exist"
   ]
  },
  {
   "cell_type": "code",
   "execution_count": null,
   "metadata": {
    "id": "TgXqKIUof3UX"
   },
   "outputs": [],
   "source": [
    "txt = \"from\"\n",
    "x = \"We are going there tomorrow.\"\n",
    "x = re.findall(\"is\", txt) ## find all instances of string 'is' in txt string\n",
    "print(x) ## print empty string since no such instances exist"
   ]
  },
  {
   "cell_type": "markdown",
   "metadata": {
    "id": "VNGPR3MDhis_"
   },
   "source": [
    "### Split()\n",
    "Split function is used to return a list where there the string has been split at each match. In example below, regular expression `\\s` splits the string at each white space character."
   ]
  },
  {
   "cell_type": "code",
   "execution_count": null,
   "metadata": {
    "id": "uQnxudvzi16a"
   },
   "outputs": [],
   "source": [
    "txt = \"We are going to a park.\"\n",
    "x = re.split(\"\\s\", txt)\n",
    "print(x)\n"
   ]
  },
  {
   "cell_type": "markdown",
   "metadata": {
    "id": "oKX76GaAjHVT"
   },
   "source": [
    "We can control the maximum number of splits by providing `maxsplit` parameter. In example below, only first 2 splits occurences will be found and returned as list."
   ]
  },
  {
   "cell_type": "code",
   "execution_count": null,
   "metadata": {
    "id": "mJY_i5e0i2yz"
   },
   "outputs": [],
   "source": [
    "txt = \"We are going to a park.\"\n",
    "x = re.split(\"\\s\", txt, 2)\n",
    "print(x)"
   ]
  },
  {
   "cell_type": "markdown",
   "metadata": {
    "id": "Q2MH7_GpkArR"
   },
   "source": [
    "### Sub()\n",
    "The sub() function replaces the matches with the text of your choice. For example, [0-9] regex will replace digits with given string."
   ]
  },
  {
   "cell_type": "code",
   "execution_count": null,
   "metadata": {
    "colab": {
     "base_uri": "https://localhost:8080/"
    },
    "executionInfo": {
     "elapsed": 410,
     "status": "ok",
     "timestamp": 1632385567896,
     "user": {
      "displayName": "Eman Gpu",
      "photoUrl": "https://lh3.googleusercontent.com/a/default-user=s64",
      "userId": "10062528383135308282"
     },
     "user_tz": -300
    },
    "id": "P86p7D0xjWMY",
    "outputId": "990b273a-82e0-4049-957a-c113ee4c10ac"
   },
   "outputs": [],
   "source": [
    "txt = \"Some digits like 100 and 490 are replaced.\"\n",
    "x = re.sub(\"[0-9]\", \"-\", txt)\n",
    "print(x) "
   ]
  },
  {
   "cell_type": "markdown",
   "metadata": {
    "id": "uKpK2z16x47W"
   },
   "source": [
    "### Search()\n",
    "Returns a Match object if there is a match anywhere in the string.\n",
    "Using this method, the regular expression in given example looks for any words that starts with an upper case \"S\":"
   ]
  },
  {
   "cell_type": "code",
   "execution_count": null,
   "metadata": {
    "id": "MxuFolNDwtl2"
   },
   "outputs": [],
   "source": [
    "txt = \"The rain in Spain.\"\n",
    "x = re.search(r\"\\bS\\w+\", txt)\n",
    "print(x) ## prints match object\n",
    "print(x.group()) ## prints a tuple containing all the subgroups of the match,"
   ]
  },
  {
   "cell_type": "markdown",
   "metadata": {
    "id": "5RsNIii2ynoR"
   },
   "source": [
    "## Reading from the File"
   ]
  },
  {
   "cell_type": "code",
   "execution_count": null,
   "metadata": {
    "id": "MIqG127jaILZ",
    "scrolled": true
   },
   "outputs": [],
   "source": [
    "import pandas as pd\n",
    "data = pd.read_csv('https://raw.githubusercontent.com/daniaahmad13/Dataset/main/StudentsPerformance.csv')\n",
    "data.head()\n"
   ]
  },
  {
   "cell_type": "markdown",
   "metadata": {},
   "source": [
    "To filter pandas dataframe based on a value from a column"
   ]
  },
  {
   "cell_type": "code",
   "execution_count": null,
   "metadata": {},
   "outputs": [],
   "source": [
    "new_df = data.loc[data['race/ethnicity'] == \"group C\"]\n",
    "new_df.head()"
   ]
  },
  {
   "cell_type": "markdown",
   "metadata": {
    "id": "ldoTPKRXhDB3"
   },
   "source": [
    "## Writing to a File"
   ]
  },
  {
   "cell_type": "code",
   "execution_count": null,
   "metadata": {
    "id": "KVXr3o7Vgqmy"
   },
   "outputs": [],
   "source": [
    "#open the file in the append mode as the write mode overwrites the first line\n",
    "file1 = open(\"myfile.txt\",\"a\")\n",
    "file1.write(\"Today \\n\")\n",
    "file1.close()"
   ]
  },
  {
   "cell_type": "markdown",
   "metadata": {
    "id": "TCOCfpWOp1qo"
   },
   "source": [
    "## Scikit Learn\n",
    "\n",
    "Scikit-learn, commonly known as sklearn, is a free Machine Learning library for the Python programming language. It offers numerous classification, regression, and clustering algorithms, including K-Means, Linear Regression, Logistic Regression, Naive Bayes and State Vector Machines, etc. Moreover, it supports tasks such as feature extraction, feature selection, model evaluation, model selection, parameter tuning, etc. \n",
    "\n",
    "Sklearn is a widely used library due to numerous reasons, such as:\n",
    "\n",
    "1.   It is easy to learn and use.\n",
    "2.   It covers all aspects of Machine Learning.\n",
    "3.   It is very versatile and powerful.\n",
    "4.   It is very versatile and powerful.\n",
    "5.   It is an open-source library with an active community and detailed documentation.\n",
    "\n",
    "\n",
    "More information regarding Sklearn, including its implementation, can be found [here](https://scikit-learn.org/stable/).\n"
   ]
  },
  {
   "cell_type": "markdown",
   "metadata": {
    "id": "60c4war2HIAr"
   },
   "source": [
    "## Questions\n",
    "Solve some of the questions below to get more clear understanding of python basics:"
   ]
  },
  {
   "cell_type": "markdown",
   "metadata": {
    "id": "J8Cr9I0fRCdG"
   },
   "source": [
    "**Q1: Write the code to determine the parity (`even` or `odd`) of a given number.**             \n",
    "\n",
    "[3 marks]"
   ]
  },
  {
   "cell_type": "code",
   "execution_count": null,
   "metadata": {
    "id": "tQ8eUq_vRjMj"
   },
   "outputs": [],
   "source": [
    "### write code here...\n",
    "def check_parity(number):\n",
    "    return False\n",
    "        \n",
    "print(check_parity(3))\n",
    "print(check_parity(4))\n",
    "    "
   ]
  },
  {
   "cell_type": "markdown",
   "metadata": {
    "id": "pB2VBGtgH0sA"
   },
   "source": [
    "**Q2: For the given list of strings, check if the length of the string is even or odd. Print \"`even`\" or \"`odd`\" accordingly.** [3 marks]"
   ]
  },
  {
   "cell_type": "code",
   "execution_count": null,
   "metadata": {
    "id": "9bzTD62FH0sE"
   },
   "outputs": [],
   "source": [
    "x = ['mangos', 'apple', 'watermelon', 'آڑو', 'انار']\n",
    "### write code here...\n"
   ]
  },
  {
   "cell_type": "markdown",
   "metadata": {
    "id": "HuEAV1tiRpB0"
   },
   "source": [
    "**Q3: Write a code to reverse the string \"HAIKYU!!\" using indexing.** [2 marks]"
   ]
  },
  {
   "cell_type": "code",
   "execution_count": null,
   "metadata": {
    "id": "Fmv2vpowRuPO"
   },
   "outputs": [],
   "source": [
    "### write code here...\n",
    "str1 = \"HAIKYU!!\"\n",
    "## Revers the string\n",
    "print(str1)"
   ]
  },
  {
   "cell_type": "markdown",
   "metadata": {
    "id": "w9uN3aQbldUr"
   },
   "source": [
    "**Q4: For numbers in range 1 to 150, return a list of those that are multiple of 4 but not 6 using list comprehension .**  [3 marks]"
   ]
  },
  {
   "cell_type": "code",
   "execution_count": null,
   "metadata": {
    "id": "oMz2wfz5lcHG"
   },
   "outputs": [],
   "source": [
    "### write code here...\n",
    "def m4not6():\n",
    "    pass\n",
    "print(m4not6())"
   ]
  },
  {
   "cell_type": "markdown",
   "metadata": {
    "id": "nIbpYb6Q2hEV"
   },
   "source": [
    "**Q5: Generate two numpy arrays x and y of 20 random integers between [1,6], compute a new array where each element is the square root of sum of corresponding entries in x and y. Use broadcasting in this question**. [5 marks]\n",
    "\n",
    "For example: x =[1,2,0] , y =[3,4,5] \n",
    "Result: [2, 2.449, 2.236]"
   ]
  },
  {
   "cell_type": "code",
   "execution_count": null,
   "metadata": {
    "id": "xISKdth141iq"
   },
   "outputs": [],
   "source": [
    "import numpy as np\n",
    "\n",
    "### write code here...\n"
   ]
  },
  {
   "cell_type": "markdown",
   "metadata": {
    "id": "YvUa7J2tK-Y6"
   },
   "source": [
    "**Q6: Given two dictionaries of ids and imdb rating, write a function to return a dictionary where keys are movie ids and values are a list containing the corresponding movie name and the imdb rating.** [5 marks]\n"
   ]
  },
  {
   "cell_type": "code",
   "execution_count": null,
   "metadata": {
    "id": "B6CKH7EkLNeP"
   },
   "outputs": [],
   "source": [
    "from collections import defaultdict\n",
    "ids = {4: 'The Godfather', 2: 'The Dark Knight', 1: 'The Lord of The Rings', 3: 'Inception', 5: 'The Matrix'} ## keys are movie ids and values are movie names\n",
    "imdb_ratings = {2: 9.0, 1: 8.9, 3: 8.7, 5: 8.7, 4: 9.2}  ## keys are movie ids and values are imdb ratings\n",
    "\n",
    "### write code here..\n"
   ]
  },
  {
   "cell_type": "markdown",
   "metadata": {
    "id": "c6MuT8TYLnvv"
   },
   "source": [
    "**Q7: Given a numpy array `x`, write a function to find all negative elements and replace them with their squares. Use boolean indexing.** [3 marks]"
   ]
  },
  {
   "cell_type": "code",
   "execution_count": null,
   "metadata": {
    "id": "tWEfvOzhLjER"
   },
   "outputs": [],
   "source": [
    "x = np.array([[5,-1,2],[-5,-2,12],[5,-15,-10]])\n",
    "### write code here...\n"
   ]
  },
  {
   "cell_type": "markdown",
   "metadata": {
    "id": "OKej-1UHSAbf"
   },
   "source": [
    "**Q8: Write a function which takes that numpy array as input and returns the following:**  [3 marks]\n",
    " \n",
    "\n",
    "1.   Maximum value in the array\n",
    "2.   Standard Deviation\n",
    "3.   Sum of all the elements in the array\n",
    "\n",
    "\n",
    "\n",
    "\n",
    "\n"
   ]
  },
  {
   "cell_type": "code",
   "execution_count": null,
   "metadata": {
    "id": "Y70Mv7HISUOl"
   },
   "outputs": [],
   "source": [
    "x = np.array([[5,-10,71,-5],[-10,41,-82,5],[5,5,-1,-55]])\n",
    "### write code here...\n",
    "def get_arr_stats(x):\n",
    "    return np.amax(x), np.std(x), np.sum(x)\n",
    "    \n",
    "print(get_arr_stats(x))"
   ]
  },
  {
   "cell_type": "markdown",
   "metadata": {
    "id": "GyE7f5cdSjme"
   },
   "source": [
    "**Q9: Write a Python function that accepts a string and calculates the number of upper case letters and lower case letters.**   [3 marks]\n",
    "\n"
   ]
  },
  {
   "cell_type": "code",
   "execution_count": null,
   "metadata": {
    "id": "iPawA5zjSqJ5"
   },
   "outputs": [],
   "source": [
    "str = \"I am Batman. Dun Dun Dun!\"\n",
    "### write code here...\n",
    "def upper_lower_len(s):\n",
    "    pass\n",
    "    \n",
    "print(upper_lower_len(str))"
   ]
  },
  {
   "cell_type": "markdown",
   "metadata": {
    "id": "vGhdJEBISz0T"
   },
   "source": [
    "**Q10: Write a function that prints the integers from 1 to 150. But for multiples of five, print \"Na Na Na\" instead of the number, and for the multiples of six print \"Batman\". For numbers which are multiples of both five and six print \"Na Na Na Batman\".**   [3 marks]"
   ]
  },
  {
   "cell_type": "code",
   "execution_count": null,
   "metadata": {
    "id": "1rXLf2KWS74A"
   },
   "outputs": [],
   "source": [
    "### write code here...\n"
   ]
  },
  {
   "cell_type": "markdown",
   "metadata": {
    "id": "xADW_rCrTE1W"
   },
   "source": [
    "**Q11: Write a function, `calculateSum(l,k)` which will take a list, `l` and a number `k` as input and return two numbers from `l` that add up to `k`.**   [5 marks]"
   ]
  },
  {
   "cell_type": "code",
   "execution_count": null,
   "metadata": {
    "id": "Vgrax_Z-TIax"
   },
   "outputs": [],
   "source": [
    "l = [5, 1, 10, 22, 14, 2, 66]\n",
    "k = 32\n",
    "### write code here...\n",
    "def calculateSum(l,k):\n",
    "    pass\n",
    "\n",
    "calculateSum(l,k)"
   ]
  },
  {
   "cell_type": "markdown",
   "metadata": {
    "id": "rz4skoNTTPab"
   },
   "source": [
    "**Q12: Write a function, `find_superhero`  that receives the superhero dictionary and a team name, and returns a list with names in sorted order of all superheros whose team matches the team in the argument.**   [5 marks]"
   ]
  },
  {
   "cell_type": "code",
   "execution_count": null,
   "metadata": {
    "colab": {
     "base_uri": "https://localhost:8080/"
    },
    "executionInfo": {
     "elapsed": 576,
     "status": "ok",
     "timestamp": 1632827337892,
     "user": {
      "displayName": "Dania Ahmad",
      "photoUrl": "https://lh3.googleusercontent.com/a/default-user=s64",
      "userId": "09643934378086205076"
     },
     "user_tz": -300
    },
    "id": "C0MZwcLLTUQP",
    "outputId": "34cea024-ac17-4385-e8f7-e581075c94c2"
   },
   "outputs": [],
   "source": [
    "def find_superheros(team, superheros):\n",
    "    pass\n",
    "\n",
    "superheros = {\n",
    "      \"Black Widow\": {\"age\": 32, \"Team\": \"The Avengers\"},\n",
    "      \"Scarlet Witch\": {\"age\": 21, \"Team\": \"The Avengers\"},\n",
    "      \"Captain America\": {\"age\": 80, \"Team\": \"The Avengers\"},\n",
    "      \"Iron-man\": {\"age\": 48, \"Team\": \"The Avengers\"},\n",
    "      \"Wonder Woman\": {\"age\": 800, \"Team\": \"Justice League\"}, \n",
    "      \"Batman\": {\"age\": 81, \"Team\": \"Justice League\"}, \n",
    "      \"Star-Lord\": {\"age\": 38, \"Team\": \"Guardians of the Galaxy\"},\n",
    "      \"Groot\": {\"age\": 25, \"Team\": \"Guardians of the Galaxy\"},\n",
    "      \"Gamora\": {\"age\": 29, \"Team\": \"Guardians of the Galaxy\"},\n",
    "}\n",
    "print(find_superheros(\"The Avengers\", superheros))"
   ]
  },
  {
   "cell_type": "markdown",
   "metadata": {
    "id": "iZ8SMLqQTdFR"
   },
   "source": [
    "**Q13: Edit the following iterator class to return all the positive odd numbers from 1 to (n).**      [3 marks]"
   ]
  },
  {
   "cell_type": "code",
   "execution_count": null,
   "metadata": {
    "id": "AowdlG29Thhg"
   },
   "outputs": [],
   "source": [
    "### Write code here...\n",
    "class OddNumbers:\n",
    "    n = 0\n",
    "    def __init__(self, n):\n",
    "        self.n = n\n",
    "        \n",
    "    def __iter__(self):\n",
    "        self.a = 1\n",
    "        return self\n",
    "\n",
    "    def __next__(self):\n",
    "        x = self.a\n",
    "        if not x >= self.n:\n",
    "            self.a += 2\n",
    "            return x\n",
    "        else:\n",
    "            raise StopIteration\n",
    "\n",
    "myclass = OddNumbers(30)\n",
    "myiter = iter(myclass)\n",
    "\n",
    "for x in myiter:\n",
    "    print(x)"
   ]
  },
  {
   "cell_type": "markdown",
   "metadata": {
    "id": "P8vZbdD8Tr9v"
   },
   "source": [
    "**Q14: Using keys and indexing, grab the 'hello' from the given dictionaries.**\n",
    "[3 marks]\n"
   ]
  },
  {
   "cell_type": "code",
   "execution_count": null,
   "metadata": {
    "id": "r1nI0vt7Tzxy"
   },
   "outputs": [],
   "source": [
    "d1 = {'simple_key':('hello')}\n",
    "\n",
    "d2 = {'k1':{'k2':['hello']}}\n",
    "\n",
    "d3 = {'k1':[{'nest_key':['this is deep',[({\"k2\": 'hello'})]]}]}\n",
    "\n",
    "### write code here...\n",
    "print(d1['simple_key'])\n",
    "print(d2['k1']['k2'][0])\n",
    "print(d3['k1'][0]['nest_key'][1][0]['k2'])"
   ]
  },
  {
   "cell_type": "markdown",
   "metadata": {
    "id": "5f8yWxZwGBH-"
   },
   "source": [
    "**Q15: Write a python Class that accepts a tuple, has two instance variables, setter and getter methods and also write these methods to compute results accordingly:** [10 marks]\n",
    "\n",
    "1.   def Addition(tup )\n",
    "2.   def  Subtraction (tup)\n",
    "3.   def Multiplication(tup)\n",
    "4.   def Division(tup )\n",
    "5.   def Power(tup)\n"
   ]
  },
  {
   "cell_type": "code",
   "execution_count": null,
   "metadata": {
    "id": "2gPaYB_6GtMQ"
   },
   "outputs": [],
   "source": [
    "### write code here...\n",
    "class TupOperations:\n",
    "    def __init__(self, tup):\n",
    "        self.t1 = tup[0]\n",
    "        self.t2 = tup[1]\n",
    "        \n",
    "    def get_tup(self):\n",
    "        return (self.t1, self.t2)\n",
    "    \n",
    "    def set_tup(self, tup):\n",
    "        self.t1 = tup[0]\n",
    "        self.t2 = tup[1]\n",
    "    \n",
    "    def Addition(self, tup):\n",
    "        t = tup.get_tup()\n",
    "        return t[0] + t[1]\n",
    "\n",
    "    def Subtraction(self, tup):\n",
    "        t = tup.get_tup()\n",
    "        return t[0] - t[1]\n",
    "\n",
    "    def Multiplication(self, tup):\n",
    "        t = tup.get_tup()\n",
    "        return t[0] * t[1]\n",
    "\n",
    "    def Division(self, tup):\n",
    "        t = tup.get_tup()\n",
    "        return t[0] / t[1]\n",
    "\n",
    "    def Power(self, tup):\n",
    "        t = tup.get_tup()\n",
    "        return t[0] ** t[1]\n",
    "\n",
    "tup = TupOperations((3,4))\n",
    "print(tup.Addition(tup))\n",
    "print(tup.Subtraction(tup))\n",
    "print(tup.Multiplication(tup))\n",
    "print(tup.Division(tup))\n",
    "print(tup.Power(tup))"
   ]
  },
  {
   "cell_type": "markdown",
   "metadata": {
    "id": "NwuvJ74zL9cr"
   },
   "source": [
    "**Q16. For given array x of floating point numbers. Print plots for the following functions with the specified properties. Make a different subplot for each listed number.**    [10 marks]\n",
    "\n",
    "1. $y1$ = $x^{2} + 10$,\n",
    "$y2$ = $x^{3} + x^{2}$\n",
    "* X and Y axis labels\n",
    "* Legend in top right corner\n",
    "* Give appropriate title\n",
    "* y1 line with red color\n",
    "* y2 line with blue color\n",
    "\n",
    "2. y1 = $sin(x) * sin(x)^{2}$ * $sin(x)^{3}$\n",
    "* X and Y axis labels\n",
    "* Legend in bottom center\n",
    "* Give appropriate title\n",
    "* line fontsize 20\n",
    "\n",
    "3. y1 = $cos(x)^{3}$\n",
    "* X and Y axis labels\n",
    "* Legend in bottom left corner\n",
    "* Give appropriate title\n",
    "* y1 graph with green circles only and circles should not be connected via line.\n",
    "\n"
   ]
  },
  {
   "cell_type": "code",
   "execution_count": null,
   "metadata": {
    "id": "yhB8hFK0TALX"
   },
   "outputs": [],
   "source": [
    "import matplotlib.pyplot as plt\n",
    "x = np.arange(-10,10, 0.2)\n",
    "## Write your code here...\n",
    "y1 = (x**2) + 10\n",
    "y2 = (x**3) + (x**2)\n",
    "plt.plot(x, y1, 'r', label='y1')\n",
    "plt.plot(x, y2, 'b', label='y2')\n",
    "plt.title('y1 = x^2+10, y2 = x^3+x^2')\n",
    "plt.xlabel(\"X\")\n",
    "plt.ylabel(\"Y\")\n",
    "plt.legend(loc='upper right')\n",
    "\n",
    "\n",
    "plt.show()\n",
    "\n",
    "y1 =np.sin(x) + (np.sin(x)**2)*(np.sin(x)**3)\n",
    "\n",
    "plt.plot(x, y1, 'r', label='y1', linewidth=20)\n",
    "\n",
    "plt.title('y1 = sin(x) * sin(x)^2 * sin(x)^3')\n",
    "plt.xlabel(\"X\")\n",
    "plt.ylabel(\"Y\")\n",
    "plt.legend(loc='lower center', bbox_to_anchor =(0.5,-0.27))\n",
    "\n",
    "plt.show()\n",
    "\n",
    "y1 = np.cos(x)**3\n",
    "plt.plot(x, y1, 'og', label='y1')\n",
    "plt.title('y1 = cos(x)^3')\n",
    "plt.xlabel(\"X\")\n",
    "plt.ylabel(\"Y\")\n",
    "plt.legend(loc='lower left', bbox_to_anchor=(-0.01,-0.3))\n",
    "\n",
    "plt.show()"
   ]
  }
 ],
 "metadata": {
  "colab": {
   "collapsed_sections": [
    "Y70GeIJgWKSZ",
    "yjv8odw0WKSb"
   ],
   "name": "Assignment0.ipynb",
   "provenance": []
  },
  "kernelspec": {
   "display_name": "Python 3 (ipykernel)",
   "language": "python",
   "name": "python3"
  },
  "language_info": {
   "codemirror_mode": {
    "name": "ipython",
    "version": 3
   },
   "file_extension": ".py",
   "mimetype": "text/x-python",
   "name": "python",
   "nbconvert_exporter": "python",
   "pygments_lexer": "ipython3",
   "version": "3.10.12"
  }
 },
 "nbformat": 4,
 "nbformat_minor": 4
}
