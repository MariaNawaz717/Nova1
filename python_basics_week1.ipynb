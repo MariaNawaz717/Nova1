{
 "cells": [
  {
   "cell_type": "markdown",
   "metadata": {
    "id": "occYz8iXWKQk"
   },
   "source": [
    "\n",
    "Credits: This notebook is based on a [Python tutorial](http://cs231n.github.io/python-numpy-tutorial/) by [Justin Johnson](https://web.eecs.umich.edu/~justincj/) for [CS231n](http://cs231n.github.io/). "
   ]
  },
  {
   "cell_type": "markdown",
   "metadata": {
    "id": "W-trfVF5WKQw"
   },
   "source": [
    "## Introduction"
   ]
  },
  {
   "cell_type": "markdown",
   "metadata": {
    "id": "zR7IRFdyWKQy"
   },
   "source": [
    "We will use the Python programming language for all assignments in this course. Python is a great general-purpose programming language on its own, but with the help of a few popular libraries (numpy, scipy, matplotlib) it becomes a powerful environment for scientific computing.\n",
    "\n",
    "We expect that many of you will have some experience with Python and numpy; for the rest of you, this section will serve as a quick crash course both on the Python programming language and on the use of Python for scientific computing."
   ]
  },
  {
   "cell_type": "markdown",
   "metadata": {
    "id": "A1LyBMR8WKQ1"
   },
   "source": [
    "In this tutorial, we will cover:\n",
    "\n",
    "* Basic Python: Basic data types (Containers, Lists, Dictionaries, Sets, Tuples), Functions, Classes\n",
    "* Numpy: Arrays, Array indexing, Datatypes, Array math, Broadcasting\n",
    "* Matplotlib: Plotting, Subplots, Images\n",
    "* IPython: Creating notebooks, Typical workflows"
   ]
  },
  {
   "cell_type": "markdown",
   "metadata": {
    "id": "bdv-xJ-VWKQ3"
   },
   "source": [
    "## Basics of Python"
   ]
  },
  {
   "cell_type": "markdown",
   "metadata": {
    "id": "G78id_A-WKQ4"
   },
   "source": [
    "Python is a high-level, dynamically typed multiparadigm programming language. Python code is often said to be almost like pseudocode, since it allows you to express very powerful ideas in very few lines of code while being very readable. As an example, here is an implementation of the classic quicksort algorithm in Python:"
   ]
  },
  {
   "cell_type": "code",
   "execution_count": 1,
   "metadata": {
    "execution": {
     "iopub.execute_input": "2025-06-30T05:53:18.468620Z",
     "iopub.status.busy": "2025-06-30T05:53:18.467844Z",
     "iopub.status.idle": "2025-06-30T05:53:18.472968Z",
     "shell.execute_reply": "2025-06-30T05:53:18.472365Z",
     "shell.execute_reply.started": "2025-06-30T05:53:18.468588Z"
    },
    "id": "-rtIO5QqWKQ6"
   },
   "outputs": [
    {
     "name": "stdout",
     "output_type": "stream",
     "text": [
      "[0, 1, 5, 5, 14, 16, 50]\n"
     ]
    }
   ],
   "source": [
    "def quicksort(arr):\n",
    "    if len(arr) <= 1:\n",
    "        return arr\n",
    "    pivot = arr[len(arr) // 2]\n",
    "    left = [x for x in arr if x < pivot]\n",
    "    middle = [x for x in arr if x == pivot]\n",
    "    right = [x for x in arr if x > pivot]\n",
    "    return quicksort(left) + middle + quicksort(right)\n",
    "\n",
    "print(quicksort([5,16,1,50,0,5,14]))\n",
    "# Prints \"[0, 1, 5, 5, 14, 16, 50]\""
   ]
  },
  {
   "cell_type": "markdown",
   "metadata": {
    "id": "90nqR-PyWKQ-"
   },
   "source": [
    "### Python versions"
   ]
  },
  {
   "cell_type": "markdown",
   "metadata": {
    "id": "7R_NmqJrWKQ_"
   },
   "source": [
    "For this class all code will use Python 3.7. You can check your Python version by executing the cell below:"
   ]
  },
  {
   "cell_type": "code",
   "execution_count": 2,
   "metadata": {
    "execution": {
     "iopub.execute_input": "2025-06-30T05:53:19.015242Z",
     "iopub.status.busy": "2025-06-30T05:53:19.014791Z",
     "iopub.status.idle": "2025-06-30T05:53:19.137221Z",
     "shell.execute_reply": "2025-06-30T05:53:19.136533Z",
     "shell.execute_reply.started": "2025-06-30T05:53:19.015219Z"
    },
    "id": "_GCl5VfmWKRB"
   },
   "outputs": [
    {
     "name": "stdout",
     "output_type": "stream",
     "text": [
      "Python 3.12.11\n"
     ]
    }
   ],
   "source": [
    "!python3 --version"
   ]
  },
  {
   "cell_type": "markdown",
   "metadata": {
    "id": "rUJqaUE7WKRD"
   },
   "source": [
    "### Basic data types"
   ]
  },
  {
   "cell_type": "markdown",
   "metadata": {
    "id": "iCRB131rWKRE"
   },
   "source": [
    "#### Numbers"
   ]
  },
  {
   "cell_type": "markdown",
   "metadata": {
    "id": "vmWbDg3OWKRF"
   },
   "source": [
    "Integers and floats work as you would expect from other languages:"
   ]
  },
  {
   "cell_type": "code",
   "execution_count": 3,
   "metadata": {
    "execution": {
     "iopub.execute_input": "2025-06-30T05:53:19.777585Z",
     "iopub.status.busy": "2025-06-30T05:53:19.777063Z",
     "iopub.status.idle": "2025-06-30T05:53:19.781060Z",
     "shell.execute_reply": "2025-06-30T05:53:19.780510Z",
     "shell.execute_reply.started": "2025-06-30T05:53:19.777560Z"
    },
    "id": "Gvp0I3p6WKRG"
   },
   "outputs": [
    {
     "name": "stdout",
     "output_type": "stream",
     "text": [
      "<class 'int'>\n",
      "10\n"
     ]
    }
   ],
   "source": [
    "x = 10\n",
    "print(type(x)) # Prints \"<class 'int'>\"\n",
    "print(x)       # Prints \"3\""
   ]
  },
  {
   "cell_type": "code",
   "execution_count": 4,
   "metadata": {
    "execution": {
     "iopub.execute_input": "2025-06-30T05:53:19.946707Z",
     "iopub.status.busy": "2025-06-30T05:53:19.946292Z",
     "iopub.status.idle": "2025-06-30T05:53:19.950326Z",
     "shell.execute_reply": "2025-06-30T05:53:19.949658Z",
     "shell.execute_reply.started": "2025-06-30T05:53:19.946688Z"
    },
    "id": "vCByb8r0WKRG"
   },
   "outputs": [
    {
     "name": "stdout",
     "output_type": "stream",
     "text": [
      "11\n",
      "9\n",
      "20\n",
      "100\n"
     ]
    }
   ],
   "source": [
    "print(x + 1)   # Addition; prints \"4\"\n",
    "print(x - 1)   # Subtraction; prints \"2\"\n",
    "print(x * 2)   # Multiplication; prints \"6\"\n",
    "print(x ** 2)  # Exponentiation; prints \"9\""
   ]
  },
  {
   "cell_type": "code",
   "execution_count": 5,
   "metadata": {
    "execution": {
     "iopub.execute_input": "2025-06-30T05:53:20.113670Z",
     "iopub.status.busy": "2025-06-30T05:53:20.113277Z",
     "iopub.status.idle": "2025-06-30T05:53:20.116462Z",
     "shell.execute_reply": "2025-06-30T05:53:20.115987Z",
     "shell.execute_reply.started": "2025-06-30T05:53:20.113649Z"
    },
    "id": "M8kvYCWbWKRH"
   },
   "outputs": [
    {
     "name": "stdout",
     "output_type": "stream",
     "text": [
      "11\n",
      "22\n"
     ]
    }
   ],
   "source": [
    "x += 1\n",
    "print(x)  # Prints \"4\"\n",
    "x *= 2\n",
    "print(x)  # Prints \"8\""
   ]
  },
  {
   "cell_type": "code",
   "execution_count": 6,
   "metadata": {
    "execution": {
     "iopub.execute_input": "2025-06-30T05:53:20.279756Z",
     "iopub.status.busy": "2025-06-30T05:53:20.279383Z",
     "iopub.status.idle": "2025-06-30T05:53:20.282631Z",
     "shell.execute_reply": "2025-06-30T05:53:20.282175Z",
     "shell.execute_reply.started": "2025-06-30T05:53:20.279739Z"
    },
    "id": "JgGZ9niAWKRI"
   },
   "outputs": [
    {
     "name": "stdout",
     "output_type": "stream",
     "text": [
      "<class 'float'>\n",
      "9.5 10.5 19.0 90.25\n"
     ]
    }
   ],
   "source": [
    "y = 9.5\n",
    "print(type(y)) # Prints \"<class 'float'>\"\n",
    "print(y, y + 1, y * 2, y ** 2) # Prints \"2.5 3.5 5.0 6.25\""
   ]
  },
  {
   "cell_type": "markdown",
   "metadata": {
    "id": "CiLEtnVKWKRK"
   },
   "source": [
    "Note that unlike many languages, Python does not have unary increment (x++) or decrement (x--) operators.\n",
    "\n",
    "Python also has built-in types for long integers and complex numbers; you can find all of the details in the [documentation](https://docs.python.org/3.7/library/stdtypes.html#numeric-types-int-float-complex)."
   ]
  },
  {
   "cell_type": "markdown",
   "metadata": {
    "id": "PlxHAPYfWKRK"
   },
   "source": [
    "#### Booleans"
   ]
  },
  {
   "cell_type": "markdown",
   "metadata": {
    "id": "Fr6CZepgWKRL"
   },
   "source": [
    "Python implements all of the usual operators for Boolean logic, but uses English words rather than symbols (`&&`, `||`, etc.):"
   ]
  },
  {
   "cell_type": "code",
   "execution_count": 7,
   "metadata": {
    "execution": {
     "iopub.execute_input": "2025-06-30T05:53:21.012313Z",
     "iopub.status.busy": "2025-06-30T05:53:21.011910Z",
     "iopub.status.idle": "2025-06-30T05:53:21.015599Z",
     "shell.execute_reply": "2025-06-30T05:53:21.015130Z",
     "shell.execute_reply.started": "2025-06-30T05:53:21.012294Z"
    },
    "id": "LW9CK7R7WKRM"
   },
   "outputs": [
    {
     "name": "stdout",
     "output_type": "stream",
     "text": [
      "<class 'bool'>\n",
      "False\n",
      "True\n",
      "False\n",
      "True\n"
     ]
    }
   ],
   "source": [
    "t = True\n",
    "f = False\n",
    "print(type(t)) # Prints \"<class 'bool'>\"\n",
    "print(t and f) # Logical AND; prints \"False\"\n",
    "print(t or f)  # Logical OR; prints \"True\"\n",
    "print(not t)   # Logical NOT; prints \"False\"\n",
    "print(t != f)  # Logical XOR; prints \"True\""
   ]
  },
  {
   "cell_type": "markdown",
   "metadata": {
    "id": "fXqBE_oOWKRM"
   },
   "source": [
    "#### Strings\n",
    "\n",
    "Python has great support for strings:"
   ]
  },
  {
   "cell_type": "code",
   "execution_count": 8,
   "metadata": {
    "execution": {
     "iopub.execute_input": "2025-06-30T05:53:21.392220Z",
     "iopub.status.busy": "2025-06-30T05:53:21.391844Z",
     "iopub.status.idle": "2025-06-30T05:53:21.395590Z",
     "shell.execute_reply": "2025-06-30T05:53:21.395115Z",
     "shell.execute_reply.started": "2025-06-30T05:53:21.392201Z"
    },
    "id": "0XeQcNmPWKRN"
   },
   "outputs": [
    {
     "name": "stdout",
     "output_type": "stream",
     "text": [
      "machine\n",
      "7\n",
      "machine learning\n",
      "machine learning 535\n"
     ]
    }
   ],
   "source": [
    "machine = 'machine'    # String literals can use single quotes\n",
    "learning = \"learning\"    # or double quotes; it does not matter.\n",
    "print(machine)       # Prints \"machine\"\n",
    "print(len(machine))  # String length; prints \"7\"\n",
    "course = machine + ' ' + learning  # String concatenation\n",
    "print(course)  # prints \"machine learning\"\n",
    "code = '%s %s %d' % (machine, learning, 535)  # sprintf style string formatting\n",
    "print(code)  # prints \"machine learning 535\""
   ]
  },
  {
   "cell_type": "markdown",
   "metadata": {
    "id": "dVne6LXbWKRO"
   },
   "source": [
    "String objects have a bunch of useful methods; for example:"
   ]
  },
  {
   "cell_type": "code",
   "execution_count": 9,
   "metadata": {
    "execution": {
     "iopub.execute_input": "2025-06-30T05:53:21.705262Z",
     "iopub.status.busy": "2025-06-30T05:53:21.704851Z",
     "iopub.status.idle": "2025-06-30T05:53:21.709124Z",
     "shell.execute_reply": "2025-06-30T05:53:21.708602Z",
     "shell.execute_reply.started": "2025-06-30T05:53:21.705242Z"
    },
    "id": "OWT9hYmUWKRP"
   },
   "outputs": [
    {
     "name": "stdout",
     "output_type": "stream",
     "text": [
      "Neural networks\n",
      "NEURAL NETWORKS\n",
      "     neural networks\n",
      "  neural networks   \n",
      "neu(ral) networks\n",
      "AI\n"
     ]
    }
   ],
   "source": [
    "s = \"neural networks\"\n",
    "print(s.capitalize())  # Capitalize a string; prints \"Neural nerworks\"\n",
    "print(s.upper())       # Convert a string to uppercase; prints \"NEURAL NETWORKS\"\n",
    "print(s.rjust(20))      # Right-justify a string, padding with spaces; prints \"     neural networks\"\n",
    "print(s.center(20))     # Center a string, padding with spaces; prints \"  neural networks   \"\n",
    "print(s.replace('ral', '(ral)'))  # Replace all instances of one substring with another;\n",
    "                                # prints \"he(ell)(ell)o\"\n",
    "print('  AI    '.strip())  # Strip leading and trailing whitespace; prints \"AI\""
   ]
  },
  {
   "cell_type": "markdown",
   "metadata": {
    "id": "sEiCd17mWKRR"
   },
   "source": [
    "You can find a list of all string methods in the [documentation](https://docs.python.org/3.7/library/stdtypes.html#string-methods)."
   ]
  },
  {
   "cell_type": "markdown",
   "metadata": {
    "id": "1sT-jG2mWKRS"
   },
   "source": [
    "### Containers"
   ]
  },
  {
   "cell_type": "markdown",
   "metadata": {
    "id": "XJY9zJhFWKRS"
   },
   "source": [
    "Python includes several built-in container types: lists, dictionaries, sets, and tuples."
   ]
  },
  {
   "cell_type": "markdown",
   "metadata": {
    "id": "koPtVnfrWKRT"
   },
   "source": [
    "#### Lists"
   ]
  },
  {
   "cell_type": "markdown",
   "metadata": {
    "id": "LLOlN2a-WKRV"
   },
   "source": [
    "A list is the Python equivalent of an array, but is resizeable and can contain elements of different types:"
   ]
  },
  {
   "cell_type": "code",
   "execution_count": 10,
   "metadata": {
    "execution": {
     "iopub.execute_input": "2025-06-30T05:53:22.843861Z",
     "iopub.status.busy": "2025-06-30T05:53:22.843354Z",
     "iopub.status.idle": "2025-06-30T05:53:22.848062Z",
     "shell.execute_reply": "2025-06-30T05:53:22.847487Z",
     "shell.execute_reply.started": "2025-06-30T05:53:22.843838Z"
    },
    "id": "721AsuibWKRW"
   },
   "outputs": [
    {
     "name": "stdout",
     "output_type": "stream",
     "text": [
      "[5, 1, 9] 9\n",
      "9\n",
      "[5, 1, 'scrap']\n",
      "[5, 1, 'scrap', '!']\n",
      "! [5, 1, 'scrap']\n"
     ]
    }
   ],
   "source": [
    "xs = [5, 1, 9]    # Create a list\n",
    "print(xs, xs[2])  # Prints \"[5, 1, 9] 9\"\n",
    "print(xs[-1])     # Negative indices count from the end of the list; prints \"9\"\n",
    "xs[2] = 'scrap'     # Lists can contain elements of different types\n",
    "print(xs)         # Prints \"[5, 1, 'scrap']\"\n",
    "xs.append('!')  # Add a new element to the end of the list\n",
    "print(xs)         # Prints \"[5, 1, 'scrap', '!']\"\n",
    "x = xs.pop()      # Remove and return the last element of the list\n",
    "print(x, xs)      # Prints \"! [5, 1, 'scrap']\""
   ]
  },
  {
   "cell_type": "markdown",
   "metadata": {
    "id": "qF_gZH_-WKRX"
   },
   "source": [
    "As usual, you can find all the gory details about lists in the [documentation](https://docs.python.org/3.7/tutorial/datastructures.html#more-on-lists)."
   ]
  },
  {
   "cell_type": "markdown",
   "metadata": {
    "id": "iYNOm2OWWKRY"
   },
   "source": [
    "##### Slicing"
   ]
  },
  {
   "cell_type": "markdown",
   "metadata": {
    "id": "ols_O8sMWKRZ"
   },
   "source": [
    "In addition to accessing list elements one at a time, Python provides concise syntax to access sublists; this is known as slicing:"
   ]
  },
  {
   "cell_type": "code",
   "execution_count": 11,
   "metadata": {
    "execution": {
     "iopub.execute_input": "2025-06-30T05:53:23.771787Z",
     "iopub.status.busy": "2025-06-30T05:53:23.771127Z",
     "iopub.status.idle": "2025-06-30T05:53:23.775949Z",
     "shell.execute_reply": "2025-06-30T05:53:23.775418Z",
     "shell.execute_reply.started": "2025-06-30T05:53:23.771764Z"
    },
    "id": "P9oCx5TLWKRZ"
   },
   "outputs": [
    {
     "name": "stdout",
     "output_type": "stream",
     "text": [
      "[0, 1, 2, 3, 4]\n",
      "[2, 3]\n",
      "[2, 3, 4]\n",
      "[0, 1]\n",
      "[0, 1, 2, 3, 4]\n",
      "[0, 1, 2, 3]\n",
      "[0, 1, 8, 9, 4]\n"
     ]
    }
   ],
   "source": [
    "nums = list(range(5))     # range is a built-in function that creates a list of integers\n",
    "print(nums)               # Prints \"[0, 1, 2, 3, 4]\"\n",
    "print(nums[2:4])          # Get a slice from index 2 to 4 (exclusive); prints \"[2, 3]\"\n",
    "print(nums[2:])           # Get a slice from index 2 to the end; prints \"[2, 3, 4]\"\n",
    "print(nums[:2])           # Get a slice from the start to index 2 (exclusive); prints \"[0, 1]\"\n",
    "print(nums[:])            # Get a slice of the whole list; prints \"[0, 1, 2, 3, 4]\"\n",
    "print(nums[:-1])          # Slice indices can be negative; prints \"[0, 1, 2, 3]\"\n",
    "nums[2:4] = [8, 9]        # Assign a new sublist to a slice\n",
    "print(nums)               # Prints \"[0, 1, 8, 9, 4]\""
   ]
  },
  {
   "cell_type": "markdown",
   "metadata": {
    "id": "fuV6A-OyWKRa"
   },
   "source": [
    "##### Loops"
   ]
  },
  {
   "cell_type": "markdown",
   "metadata": {
    "id": "E6_9iRsRWKRb"
   },
   "source": [
    "You can loop over the elements of a list like this:"
   ]
  },
  {
   "cell_type": "code",
   "execution_count": 12,
   "metadata": {
    "execution": {
     "iopub.execute_input": "2025-06-30T05:53:44.316443Z",
     "iopub.status.busy": "2025-06-30T05:53:44.315789Z",
     "iopub.status.idle": "2025-06-30T05:53:44.319581Z",
     "shell.execute_reply": "2025-06-30T05:53:44.319085Z",
     "shell.execute_reply.started": "2025-06-30T05:53:44.316419Z"
    },
    "id": "5sbYXMb-WKRb"
   },
   "outputs": [
    {
     "name": "stdout",
     "output_type": "stream",
     "text": [
      "CS:GO\n",
      "Valorant\n",
      "Rainbow Siege\n"
     ]
    }
   ],
   "source": [
    "games = ['CS:GO', 'Valorant', 'Rainbow Siege']\n",
    "for game in games:\n",
    "    print(game)\n",
    "# Prints \"CS:GO\", \"Valorant\", \"Rainbow Siege\", each on its own line."
   ]
  },
  {
   "cell_type": "markdown",
   "metadata": {
    "id": "T6AP24tLWKRb"
   },
   "source": [
    "If you want access to the index of each element within the body of a loop, use the built-in `enumerate` function:"
   ]
  },
  {
   "cell_type": "code",
   "execution_count": 13,
   "metadata": {
    "execution": {
     "iopub.execute_input": "2025-06-30T05:53:46.742757Z",
     "iopub.status.busy": "2025-06-30T05:53:46.742253Z",
     "iopub.status.idle": "2025-06-30T05:53:46.746093Z",
     "shell.execute_reply": "2025-06-30T05:53:46.745587Z",
     "shell.execute_reply.started": "2025-06-30T05:53:46.742734Z"
    },
    "id": "B9gICtLPWKRc"
   },
   "outputs": [
    {
     "name": "stdout",
     "output_type": "stream",
     "text": [
      "#1: Cat\n",
      "#2: Duck\n",
      "#3: Dog\n"
     ]
    }
   ],
   "source": [
    "animals = ['Cat', 'Duck', 'Dog']\n",
    "for idx, animal in enumerate(animals):\n",
    "    print('#%d: %s' % (idx + 1, animal))\n",
    "# Prints \"#1: Cat\", \"#2: Duck\", \"#3: Dog\", each on its own line"
   ]
  },
  {
   "cell_type": "markdown",
   "metadata": {
    "id": "Ns8c1kUJWKRc"
   },
   "source": [
    "##### List comprehensions:"
   ]
  },
  {
   "cell_type": "markdown",
   "metadata": {
    "id": "Mw0WiWpTWKRd"
   },
   "source": [
    "When programming, frequently we want to transform one type of data into another. As a simple example, consider the following code that computes square numbers:"
   ]
  },
  {
   "cell_type": "code",
   "execution_count": 14,
   "metadata": {
    "execution": {
     "iopub.execute_input": "2025-06-30T05:53:47.280834Z",
     "iopub.status.busy": "2025-06-30T05:53:47.280419Z",
     "iopub.status.idle": "2025-06-30T05:53:47.284025Z",
     "shell.execute_reply": "2025-06-30T05:53:47.283531Z",
     "shell.execute_reply.started": "2025-06-30T05:53:47.280815Z"
    },
    "id": "rwt9iY-9WKRd"
   },
   "outputs": [
    {
     "name": "stdout",
     "output_type": "stream",
     "text": [
      "[0, 1, 4, 9, 16]\n"
     ]
    }
   ],
   "source": [
    "nums = [0, 1, 2, 3, 4]\n",
    "squares = []\n",
    "for x in nums:\n",
    "    squares.append(x ** 2)\n",
    "print(squares)   # Prints [0, 1, 4, 9, 16]"
   ]
  },
  {
   "cell_type": "markdown",
   "metadata": {
    "id": "zln903BXWKRe"
   },
   "source": [
    "You can make this code simpler using a list comprehension:"
   ]
  },
  {
   "cell_type": "code",
   "execution_count": 15,
   "metadata": {
    "execution": {
     "iopub.execute_input": "2025-06-30T05:53:47.612629Z",
     "iopub.status.busy": "2025-06-30T05:53:47.612159Z",
     "iopub.status.idle": "2025-06-30T05:53:47.615864Z",
     "shell.execute_reply": "2025-06-30T05:53:47.615380Z",
     "shell.execute_reply.started": "2025-06-30T05:53:47.612608Z"
    },
    "id": "-qwt30seWKRe"
   },
   "outputs": [
    {
     "name": "stdout",
     "output_type": "stream",
     "text": [
      "[0, 1, 4, 9, 16]\n"
     ]
    }
   ],
   "source": [
    "nums = [0, 1, 2, 3, 4]\n",
    "squares = [x ** 2 for x in nums]\n",
    "print(squares)   # Prints [0, 1, 4, 9, 16]"
   ]
  },
  {
   "cell_type": "markdown",
   "metadata": {
    "id": "sqTWOBJtWKRf"
   },
   "source": [
    "List comprehensions can also contain conditions:"
   ]
  },
  {
   "cell_type": "code",
   "execution_count": 16,
   "metadata": {
    "execution": {
     "iopub.execute_input": "2025-06-30T05:53:47.924176Z",
     "iopub.status.busy": "2025-06-30T05:53:47.923797Z",
     "iopub.status.idle": "2025-06-30T05:53:47.927586Z",
     "shell.execute_reply": "2025-06-30T05:53:47.927124Z",
     "shell.execute_reply.started": "2025-06-30T05:53:47.924158Z"
    },
    "id": "6ZH4uijNWKRf"
   },
   "outputs": [
    {
     "name": "stdout",
     "output_type": "stream",
     "text": [
      "[0, 4, 16]\n",
      "[1, 9]\n"
     ]
    }
   ],
   "source": [
    "nums = [0, 1, 2, 3, 4]\n",
    "even_squares = [x ** 2 for x in nums if x % 2 == 0]\n",
    "print(even_squares)  # Prints \"[0, 4, 16]\"\n",
    "odd_squares = [x ** 2 for x in nums if x % 2 != 0]\n",
    "print(odd_squares)  # Prints \"[1, 9]\""
   ]
  },
  {
   "cell_type": "markdown",
   "metadata": {
    "id": "VWaFen4HWKRg"
   },
   "source": [
    "#### Dictionaries"
   ]
  },
  {
   "cell_type": "markdown",
   "metadata": {
    "id": "-4qbEpSYWKRi"
   },
   "source": [
    "A dictionary stores (key, value) pairs, similar to a `Map` in Java or an object in Javascript. You can use it like this:"
   ]
  },
  {
   "cell_type": "code",
   "execution_count": 17,
   "metadata": {
    "execution": {
     "iopub.execute_input": "2025-06-30T05:53:48.416576Z",
     "iopub.status.busy": "2025-06-30T05:53:48.416157Z",
     "iopub.status.idle": "2025-06-30T05:53:48.420337Z",
     "shell.execute_reply": "2025-06-30T05:53:48.419878Z",
     "shell.execute_reply.started": "2025-06-30T05:53:48.416556Z"
    },
    "id": "kUuSdyIdWKRi"
   },
   "outputs": [
    {
     "name": "stdout",
     "output_type": "stream",
     "text": [
      "fun\n",
      "True\n",
      "cute\n",
      "N/A\n",
      "cute\n",
      "N/A\n"
     ]
    }
   ],
   "source": [
    "d = {'swings': 'fun', 'pasta': 'tasty'}  # Create a new dictionary with some data\n",
    "print(d['swings'])       # Get an entry from a dictionary; prints \"fun\"\n",
    "print('swings' in d)     # Check if a dictionary has a given key; prints \"True\"\n",
    "d['duck'] = 'cute'     # Set an entry in a dictionary\n",
    "print(d['duck'])      # Prints \"cute\"\n",
    "# print(d['cat'])  # KeyError: 'cat' not a key of d\n",
    "print(d.get('monkey', 'N/A'))  # Get an element with a default; prints \"N/A\"\n",
    "print(d.get('duck', 'N/A'))    # Get an element with a default; prints \"cute\"\n",
    "del d['duck']         # Remove an element from a dictionary\n",
    "print(d.get('duck', 'N/A')) # \"duck\" is no longer a key; prints \"N/A\""
   ]
  },
  {
   "cell_type": "markdown",
   "metadata": {
    "id": "M2ciTBx-WKRj"
   },
   "source": [
    "You can find all you need to know about dictionaries in the [documentation](https://docs.python.org/3.7/library/stdtypes.html#dict)."
   ]
  },
  {
   "cell_type": "markdown",
   "metadata": {
    "id": "KHhTnHmHWKRk"
   },
   "source": [
    "##### Loops \n",
    "\n",
    "It is easy to iterate over the keys in a dictionary:"
   ]
  },
  {
   "cell_type": "code",
   "execution_count": 18,
   "metadata": {
    "execution": {
     "iopub.execute_input": "2025-06-30T05:53:48.934065Z",
     "iopub.status.busy": "2025-06-30T05:53:48.933675Z",
     "iopub.status.idle": "2025-06-30T05:53:48.937238Z",
     "shell.execute_reply": "2025-06-30T05:53:48.936752Z",
     "shell.execute_reply.started": "2025-06-30T05:53:48.934047Z"
    },
    "id": "B9h_gkKcWKRl"
   },
   "outputs": [
    {
     "name": "stdout",
     "output_type": "stream",
     "text": [
      "Real Madrid has 14 UEFA Champions League titles\n",
      "Liverpool has 6 UEFA Champions League titles\n",
      "Barcelona has 5 UEFA Champions League titles\n"
     ]
    }
   ],
   "source": [
    "d = {'Real Madrid': 14, 'Liverpool': 6, 'Barcelona': 5}\n",
    "for team in d:\n",
    "    titles = d[team]\n",
    "    print('%s has %d UEFA Champions League titles' % (team, titles))\n",
    "# Prints \"Real Madrid has 14 UEFA Champions League titles\", \"Liverpool has 6 UEFA Champions League titles\", \"Barcelona has 5 UEFA Champions League titles\""
   ]
  },
  {
   "cell_type": "markdown",
   "metadata": {
    "id": "IZqW7Y2uWKRl"
   },
   "source": [
    "If you want access to keys and their corresponding values, use the `items` method:"
   ]
  },
  {
   "cell_type": "code",
   "execution_count": 19,
   "metadata": {
    "execution": {
     "iopub.execute_input": "2025-06-30T05:53:49.261685Z",
     "iopub.status.busy": "2025-06-30T05:53:49.261167Z",
     "iopub.status.idle": "2025-06-30T05:53:49.264980Z",
     "shell.execute_reply": "2025-06-30T05:53:49.264411Z",
     "shell.execute_reply.started": "2025-06-30T05:53:49.261665Z"
    },
    "id": "Ik7NhDsAWKRm"
   },
   "outputs": [
    {
     "name": "stdout",
     "output_type": "stream",
     "text": [
      "Real Madrid has 14 UEFA Champions League titles\n",
      "Liverpool has 6 UEFA Champions League titles\n",
      "Barcelona has 5 UEFA Champions League titles\n"
     ]
    }
   ],
   "source": [
    "d = {'Real Madrid': 14, 'Liverpool': 6, 'Barcelona': 5}\n",
    "for team, titles in d.items():\n",
    "    print('%s has %d UEFA Champions League titles' % (team, titles))\n",
    "# Prints \"Real Madrid has 14 UEFA Champions League titles\", \"Liverpool has 6 UEFA Champions League titles\", \"Barcelona has 5 UEFA Champions League titles\""
   ]
  },
  {
   "cell_type": "markdown",
   "metadata": {
    "id": "kLBhlWmvWKRn"
   },
   "source": [
    "##### Dictionary comprehensions \n",
    "\n",
    "These are similar to list comprehensions, but allow you to easily construct dictionaries. For example:"
   ]
  },
  {
   "cell_type": "code",
   "execution_count": 20,
   "metadata": {
    "execution": {
     "iopub.execute_input": "2025-06-30T05:53:49.634973Z",
     "iopub.status.busy": "2025-06-30T05:53:49.634580Z",
     "iopub.status.idle": "2025-06-30T05:53:49.638296Z",
     "shell.execute_reply": "2025-06-30T05:53:49.637668Z",
     "shell.execute_reply.started": "2025-06-30T05:53:49.634954Z"
    },
    "id": "rtQAkqFZWKRn"
   },
   "outputs": [
    {
     "name": "stdout",
     "output_type": "stream",
     "text": [
      "{1: 1, 3: 9, 5: 25}\n"
     ]
    }
   ],
   "source": [
    "nums = [0, 1, 2, 3, 4, 5]\n",
    "odd_num_to_square = {x: x ** 2 for x in nums if x % 2 != 0}\n",
    "print(odd_num_to_square)  # Prints \"{1: 1, 3: 9, 5: 25}\""
   ]
  },
  {
   "cell_type": "markdown",
   "metadata": {
    "id": "NkKG4tu3WKRo"
   },
   "source": [
    "#### Sets"
   ]
  },
  {
   "cell_type": "markdown",
   "metadata": {
    "id": "x4N6a4pZWKRo"
   },
   "source": [
    "A set is an unordered collection of distinct elements. As a simple example, consider the following:"
   ]
  },
  {
   "cell_type": "code",
   "execution_count": 21,
   "metadata": {
    "execution": {
     "iopub.execute_input": "2025-06-30T05:53:50.243591Z",
     "iopub.status.busy": "2025-06-30T05:53:50.243168Z",
     "iopub.status.idle": "2025-06-30T05:53:50.247546Z",
     "shell.execute_reply": "2025-06-30T05:53:50.247039Z",
     "shell.execute_reply.started": "2025-06-30T05:53:50.243560Z"
    },
    "id": "4TPSu65sWKRo"
   },
   "outputs": [
    {
     "name": "stdout",
     "output_type": "stream",
     "text": [
      "True\n",
      "False\n",
      "True\n",
      "3\n",
      "3\n",
      "2\n"
     ]
    }
   ],
   "source": [
    "animals = {'cat', 'dog'}\n",
    "print('cat' in animals)   # Check if an element is in a set; prints \"True\"\n",
    "print('fish' in animals)  # prints \"False\"\n",
    "animals.add('fish')       # Add an element to a set\n",
    "print('fish' in animals)  # Prints \"True\"\n",
    "print(len(animals))       # Number of elements in a set; prints \"3\"\n",
    "animals.add('cat')        # Adding an element that is already in the set does nothing\n",
    "print(len(animals))       # Prints \"3\"\n",
    "animals.remove('cat')     # Remove an element from a set\n",
    "print(len(animals))       # Prints \"2\""
   ]
  },
  {
   "cell_type": "markdown",
   "metadata": {
    "id": "qzKB4Vu0WKRp"
   },
   "source": [
    "As usual, everything you want to know about sets can be found in the [documentation](https://docs.python.org/3.7/library/stdtypes.html#set)."
   ]
  },
  {
   "cell_type": "markdown",
   "metadata": {
    "id": "XujICTuEWKRq"
   },
   "source": [
    "##### Loops \n",
    "\n",
    "Iterating over a set has the same syntax as iterating over a list; however since sets are unordered, you cannot make assumptions about the order in which you visit the elements of the set:"
   ]
  },
  {
   "cell_type": "code",
   "execution_count": 22,
   "metadata": {
    "execution": {
     "iopub.execute_input": "2025-06-30T05:53:50.857983Z",
     "iopub.status.busy": "2025-06-30T05:53:50.857325Z",
     "iopub.status.idle": "2025-06-30T05:53:50.861016Z",
     "shell.execute_reply": "2025-06-30T05:53:50.860524Z",
     "shell.execute_reply.started": "2025-06-30T05:53:50.857937Z"
    },
    "id": "QU7E9nAvWKRq"
   },
   "outputs": [
    {
     "name": "stdout",
     "output_type": "stream",
     "text": [
      "#1: cat\n",
      "#2: fish\n",
      "#3: dog\n"
     ]
    }
   ],
   "source": [
    "animals = {'cat', 'dog', 'fish'}\n",
    "for idx, animal in enumerate(animals):\n",
    "    print('#%d: %s' % (idx + 1, animal))\n",
    "# Prints \"#1: fish\", \"#2: cat\", \"#3: dog\""
   ]
  },
  {
   "cell_type": "markdown",
   "metadata": {
    "id": "jFCXy8BdWKRr"
   },
   "source": [
    "##### Set comprehensions\n",
    "\n",
    "Like lists and dictionaries, we can easily construct sets using set comprehensions:"
   ]
  },
  {
   "cell_type": "code",
   "execution_count": 23,
   "metadata": {
    "execution": {
     "iopub.execute_input": "2025-06-30T05:53:51.623285Z",
     "iopub.status.busy": "2025-06-30T05:53:51.622826Z",
     "iopub.status.idle": "2025-06-30T05:53:51.626633Z",
     "shell.execute_reply": "2025-06-30T05:53:51.626148Z",
     "shell.execute_reply.started": "2025-06-30T05:53:51.623255Z"
    },
    "id": "01I1CuKvWKRr"
   },
   "outputs": [
    {
     "name": "stdout",
     "output_type": "stream",
     "text": [
      "{0, 1, 2, 3, 4, 5}\n"
     ]
    }
   ],
   "source": [
    "from math import sqrt\n",
    "nums = {int(sqrt(x)) for x in range(30)}\n",
    "print(nums)  # Prints \"{0, 1, 2, 3, 4, 5}\""
   ]
  },
  {
   "cell_type": "markdown",
   "metadata": {
    "id": "vY_VPNSrWKRs"
   },
   "source": [
    "#### Tuples"
   ]
  },
  {
   "cell_type": "markdown",
   "metadata": {
    "id": "fGZC4a0tWKRt"
   },
   "source": [
    "A tuple is an (immutable) ordered list of values. A tuple is in many ways similar to a list; one of the most important differences is that tuples can be used as keys in dictionaries and as elements of sets, while lists cannot. Here is a trivial example:"
   ]
  },
  {
   "cell_type": "code",
   "execution_count": 24,
   "metadata": {
    "execution": {
     "iopub.execute_input": "2025-06-30T05:53:52.340074Z",
     "iopub.status.busy": "2025-06-30T05:53:52.339489Z",
     "iopub.status.idle": "2025-06-30T05:53:52.343634Z",
     "shell.execute_reply": "2025-06-30T05:53:52.343143Z",
     "shell.execute_reply.started": "2025-06-30T05:53:52.340045Z"
    },
    "id": "iJe5C--VWKRt"
   },
   "outputs": [
    {
     "name": "stdout",
     "output_type": "stream",
     "text": [
      "<class 'tuple'>\n",
      "8\n",
      "8\n"
     ]
    }
   ],
   "source": [
    "d = {(x, 9 - x): x for x in range(10)}  # Create a dictionary with tuple keys\n",
    "t = (8, 1)        # Create a tuple\n",
    "print(type(t))    # Prints \"<class 'tuple'>\"\n",
    "print(d[t])       # Prints \"8\"\n",
    "print(d[(8, 1)])  # Prints \"8\""
   ]
  },
  {
   "cell_type": "markdown",
   "metadata": {
    "id": "HLjBlI0IWKRt"
   },
   "source": [
    "The [documentation](https://docs.python.org/3.7/tutorial/datastructures.html#tuples-and-sequences) has more information about tuples."
   ]
  },
  {
   "cell_type": "markdown",
   "metadata": {
    "id": "uBOJVmqMWKRt"
   },
   "source": [
    "### Functions"
   ]
  },
  {
   "cell_type": "markdown",
   "metadata": {
    "id": "Jei3ft82WKRu"
   },
   "source": [
    "Python functions are defined using the `def` keyword. For example:"
   ]
  },
  {
   "cell_type": "code",
   "execution_count": 25,
   "metadata": {
    "execution": {
     "iopub.execute_input": "2025-06-30T05:53:53.126614Z",
     "iopub.status.busy": "2025-06-30T05:53:53.126008Z",
     "iopub.status.idle": "2025-06-30T05:53:53.130020Z",
     "shell.execute_reply": "2025-06-30T05:53:53.129513Z",
     "shell.execute_reply.started": "2025-06-30T05:53:53.126591Z"
    },
    "id": "4C-aNT7iWKRu"
   },
   "outputs": [
    {
     "name": "stdout",
     "output_type": "stream",
     "text": [
      "negative\n",
      "zero\n",
      "positive\n"
     ]
    }
   ],
   "source": [
    "def sign(x):\n",
    "    if x > 0:\n",
    "        return 'positive'\n",
    "    elif x < 0:\n",
    "        return 'negative'\n",
    "    else:\n",
    "        return 'zero'\n",
    "\n",
    "for x in [-1, 0, 1]:\n",
    "    print(sign(x))\n",
    "# Prints \"negative\", \"zero\", \"positive\""
   ]
  },
  {
   "cell_type": "markdown",
   "metadata": {
    "id": "cFAuVS7kWKRw"
   },
   "source": [
    "We will often define functions to take optional keyword arguments, like this:"
   ]
  },
  {
   "cell_type": "code",
   "execution_count": 26,
   "metadata": {
    "execution": {
     "iopub.execute_input": "2025-06-30T05:53:53.468733Z",
     "iopub.status.busy": "2025-06-30T05:53:53.468332Z",
     "iopub.status.idle": "2025-06-30T05:53:53.472261Z",
     "shell.execute_reply": "2025-06-30T05:53:53.471751Z",
     "shell.execute_reply.started": "2025-06-30T05:53:53.468713Z"
    },
    "id": "t-648u1gWKRx"
   },
   "outputs": [
    {
     "name": "stdout",
     "output_type": "stream",
     "text": [
      "Hello, Rick\n",
      "HELLO, MORTY!\n"
     ]
    }
   ],
   "source": [
    "def hello(name, loud=False):\n",
    "    if loud:\n",
    "        print('HELLO, %s!' % name.upper())\n",
    "    else:\n",
    "        print('Hello, %s' % name)\n",
    "\n",
    "hello('Rick') # Prints \"Hello, Bob\"\n",
    "hello('Morty', loud=True)  # Prints \"HELLO, FRED!\""
   ]
  },
  {
   "cell_type": "markdown",
   "metadata": {
    "id": "0X6CcKdsWKRz"
   },
   "source": [
    "There is a lot more information about Python functions in the [documentation](https://docs.python.org/3.7/tutorial/controlflow.html#defining-functions)."
   ]
  },
  {
   "cell_type": "markdown",
   "metadata": {
    "id": "UAoEJA8V-0xM"
   },
   "source": [
    "#### Lambda Functions\n",
    "These are anonymous functions in Python which take any number of arguments but only one expression. Syntax: \n",
    "`lambda arguments : expression`. They are one line function and expression are representing the body of a normal function."
   ]
  },
  {
   "cell_type": "code",
   "execution_count": 27,
   "metadata": {
    "execution": {
     "iopub.execute_input": "2025-06-30T05:53:54.042299Z",
     "iopub.status.busy": "2025-06-30T05:53:54.041710Z",
     "iopub.status.idle": "2025-06-30T05:53:54.045529Z",
     "shell.execute_reply": "2025-06-30T05:53:54.045032Z",
     "shell.execute_reply.started": "2025-06-30T05:53:54.042275Z"
    },
    "id": "49LbTQdQAs0V"
   },
   "outputs": [
    {
     "name": "stdout",
     "output_type": "stream",
     "text": [
      "14\n",
      "6000\n"
     ]
    }
   ],
   "source": [
    "l = lambda a : a+10  ## lambda function 'l' is created which is taking 'a' as an argument and expression adds 10 to the value of argument a\n",
    "print(l(4))  ## passing 4 as value of 'a' argument of lambda function 'l' . This will return 12(12 = 4+10) as output.\n",
    "\n",
    "l1 = lambda a,b,c : a * b * c ## lambda function 'l1' is created which is taking 3 arguments (a,b,c) and return the result by multiplying them all.\n",
    "print(l1(10,20,30))  ## passing 10,20,30 as arguments 'a', 'b', 'c' respectively to 'l1' function. Print result 6000 (6000 = 10*20*30)"
   ]
  },
  {
   "cell_type": "markdown",
   "metadata": {
    "id": "ZMq_za7-Cwvm"
   },
   "source": [
    "We can use Lambda function anonymously inside other functions. Example is shown below"
   ]
  },
  {
   "cell_type": "code",
   "execution_count": 28,
   "metadata": {
    "execution": {
     "iopub.execute_input": "2025-06-30T05:53:54.466725Z",
     "iopub.status.busy": "2025-06-30T05:53:54.466296Z",
     "iopub.status.idle": "2025-06-30T05:53:54.469965Z",
     "shell.execute_reply": "2025-06-30T05:53:54.469454Z",
     "shell.execute_reply.started": "2025-06-30T05:53:54.466703Z"
    },
    "id": "KJivSg5lDAHo"
   },
   "outputs": [
    {
     "name": "stdout",
     "output_type": "stream",
     "text": [
      "0.7\n"
     ]
    }
   ],
   "source": [
    "def func(n):  ## define a function that takes argument 'n' and returns a lambda function after dividing some unknown argument 'a' with given 'n'\n",
    "  return lambda a: a/n\n",
    "\n",
    "l2 = func(10)  ## passing 10 as value of 'n' in 'func' function. This will return lambda function 'l2' where n is assigned a value of 10.\n",
    "print(l2(7)) ## This will call lambda function 'l2' where 7 is given as value for argument 'a'. Print 0.7(0.7 = 7/10) as result "
   ]
  },
  {
   "cell_type": "markdown",
   "metadata": {
    "id": "xQNGLLXKWKRz"
   },
   "source": [
    "### Classes"
   ]
  },
  {
   "cell_type": "markdown",
   "metadata": {
    "id": "6SGqEAprWKR0"
   },
   "source": [
    "The syntax for defining classes in Python is straightforward:"
   ]
  },
  {
   "cell_type": "code",
   "execution_count": 29,
   "metadata": {
    "execution": {
     "iopub.execute_input": "2025-06-30T05:53:55.034844Z",
     "iopub.status.busy": "2025-06-30T05:53:55.034412Z",
     "iopub.status.idle": "2025-06-30T05:53:55.038791Z",
     "shell.execute_reply": "2025-06-30T05:53:55.038284Z",
     "shell.execute_reply.started": "2025-06-30T05:53:55.034823Z"
    },
    "id": "qIBGkxIhWKR1"
   },
   "outputs": [
    {
     "name": "stdout",
     "output_type": "stream",
     "text": [
      "Hello, Nezuko\n",
      "HELLO, NEZUKO!\n"
     ]
    }
   ],
   "source": [
    "class Greeter(object):\n",
    "\n",
    "    # Constructor\n",
    "    def __init__(self, name):\n",
    "        self.name = name  # Create an instance variable\n",
    "\n",
    "    # Instance method\n",
    "    def greet(self, loud=False):\n",
    "        if loud:\n",
    "            print('HELLO, %s!' % self.name.upper())\n",
    "        else:\n",
    "            print('Hello, %s' % self.name)\n",
    "\n",
    "g = Greeter('Nezuko')  # Construct an instance of the Greeter class\n",
    "g.greet()            # Call an instance method; prints \"Hello, Fred\"\n",
    "g.greet(loud=True)   # Call an instance method; prints \"HELLO, FRED!\""
   ]
  },
  {
   "cell_type": "markdown",
   "metadata": {
    "id": "wjqA7mYRWKR1"
   },
   "source": [
    "You can read a lot more about Python classes in the [documentation](https://docs.python.org/3.7/tutorial/classes.html)."
   ]
  },
  {
   "cell_type": "markdown",
   "metadata": {
    "id": "42h3QLCSWKR3"
   },
   "source": [
    "## Numpy"
   ]
  },
  {
   "cell_type": "markdown",
   "metadata": {
    "id": "zU2WaCbkWKR3"
   },
   "source": [
    "[Numpy](https://numpy.org/) is the core library for scientific computing in Python. It provides a high-performance multidimensional array object, and tools for working with these arrays."
   ]
  },
  {
   "cell_type": "markdown",
   "metadata": {
    "id": "g589xsxOWKR4"
   },
   "source": [
    "To use Numpy, we first need to import the `numpy` package:"
   ]
  },
  {
   "cell_type": "code",
   "execution_count": 30,
   "metadata": {
    "execution": {
     "iopub.execute_input": "2025-06-30T05:53:56.061709Z",
     "iopub.status.busy": "2025-06-30T05:53:56.061268Z",
     "iopub.status.idle": "2025-06-30T05:53:56.064203Z",
     "shell.execute_reply": "2025-06-30T05:53:56.063761Z",
     "shell.execute_reply.started": "2025-06-30T05:53:56.061687Z"
    },
    "id": "LTTqN8XzWKR4"
   },
   "outputs": [],
   "source": [
    "import numpy as np"
   ]
  },
  {
   "cell_type": "markdown",
   "metadata": {
    "id": "n9VDoMTUWKR5"
   },
   "source": [
    "### Arrays"
   ]
  },
  {
   "cell_type": "markdown",
   "metadata": {
    "id": "bobIuV-dWKR6"
   },
   "source": [
    "A numpy array is a grid of values, all of the same type, and is indexed by a tuple of nonnegative integers. The number of dimensions is the rank of the array; the shape of an array is a tuple of integers giving the size of the array along each dimension."
   ]
  },
  {
   "cell_type": "markdown",
   "metadata": {
    "id": "jPWmsGeuWKR6"
   },
   "source": [
    "We can initialize numpy arrays from nested Python lists, and access elements using square brackets:"
   ]
  },
  {
   "cell_type": "code",
   "execution_count": 31,
   "metadata": {
    "execution": {
     "iopub.execute_input": "2025-06-30T05:53:56.820455Z",
     "iopub.status.busy": "2025-06-30T05:53:56.820010Z",
     "iopub.status.idle": "2025-06-30T05:53:56.824844Z",
     "shell.execute_reply": "2025-06-30T05:53:56.824332Z",
     "shell.execute_reply.started": "2025-06-30T05:53:56.820424Z"
    },
    "id": "BmJsPbzLWKR7"
   },
   "outputs": [
    {
     "name": "stdout",
     "output_type": "stream",
     "text": [
      "<class 'numpy.ndarray'>\n",
      "(3,)\n",
      "1 2 3\n",
      "[5 2 3]\n",
      "(2, 3)\n",
      "1 2 4\n"
     ]
    }
   ],
   "source": [
    "a = np.array([1, 2, 3])   # Create a rank 1 array\n",
    "print(type(a))            # Prints \"<class 'numpy.ndarray'>\"\n",
    "print(a.shape)            # Prints \"(3,)\"\n",
    "print(a[0], a[1], a[2])   # Prints \"1 2 3\"\n",
    "a[0] = 5                  # Change an element of the array\n",
    "print(a)                  # Prints \"[5, 2, 3]\"\n",
    "\n",
    "b = np.array([[1,2,3],[4,5,6]])    # Create a rank 2 array\n",
    "print(b.shape)                     # Prints \"(2, 3)\"\n",
    "print(b[0, 0], b[0, 1], b[1, 0])   # Prints \"1 2 4\""
   ]
  },
  {
   "cell_type": "markdown",
   "metadata": {
    "id": "j9YOQcsOWKR7"
   },
   "source": [
    "Numpy also provides many functions to create arrays:"
   ]
  },
  {
   "cell_type": "code",
   "execution_count": 32,
   "metadata": {
    "execution": {
     "iopub.execute_input": "2025-06-30T05:53:57.210471Z",
     "iopub.status.busy": "2025-06-30T05:53:57.210092Z",
     "iopub.status.idle": "2025-06-30T05:53:57.215222Z",
     "shell.execute_reply": "2025-06-30T05:53:57.214752Z",
     "shell.execute_reply.started": "2025-06-30T05:53:57.210453Z"
    },
    "id": "Oq-lu5hVWKR8"
   },
   "outputs": [
    {
     "name": "stdout",
     "output_type": "stream",
     "text": [
      "[[0. 0.]\n",
      " [0. 0.]]\n",
      "[[1. 1.]]\n",
      "[[7 7]\n",
      " [7 7]]\n",
      "[[1. 0.]\n",
      " [0. 1.]]\n",
      "[[0.49663618 0.1842106 ]\n",
      " [0.12048097 0.22230247]]\n"
     ]
    }
   ],
   "source": [
    "a = np.zeros((2,2))   # Create an array of all zeros\n",
    "print(a)              # Prints \"[[ 0.  0.]\n",
    "                      #          [ 0.  0.]]\"\n",
    "\n",
    "b = np.ones((1,2))    # Create an array of all ones\n",
    "print(b)              # Prints \"[[ 1.  1.]]\"\n",
    "\n",
    "c = np.full((2,2), 7)  # Create a constant array\n",
    "print(c)               # Prints \"[[ 7.  7.]\n",
    "                       #          [ 7.  7.]]\"\n",
    "\n",
    "d = np.eye(2)         # Create a 2x2 identity matrix\n",
    "print(d)              # Prints \"[[ 1.  0.]\n",
    "                      #          [ 0.  1.]]\"\n",
    "\n",
    "e = np.random.random((2,2))  # Create an array filled with random values\n",
    "print(e)                     # Might print \"[[ 0.91940167  0.08143941]\n",
    "                             #               [ 0.68744134  0.87236687]]\""
   ]
  },
  {
   "cell_type": "markdown",
   "metadata": {
    "id": "7QNOLklPWKR9"
   },
   "source": [
    "You can read about other methods of array creation in the [documentation](https://docs.scipy.org/doc/numpy/user/basics.creation.html#arrays-creation)."
   ]
  },
  {
   "cell_type": "markdown",
   "metadata": {
    "id": "U6fnf7AVWKR9"
   },
   "source": [
    "### Array indexing"
   ]
  },
  {
   "cell_type": "markdown",
   "metadata": {
    "id": "NegrMjkKWKR-"
   },
   "source": [
    "Numpy offers several ways to index into arrays."
   ]
  },
  {
   "cell_type": "markdown",
   "metadata": {
    "id": "jSIFZAlWWKR-"
   },
   "source": [
    "#### Slicing \n",
    "\n",
    "Similar to Python lists, numpy arrays can be sliced. Since arrays may be multidimensional, you must specify a slice for each dimension of the array:"
   ]
  },
  {
   "cell_type": "code",
   "execution_count": 33,
   "metadata": {
    "execution": {
     "iopub.execute_input": "2025-06-30T05:53:58.160992Z",
     "iopub.status.busy": "2025-06-30T05:53:58.160270Z",
     "iopub.status.idle": "2025-06-30T05:53:58.164910Z",
     "shell.execute_reply": "2025-06-30T05:53:58.164348Z",
     "shell.execute_reply.started": "2025-06-30T05:53:58.160963Z"
    },
    "id": "XVNWtWt_WKR_"
   },
   "outputs": [
    {
     "name": "stdout",
     "output_type": "stream",
     "text": [
      "2\n",
      "77\n"
     ]
    }
   ],
   "source": [
    "# Create the following rank 2 array with shape (3, 4)\n",
    "# [[ 1  2  3  4]\n",
    "#  [ 5  6  7  8]\n",
    "#  [ 9 10 11 12]]\n",
    "a = np.array([[1,2,3,4], [5,6,7,8], [9,10,11,12]])\n",
    "\n",
    "# Use slicing to pull out the subarray consisting of the first 2 rows\n",
    "# and columns 1 and 2; b is the following array of shape (2, 2):\n",
    "# [[2 3]\n",
    "#  [6 7]]\n",
    "b = a[:2, 1:3]\n",
    "\n",
    "# A slice of an array is a view into the same data, so modifying it\n",
    "# will modify the original array.\n",
    "print(a[0, 1])   # Prints \"2\"\n",
    "b[0, 0] = 77     # b[0, 0] is the same piece of data as a[0, 1]\n",
    "print(a[0, 1])   # Prints \"77\""
   ]
  },
  {
   "cell_type": "markdown",
   "metadata": {
    "id": "1F5mB7crWKR_"
   },
   "source": [
    "You can also mix integer indexing with slice indexing. However, doing so will yield an array of lower rank than the original array:"
   ]
  },
  {
   "cell_type": "code",
   "execution_count": 34,
   "metadata": {
    "execution": {
     "iopub.execute_input": "2025-06-30T05:53:58.568682Z",
     "iopub.status.busy": "2025-06-30T05:53:58.568202Z",
     "iopub.status.idle": "2025-06-30T05:53:58.573554Z",
     "shell.execute_reply": "2025-06-30T05:53:58.572994Z",
     "shell.execute_reply.started": "2025-06-30T05:53:58.568662Z"
    },
    "id": "xWFd9PbyWKSA"
   },
   "outputs": [
    {
     "name": "stdout",
     "output_type": "stream",
     "text": [
      "[5 6 7 8] (4,)\n",
      "[[5 6 7 8]] (1, 4)\n",
      "[ 2  6 10] (3,)\n",
      "[[ 2]\n",
      " [ 6]\n",
      " [10]] (3, 1)\n"
     ]
    }
   ],
   "source": [
    "# Create the following rank 2 array with shape (3, 4)\n",
    "# [[ 1  2  3  4]\n",
    "#  [ 5  6  7  8]\n",
    "#  [ 9 10 11 12]]\n",
    "a = np.array([[1,2,3,4], [5,6,7,8], [9,10,11,12]])\n",
    "\n",
    "# Two ways of accessing the data in the middle row of the array.\n",
    "# Mixing integer indexing with slices yields an array of lower rank,\n",
    "# while using only slices yields an array of the same rank as the\n",
    "# original array:\n",
    "row_r1 = a[1, :]    # Rank 1 view of the second row of a\n",
    "row_r2 = a[1:2, :]  # Rank 2 view of the second row of a\n",
    "print(row_r1, row_r1.shape)  # Prints \"[5 6 7 8] (4,)\"\n",
    "print(row_r2, row_r2.shape)  # Prints \"[[5 6 7 8]] (1, 4)\"\n",
    "\n",
    "# We can make the same distinction when accessing columns of an array:\n",
    "col_r1 = a[:, 1]\n",
    "col_r2 = a[:, 1:2]\n",
    "print(col_r1, col_r1.shape)  # Prints \"[ 2  6 10] (3,)\"\n",
    "print(col_r2, col_r2.shape)  # Prints \"[[ 2]\n",
    "                             #          [ 6]\n",
    "                             #          [10]] (3, 1)\""
   ]
  },
  {
   "cell_type": "markdown",
   "metadata": {
    "id": "BWJe42ZzWKSA"
   },
   "source": [
    "#### Integer array indexing\n",
    "\n",
    "When you index into numpy arrays using slicing, the resulting array view will always be a subarray of the original array. In contrast, integer array indexing allows you to construct arbitrary arrays using the data from another array. Here is an example:"
   ]
  },
  {
   "cell_type": "code",
   "execution_count": 35,
   "metadata": {
    "execution": {
     "iopub.execute_input": "2025-06-30T05:53:58.980687Z",
     "iopub.status.busy": "2025-06-30T05:53:58.980252Z",
     "iopub.status.idle": "2025-06-30T05:53:58.985280Z",
     "shell.execute_reply": "2025-06-30T05:53:58.984726Z",
     "shell.execute_reply.started": "2025-06-30T05:53:58.980665Z"
    },
    "id": "8bME80H_WKSB"
   },
   "outputs": [
    {
     "name": "stdout",
     "output_type": "stream",
     "text": [
      "[1 4 5]\n",
      "[1 4 5]\n",
      "[2 2]\n",
      "[2 2]\n"
     ]
    }
   ],
   "source": [
    "a = np.array([[1,2], [3, 4], [5, 6]])\n",
    "\n",
    "# An example of integer array indexing.\n",
    "# The returned array will have shape (3,) and\n",
    "print(a[[0, 1, 2], [0, 1, 0]])  # Prints \"[1 4 5]\"\n",
    "\n",
    "# The above example of integer array indexing is equivalent to this:\n",
    "print(np.array([a[0, 0], a[1, 1], a[2, 0]]))  # Prints \"[1 4 5]\"\n",
    "\n",
    "# When using integer array indexing, you can reuse the same\n",
    "# element from the source array:\n",
    "print(a[[0, 0], [1, 1]])  # Prints \"[2 2]\"\n",
    "\n",
    "# Equivalent to the previous integer array indexing example\n",
    "print(np.array([a[0, 1], a[0, 1]]))  # Prints \"[2 2]\""
   ]
  },
  {
   "cell_type": "markdown",
   "metadata": {
    "id": "Kcjct936WKSE"
   },
   "source": [
    "One useful trick with integer array indexing is selecting or mutating one element from each row of a matrix:"
   ]
  },
  {
   "cell_type": "code",
   "execution_count": 36,
   "metadata": {
    "execution": {
     "iopub.execute_input": "2025-06-30T05:53:59.355598Z",
     "iopub.status.busy": "2025-06-30T05:53:59.355202Z",
     "iopub.status.idle": "2025-06-30T05:53:59.360075Z",
     "shell.execute_reply": "2025-06-30T05:53:59.359533Z",
     "shell.execute_reply.started": "2025-06-30T05:53:59.355577Z"
    },
    "id": "P5UW9D2tWKSF"
   },
   "outputs": [
    {
     "name": "stdout",
     "output_type": "stream",
     "text": [
      "[[ 1  2  3]\n",
      " [ 4  5  6]\n",
      " [ 7  8  9]\n",
      " [10 11 12]]\n",
      "[ 1  6  7 11]\n",
      "[[11  2  3]\n",
      " [ 4  5 16]\n",
      " [17  8  9]\n",
      " [10 21 12]]\n"
     ]
    }
   ],
   "source": [
    "# Create a new array from which we will select elements\n",
    "a = np.array([[1,2,3], [4,5,6], [7,8,9], [10, 11, 12]])\n",
    "\n",
    "print(a)  # prints \"array([[ 1,  2,  3],\n",
    "          #                [ 4,  5,  6],\n",
    "          #                [ 7,  8,  9],\n",
    "          #                [10, 11, 12]])\"\n",
    "\n",
    "# Create an array of indices\n",
    "b = np.array([0, 2, 0, 1])\n",
    "\n",
    "# Select one element from each row of a using the indices in b\n",
    "print(a[np.arange(4), b])  # Prints \"[ 1  6  7 11]\"\n",
    "\n",
    "# Mutate one element from each row of a using the indices in b\n",
    "a[np.arange(4), b] += 10\n",
    "\n",
    "print(a)  # prints \"array([[11,  2,  3],\n",
    "          #                [ 4,  5, 16],\n",
    "          #                [17,  8,  9],\n",
    "          #                [10, 21, 12]])"
   ]
  },
  {
   "cell_type": "markdown",
   "metadata": {
    "id": "ellIekboWKSH"
   },
   "source": [
    "#### Boolean array indexing \n",
    "\n",
    "Boolean array indexing lets you pick out arbitrary elements of an array. Frequently this type of indexing is used to select the elements of an array that satisfy some condition. Here is an example:"
   ]
  },
  {
   "cell_type": "code",
   "execution_count": 37,
   "metadata": {
    "execution": {
     "iopub.execute_input": "2025-06-30T05:53:59.766845Z",
     "iopub.status.busy": "2025-06-30T05:53:59.766361Z",
     "iopub.status.idle": "2025-06-30T05:53:59.770843Z",
     "shell.execute_reply": "2025-06-30T05:53:59.770280Z",
     "shell.execute_reply.started": "2025-06-30T05:53:59.766825Z"
    },
    "id": "BEBKkhaLWKSH"
   },
   "outputs": [
    {
     "name": "stdout",
     "output_type": "stream",
     "text": [
      "[[False False]\n",
      " [ True  True]\n",
      " [ True  True]]\n",
      "[3 4 5 6]\n",
      "[3 4 5 6]\n"
     ]
    }
   ],
   "source": [
    "a = np.array([[1,2], [3, 4], [5, 6]])\n",
    "\n",
    "bool_idx = (a > 2)   # Find the elements of a that are bigger than 2;\n",
    "                     # this returns a numpy array of Booleans of the same\n",
    "                     # shape as a, where each slot of bool_idx tells\n",
    "                     # whether that element of a is > 2.\n",
    "\n",
    "print(bool_idx)      # Prints \"[[False False]\n",
    "                     #          [ True  True]\n",
    "                     #          [ True  True]]\"\n",
    "\n",
    "# We use boolean array indexing to construct a rank 1 array\n",
    "# consisting of the elements of a corresponding to the True values\n",
    "# of bool_idx\n",
    "print(a[bool_idx])  # Prints \"[3 4 5 6]\"\n",
    "\n",
    "# We can do all of the above in a single concise statement:\n",
    "print(a[a > 2])     # Prints \"[3 4 5 6]\""
   ]
  },
  {
   "cell_type": "markdown",
   "metadata": {
    "id": "ddW5arpNWKSI"
   },
   "source": [
    "For brevity we have left out a lot of details about numpy array indexing; if you want to know more you should read the [documentation](https://docs.scipy.org/doc/numpy/reference/arrays.indexing.html)."
   ]
  },
  {
   "cell_type": "markdown",
   "metadata": {
    "id": "u2lHw5BsWKSI"
   },
   "source": [
    "### Datatypes"
   ]
  },
  {
   "cell_type": "markdown",
   "metadata": {
    "id": "n69riEsDWKSI"
   },
   "source": [
    "Every numpy array is a grid of elements of the same type. Numpy provides a large set of numeric datatypes that you can use to construct arrays. Numpy tries to guess a datatype when you create an array, but functions that construct arrays usually also include an optional argument to explicitly specify the datatype. Here is an example:"
   ]
  },
  {
   "cell_type": "code",
   "execution_count": 38,
   "metadata": {
    "execution": {
     "iopub.execute_input": "2025-06-30T05:54:00.520910Z",
     "iopub.status.busy": "2025-06-30T05:54:00.520705Z",
     "iopub.status.idle": "2025-06-30T05:54:00.524649Z",
     "shell.execute_reply": "2025-06-30T05:54:00.524101Z",
     "shell.execute_reply.started": "2025-06-30T05:54:00.520892Z"
    },
    "id": "j056PH3yWKSJ"
   },
   "outputs": [
    {
     "name": "stdout",
     "output_type": "stream",
     "text": [
      "int64\n",
      "float64\n",
      "int64\n"
     ]
    }
   ],
   "source": [
    "x = np.array([1, 2])   # Let numpy choose the datatype\n",
    "print(x.dtype)         # Prints \"int64\"\n",
    "\n",
    "x = np.array([1.0, 2.0])   # Let numpy choose the datatype\n",
    "print(x.dtype)             # Prints \"float64\"\n",
    "\n",
    "x = np.array([1, 2], dtype=np.int64)   # Force a particular datatype\n",
    "print(x.dtype)                         # Prints \"int64\""
   ]
  },
  {
   "cell_type": "markdown",
   "metadata": {
    "id": "V_Oie3GTWKSJ"
   },
   "source": [
    "You can read all about numpy datatypes in the [documentation](https://docs.scipy.org/doc/numpy/reference/arrays.dtypes.html)."
   ]
  },
  {
   "cell_type": "markdown",
   "metadata": {
    "id": "W6O03EaaWKSJ"
   },
   "source": [
    "### Array math"
   ]
  },
  {
   "cell_type": "markdown",
   "metadata": {
    "id": "_oImgJjgWKSK"
   },
   "source": [
    "Basic mathematical functions operate elementwise on arrays, and are available both as operator overloads and as functions in the numpy module:"
   ]
  },
  {
   "cell_type": "code",
   "execution_count": 39,
   "metadata": {
    "execution": {
     "iopub.execute_input": "2025-06-30T05:54:01.337847Z",
     "iopub.status.busy": "2025-06-30T05:54:01.337624Z",
     "iopub.status.idle": "2025-06-30T05:54:01.343737Z",
     "shell.execute_reply": "2025-06-30T05:54:01.343187Z",
     "shell.execute_reply.started": "2025-06-30T05:54:01.337828Z"
    },
    "id": "eXMzKEmiWKSK"
   },
   "outputs": [
    {
     "name": "stdout",
     "output_type": "stream",
     "text": [
      "[[ 6.  8.]\n",
      " [10. 12.]]\n",
      "[[ 6.  8.]\n",
      " [10. 12.]]\n",
      "[[-4. -4.]\n",
      " [-4. -4.]]\n",
      "[[-4. -4.]\n",
      " [-4. -4.]]\n",
      "[[ 5. 12.]\n",
      " [21. 32.]]\n",
      "[[ 5. 12.]\n",
      " [21. 32.]]\n",
      "[[0.2        0.33333333]\n",
      " [0.42857143 0.5       ]]\n",
      "[[0.2        0.33333333]\n",
      " [0.42857143 0.5       ]]\n",
      "[[1.         1.41421356]\n",
      " [1.73205081 2.        ]]\n"
     ]
    }
   ],
   "source": [
    "x = np.array([[1,2],[3,4]], dtype=np.float64)\n",
    "y = np.array([[5,6],[7,8]], dtype=np.float64)\n",
    "\n",
    "# Elementwise sum; both produce the array\n",
    "# [[ 6.0  8.0]\n",
    "#  [10.0 12.0]]\n",
    "print(x + y)\n",
    "print(np.add(x, y))\n",
    "\n",
    "# Elementwise difference; both produce the array\n",
    "# [[-4.0 -4.0]\n",
    "#  [-4.0 -4.0]]\n",
    "print(x - y)\n",
    "print(np.subtract(x, y))\n",
    "\n",
    "# Elementwise product; both produce the array\n",
    "# [[ 5.0 12.0]\n",
    "#  [21.0 32.0]]\n",
    "print(x * y)\n",
    "print(np.multiply(x, y))\n",
    "\n",
    "# Elementwise division; both produce the array\n",
    "# [[ 0.2         0.33333333]\n",
    "#  [ 0.42857143  0.5       ]]\n",
    "print(x / y)\n",
    "print(np.divide(x, y))\n",
    "\n",
    "# Elementwise square root; produces the array\n",
    "# [[ 1.          1.41421356]\n",
    "#  [ 1.73205081  2.        ]]\n",
    "print(np.sqrt(x))"
   ]
  },
  {
   "cell_type": "markdown",
   "metadata": {
    "id": "xDSCM-UoWKSL"
   },
   "source": [
    "We use the dot function to compute inner products of vectors, to multiply a vector by a matrix, and to multiply matrices. dot is available both as a function in the numpy module and as an instance method of array objects:"
   ]
  },
  {
   "cell_type": "code",
   "execution_count": 40,
   "metadata": {
    "execution": {
     "iopub.execute_input": "2025-06-30T05:54:01.739982Z",
     "iopub.status.busy": "2025-06-30T05:54:01.739582Z",
     "iopub.status.idle": "2025-06-30T05:54:01.744528Z",
     "shell.execute_reply": "2025-06-30T05:54:01.743992Z",
     "shell.execute_reply.started": "2025-06-30T05:54:01.739962Z"
    },
    "id": "v4NoMOoiWKSM"
   },
   "outputs": [
    {
     "name": "stdout",
     "output_type": "stream",
     "text": [
      "219\n",
      "219\n",
      "[29 67]\n",
      "[29 67]\n",
      "[[19 22]\n",
      " [43 50]]\n",
      "[[19 22]\n",
      " [43 50]]\n"
     ]
    }
   ],
   "source": [
    "x = np.array([[1,2],[3,4]])\n",
    "y = np.array([[5,6],[7,8]])\n",
    "\n",
    "v = np.array([9,10])\n",
    "w = np.array([11, 12])\n",
    "\n",
    "# Inner product of vectors; both produce 219\n",
    "print(v.dot(w))\n",
    "print(np.dot(v, w))\n",
    "\n",
    "# Matrix / vector product; both produce the rank 1 array [29 67]\n",
    "print(x.dot(v))\n",
    "print(np.dot(x, v))\n",
    "\n",
    "# Matrix / matrix product; both produce the rank 2 array\n",
    "# [[19 22]\n",
    "#  [43 50]]\n",
    "print(x.dot(y))\n",
    "print(np.dot(x, y))"
   ]
  },
  {
   "cell_type": "markdown",
   "metadata": {
    "id": "1D70_KurWKSM"
   },
   "source": [
    "Numpy provides many useful functions for performing computations on arrays; one of the most useful is `sum`:"
   ]
  },
  {
   "cell_type": "code",
   "execution_count": 41,
   "metadata": {
    "execution": {
     "iopub.execute_input": "2025-06-30T05:54:02.145614Z",
     "iopub.status.busy": "2025-06-30T05:54:02.145394Z",
     "iopub.status.idle": "2025-06-30T05:54:02.149482Z",
     "shell.execute_reply": "2025-06-30T05:54:02.148916Z",
     "shell.execute_reply.started": "2025-06-30T05:54:02.145596Z"
    },
    "id": "rV2-npEjWKSM"
   },
   "outputs": [
    {
     "name": "stdout",
     "output_type": "stream",
     "text": [
      "10\n",
      "[4 6]\n",
      "[3 7]\n"
     ]
    }
   ],
   "source": [
    "x = np.array([[1,2],[3,4]])\n",
    "\n",
    "print(np.sum(x))  # Compute sum of all elements; prints \"10\"\n",
    "print(np.sum(x, axis=0))  # Compute sum of each column; prints \"[4 6]\"\n",
    "print(np.sum(x, axis=1))  # Compute sum of each row; prints \"[3 7]\""
   ]
  },
  {
   "cell_type": "markdown",
   "metadata": {
    "id": "S6CC77cnWKSN"
   },
   "source": [
    "You can find the full list of mathematical functions provided by numpy in the [documentation](https://docs.scipy.org/doc/numpy/reference/routines.math.html).\n",
    "\n",
    "Apart from computing mathematical functions using arrays, we frequently need to reshape or otherwise manipulate data in arrays. The simplest example of this type of operation is transposing a matrix; to transpose a matrix, simply use the T attribute of an array object:"
   ]
  },
  {
   "cell_type": "code",
   "execution_count": 42,
   "metadata": {
    "execution": {
     "iopub.execute_input": "2025-06-30T05:54:02.538143Z",
     "iopub.status.busy": "2025-06-30T05:54:02.537705Z",
     "iopub.status.idle": "2025-06-30T05:54:02.541892Z",
     "shell.execute_reply": "2025-06-30T05:54:02.541397Z",
     "shell.execute_reply.started": "2025-06-30T05:54:02.538122Z"
    },
    "id": "zDab1bssWKSN"
   },
   "outputs": [
    {
     "name": "stdout",
     "output_type": "stream",
     "text": [
      "[[1 2]\n",
      " [3 4]]\n",
      "[[1 3]\n",
      " [2 4]]\n",
      "[1 2 3]\n",
      "[1 2 3]\n"
     ]
    }
   ],
   "source": [
    "x = np.array([[1,2], [3,4]])\n",
    "print(x)    # Prints \"[[1 2]\n",
    "            #          [3 4]]\"\n",
    "print(x.T)  # Prints \"[[1 3]\n",
    "            #          [2 4]]\"\n",
    "\n",
    "# Note that taking the transpose of a rank 1 array does nothing:\n",
    "v = np.array([1,2,3])\n",
    "print(v)    # Prints \"[1 2 3]\"\n",
    "print(v.T)  # Prints \"[1 2 3]\""
   ]
  },
  {
   "cell_type": "markdown",
   "metadata": {
    "id": "7sYNo5d-WKSO"
   },
   "source": [
    "Numpy provides many more functions for manipulating arrays; you can see the full list in the [documentation](https://docs.scipy.org/doc/numpy/reference/routines.array-manipulation.html)."
   ]
  },
  {
   "cell_type": "markdown",
   "metadata": {
    "id": "fuld54y4WKSO"
   },
   "source": [
    "### Broadcasting"
   ]
  },
  {
   "cell_type": "markdown",
   "metadata": {
    "id": "MWTOmS2FWKSP"
   },
   "source": [
    "Broadcasting is a powerful mechanism that allows numpy to work with arrays of different shapes when performing arithmetic operations. Frequently we have a smaller array and a larger array, and we want to use the smaller array multiple times to perform some operation on the larger array.\n",
    "\n",
    "For example, suppose that we want to add a constant vector to each row of a matrix. We could do it like this:"
   ]
  },
  {
   "cell_type": "code",
   "execution_count": 43,
   "metadata": {
    "execution": {
     "iopub.execute_input": "2025-06-30T05:54:03.293283Z",
     "iopub.status.busy": "2025-06-30T05:54:03.292794Z",
     "iopub.status.idle": "2025-06-30T05:54:03.297513Z",
     "shell.execute_reply": "2025-06-30T05:54:03.296964Z",
     "shell.execute_reply.started": "2025-06-30T05:54:03.293260Z"
    },
    "id": "FhNRmwXKWKSP"
   },
   "outputs": [
    {
     "name": "stdout",
     "output_type": "stream",
     "text": [
      "[[ 2  2  4]\n",
      " [ 5  5  7]\n",
      " [ 8  8 10]\n",
      " [11 11 13]]\n"
     ]
    }
   ],
   "source": [
    "# We will add the vector v to each row of the matrix x,\n",
    "# storing the result in the matrix y\n",
    "x = np.array([[1,2,3], [4,5,6], [7,8,9], [10, 11, 12]])\n",
    "v = np.array([1, 0, 1])\n",
    "y = np.empty_like(x)   # Create an empty matrix with the same shape as x\n",
    "\n",
    "# Add the vector v to each row of the matrix x with an explicit loop\n",
    "for i in range(4):\n",
    "    y[i, :] = x[i, :] + v\n",
    "\n",
    "# Now y is the following\n",
    "# [[ 2  2  4]\n",
    "#  [ 5  5  7]\n",
    "#  [ 8  8 10]\n",
    "#  [11 11 13]]\n",
    "print(y)"
   ]
  },
  {
   "cell_type": "markdown",
   "metadata": {
    "id": "z_Lk23RrWKSQ"
   },
   "source": [
    "This works; however when the matrix `x` is very large, computing an explicit loop in Python could be slow. Note that adding the vector `v` to each row of the matrix `x` is equivalent to forming a matrix `vv` by stacking multiple copies of `v` vertically, then performing elementwise summation of `x` and `vv`. We could implement this approach like this:"
   ]
  },
  {
   "cell_type": "code",
   "execution_count": 44,
   "metadata": {
    "execution": {
     "iopub.execute_input": "2025-06-30T05:54:03.674038Z",
     "iopub.status.busy": "2025-06-30T05:54:03.673664Z",
     "iopub.status.idle": "2025-06-30T05:54:03.678224Z",
     "shell.execute_reply": "2025-06-30T05:54:03.677650Z",
     "shell.execute_reply.started": "2025-06-30T05:54:03.674019Z"
    },
    "id": "FLw5y_KoWKSQ"
   },
   "outputs": [
    {
     "name": "stdout",
     "output_type": "stream",
     "text": [
      "[[1 0 1]\n",
      " [1 0 1]\n",
      " [1 0 1]\n",
      " [1 0 1]]\n",
      "[[ 2  2  4]\n",
      " [ 5  5  7]\n",
      " [ 8  8 10]\n",
      " [11 11 13]]\n"
     ]
    }
   ],
   "source": [
    "# We will add the vector v to each row of the matrix x,\n",
    "# storing the result in the matrix y\n",
    "x = np.array([[1,2,3], [4,5,6], [7,8,9], [10, 11, 12]])\n",
    "v = np.array([1, 0, 1])\n",
    "vv = np.tile(v, (4, 1))   # Stack 4 copies of v on top of each other\n",
    "print(vv)                 # Prints \"[[1 0 1]\n",
    "                          #          [1 0 1]\n",
    "                          #          [1 0 1]\n",
    "                          #          [1 0 1]]\"\n",
    "y = x + vv  # Add x and vv elementwise\n",
    "print(y)  # Prints \"[[ 2  2  4\n",
    "          #          [ 5  5  7]\n",
    "          #          [ 8  8 10]\n",
    "          #          [11 11 13]]\""
   ]
  },
  {
   "cell_type": "markdown",
   "metadata": {
    "id": "4zIopNHsWKSR"
   },
   "source": [
    "Numpy broadcasting allows us to perform this computation without actually creating multiple copies of `v`. Consider this version, using broadcasting:"
   ]
  },
  {
   "cell_type": "code",
   "execution_count": 45,
   "metadata": {
    "execution": {
     "iopub.execute_input": "2025-06-30T05:54:04.062217Z",
     "iopub.status.busy": "2025-06-30T05:54:04.061735Z",
     "iopub.status.idle": "2025-06-30T05:54:04.065751Z",
     "shell.execute_reply": "2025-06-30T05:54:04.065182Z",
     "shell.execute_reply.started": "2025-06-30T05:54:04.062196Z"
    },
    "id": "XlD0dy8iWKSR"
   },
   "outputs": [
    {
     "name": "stdout",
     "output_type": "stream",
     "text": [
      "[[ 2  2  4]\n",
      " [ 5  5  7]\n",
      " [ 8  8 10]\n",
      " [11 11 13]]\n"
     ]
    }
   ],
   "source": [
    "# We will add the vector v to each row of the matrix x,\n",
    "# storing the result in the matrix y\n",
    "x = np.array([[1,2,3], [4,5,6], [7,8,9], [10, 11, 12]])\n",
    "v = np.array([1, 0, 1])\n",
    "y = x + v  # Add v to each row of x using broadcasting\n",
    "print(y)  # Prints \"[[ 2  2  4]\n",
    "          #          [ 5  5  7]\n",
    "          #          [ 8  8 10]\n",
    "          #          [11 11 13]]\""
   ]
  },
  {
   "cell_type": "markdown",
   "metadata": {
    "id": "U9sJAgKBWKSS"
   },
   "source": [
    "The line `y = x + v` works even though `x` has shape `(4, 3)` and `v` has shape `(3,)` due to broadcasting; this line works as if `v` actually had shape `(4, 3)`, where each row was a copy of `v`, and the sum was performed elementwise.\n",
    "\n",
    "Broadcasting two arrays together follows these rules:\n",
    "\n",
    "If the arrays do not have the same rank, prepend the shape of the lower rank array with 1s until both shapes have the same length.\n",
    "The two arrays are said to be compatible in a dimension if they have the same size in the dimension, or if one of the arrays has size 1 in that dimension.\n",
    "The arrays can be broadcast together if they are compatible in all dimensions.\n",
    "After broadcasting, each array behaves as if it had shape equal to the elementwise maximum of shapes of the two input arrays.\n",
    "In any dimension where one array had size 1 and the other array had size greater than 1, the first array behaves as if it were copied along that dimension\n",
    "If this explanation does not make sense, try reading the explanation from the [documentation](https://docs.scipy.org/doc/numpy/user/basics.broadcasting.html) or this [explanation](https://numpy.org/devdocs/user/theory.broadcasting.html).\n",
    "\n",
    "Functions that support broadcasting are known as universal functions. You can find the list of all universal functions in the [documentation](https://docs.scipy.org/doc/numpy/reference/ufuncs.html#available-ufuncs).\n",
    "\n",
    "Here are some applications of broadcasting:"
   ]
  },
  {
   "cell_type": "code",
   "execution_count": 46,
   "metadata": {
    "execution": {
     "iopub.execute_input": "2025-06-30T05:54:04.452921Z",
     "iopub.status.busy": "2025-06-30T05:54:04.452530Z",
     "iopub.status.idle": "2025-06-30T05:54:04.457959Z",
     "shell.execute_reply": "2025-06-30T05:54:04.457393Z",
     "shell.execute_reply.started": "2025-06-30T05:54:04.452902Z"
    },
    "id": "61nwixDfWKST"
   },
   "outputs": [
    {
     "name": "stdout",
     "output_type": "stream",
     "text": [
      "[[ 4  5]\n",
      " [ 8 10]\n",
      " [12 15]]\n",
      "[[2 4 6]\n",
      " [5 7 9]]\n",
      "[[ 5  6  7]\n",
      " [ 9 10 11]]\n",
      "[[ 5  6  7]\n",
      " [ 9 10 11]]\n",
      "[[ 2  4  6]\n",
      " [ 8 10 12]]\n"
     ]
    }
   ],
   "source": [
    "# Compute outer product of vectors\n",
    "v = np.array([1,2,3])  # v has shape (3,)\n",
    "w = np.array([4,5])    # w has shape (2,)\n",
    "# To compute an outer product, we first reshape v to be a column\n",
    "# vector of shape (3, 1); we can then broadcast it against w to yield\n",
    "# an output of shape (3, 2), which is the outer product of v and w:\n",
    "# [[ 4  5]\n",
    "#  [ 8 10]\n",
    "#  [12 15]]\n",
    "print(np.reshape(v, (3, 1)) * w)\n",
    "\n",
    "# Add a vector to each row of a matrix\n",
    "x = np.array([[1,2,3], [4,5,6]])\n",
    "# x has shape (2, 3) and v has shape (3,) so they broadcast to (2, 3),\n",
    "# giving the following matrix:\n",
    "# [[2 4 6]\n",
    "#  [5 7 9]]\n",
    "print(x + v)\n",
    "\n",
    "# Add a vector to each column of a matrix\n",
    "# x has shape (2, 3) and w has shape (2,).\n",
    "# If we transpose x then it has shape (3, 2) and can be broadcast\n",
    "# against w to yield a result of shape (3, 2); transposing this result\n",
    "# yields the final result of shape (2, 3) which is the matrix x with\n",
    "# the vector w added to each column. Gives the following matrix:\n",
    "# [[ 5  6  7]\n",
    "#  [ 9 10 11]]\n",
    "print((x.T + w).T)\n",
    "# Another solution is to reshape w to be a column vector of shape (2, 1);\n",
    "# we can then broadcast it directly against x to produce the same\n",
    "# output.\n",
    "print(x + np.reshape(w, (2, 1)))\n",
    "\n",
    "# Multiply a matrix by a constant:\n",
    "# x has shape (2, 3). Numpy treats scalars as arrays of shape ();\n",
    "# these can be broadcast together to shape (2, 3), producing the\n",
    "# following array:\n",
    "# [[ 2  4  6]\n",
    "#  [ 8 10 12]]\n",
    "print(x * 2)"
   ]
  },
  {
   "cell_type": "markdown",
   "metadata": {
    "id": "REL7CA21WKSU"
   },
   "source": [
    "Broadcasting typically makes your code more concise and faster, so you should strive to use it where possible."
   ]
  },
  {
   "cell_type": "markdown",
   "metadata": {
    "id": "AeYhJt6_WKSV"
   },
   "source": [
    "This brief overview has touched on many of the important things that you need to know about numpy, but is far from complete. Check out the [numpy reference](https://docs.scipy.org/doc/numpy/reference/) to find out much more about numpy."
   ]
  },
  {
   "cell_type": "markdown",
   "metadata": {
    "id": "r0_WmUyYBhse"
   },
   "source": [
    "## Iterators\n",
    "\n",
    "Iterators are objects that contain countable number of values. Iterators can traverse the different structures like list, dictionaries, tuples, strings and sets etc through their values. The structures on which iterators can iterate on are called **iterable objects**. For example, we will make a list and return iterator from it.The `next()` function on iterator is called to get the next item from iterator."
   ]
  },
  {
   "cell_type": "code",
   "execution_count": 47,
   "metadata": {
    "execution": {
     "iopub.execute_input": "2025-06-30T05:54:05.232338Z",
     "iopub.status.busy": "2025-06-30T05:54:05.231840Z",
     "iopub.status.idle": "2025-06-30T05:54:05.235828Z",
     "shell.execute_reply": "2025-06-30T05:54:05.235264Z",
     "shell.execute_reply.started": "2025-06-30T05:54:05.232317Z"
    },
    "id": "Il9UycHDC5zY"
   },
   "outputs": [
    {
     "name": "stdout",
     "output_type": "stream",
     "text": [
      "blue\n",
      "orange\n",
      "green\n",
      "yellow\n"
     ]
    }
   ],
   "source": [
    "mylist = ['blue', 'orange', 'green', 'yellow']  ## create a list 'mylist'\n",
    "itr = iter(mylist)  ## create an iterator of mylist using iter() function\n",
    "print(next(itr))  ## print 1st element of mylist\n",
    "print(next(itr))  ## print 2nd element of mylist\n",
    "print(next(itr))  ## print 3rd element of mylist\n",
    "print(next(itr))  ## print 4rth element of mylist"
   ]
  },
  {
   "cell_type": "markdown",
   "metadata": {
    "id": "ZHTOpnsbG1SC"
   },
   "source": [
    "## Zip in Python\n",
    "Zip function returns a zip object which is an iterator of tuples where first tuple represent the first enteries of the two passed tuples paired together, second tuple represents the second entries of passed tuples paired together and so on.\n",
    "Example below shows two tuples `a` and `b` passed as input to `zip` function to zip respective entries together.\n"
   ]
  },
  {
   "cell_type": "code",
   "execution_count": 48,
   "metadata": {
    "execution": {
     "iopub.execute_input": "2025-06-30T05:54:05.743443Z",
     "iopub.status.busy": "2025-06-30T05:54:05.743060Z",
     "iopub.status.idle": "2025-06-30T05:54:05.746831Z",
     "shell.execute_reply": "2025-06-30T05:54:05.746255Z",
     "shell.execute_reply.started": "2025-06-30T05:54:05.743425Z"
    },
    "id": "tegAs3CVNEAG"
   },
   "outputs": [
    {
     "name": "stdout",
     "output_type": "stream",
     "text": [
      "(('2', '4'), ('3', '9'), ('4', '16'), ('5', '25'), ('6', '36'))\n"
     ]
    }
   ],
   "source": [
    "a = ('2', '3', '4', '5', '6')  ## create tuple 'a'\n",
    "b = ('4', '9', '16', '25', '36')  ## create b tuple 'b'\n",
    "z = zip(a,b) ## zip both tuples \n",
    "print(tuple(z)) ## print zip result. Will print (('2', '4'), ('3', '9'), ('4', '16'), ('5', '25'), ('6', '36'))"
   ]
  },
  {
   "cell_type": "markdown",
   "metadata": {
    "id": "YHuVQrcoQtSW"
   },
   "source": [
    "### Zip Lists\n",
    "\n",
    "Zip can also be used to zip entries of two lists together. Example is given below:"
   ]
  },
  {
   "cell_type": "code",
   "execution_count": 49,
   "metadata": {
    "execution": {
     "iopub.execute_input": "2025-06-30T05:54:05.974832Z",
     "iopub.status.busy": "2025-06-30T05:54:05.974368Z",
     "iopub.status.idle": "2025-06-30T05:54:05.978067Z",
     "shell.execute_reply": "2025-06-30T05:54:05.977480Z",
     "shell.execute_reply.started": "2025-06-30T05:54:05.974813Z"
    },
    "id": "axC--DuyN6K2"
   },
   "outputs": [
    {
     "name": "stdout",
     "output_type": "stream",
     "text": [
      "[('l1', 's1'), ('l2', 's2'), ('l3', 's3'), ('l4', 's4'), ('l5', 's5')]\n"
     ]
    }
   ],
   "source": [
    "a = ['l1', 'l2', 'l3', 'l4', 'l5'] ## create list 'a'\n",
    "b = ['s1', 's2', 's3', 's4', 's5'] ## create tuple 'b'\n",
    "z = zip(a,b) ## zip both lists \n",
    "print(list(z))## print zip result. Will print [('l1', 's1'), ('l2', 's2'), ('l3', 's3'), ('l4', 's4'), ('l5', 's5')]"
   ]
  },
  {
   "cell_type": "markdown",
   "metadata": {
    "id": "vQMZ4_3ZNtnO"
   },
   "source": [
    "### Zip Lists to a dictionary\n",
    "We can zip entries of two lists together to form a dictionary. Given an example below use `zip` and `dict` functions. `dict` converts zip iterator to a dictionary."
   ]
  },
  {
   "cell_type": "code",
   "execution_count": 50,
   "metadata": {
    "execution": {
     "iopub.execute_input": "2025-06-30T05:54:06.352760Z",
     "iopub.status.busy": "2025-06-30T05:54:06.352288Z",
     "iopub.status.idle": "2025-06-30T05:54:06.355968Z",
     "shell.execute_reply": "2025-06-30T05:54:06.355403Z",
     "shell.execute_reply.started": "2025-06-30T05:54:06.352740Z"
    },
    "id": "6qmO3agSPV_4"
   },
   "outputs": [
    {
     "name": "stdout",
     "output_type": "stream",
     "text": [
      "{'Alphabet C': 3452, 'VCPlus': 1127, 'TCS': 2750}\n"
     ]
    }
   ],
   "source": [
    "stocks = ['Alphabet C', 'VCPlus', 'TCS']  ## create list 'stocks'\n",
    "prices = [3452, 1127, 2750]  ## create list 'prices'\n",
    "dictionary = dict(zip(stocks, prices))   ## zip the two lists and convert zip object to a dictionary using dict()\n",
    "print(dictionary) ## print dictionary {'Alphabet C': 3452, 'VCPlus': 1127, 'TCS': 2750}"
   ]
  },
  {
   "cell_type": "markdown",
   "metadata": {
    "id": "jsQjzDRDTgnI"
   },
   "source": [
    "To read more on zip built-in function, refer to [documentation](https://docs.python.org/3/library/functions.html#zip) here."
   ]
  },
  {
   "cell_type": "markdown",
   "metadata": {
    "id": "IoCBqMS9WKSW"
   },
   "source": [
    "## Matplotlib"
   ]
  },
  {
   "cell_type": "markdown",
   "metadata": {
    "id": "6fcef1L8WKSW"
   },
   "source": [
    "[Matplotlib](https://matplotlib.org/) is a plotting library. In this section give a brief introduction to the `matplotlib.pyplot` module, which provides a plotting system similar to that of MATLAB."
   ]
  },
  {
   "cell_type": "code",
   "execution_count": 51,
   "metadata": {
    "execution": {
     "iopub.execute_input": "2025-06-30T05:54:07.122496Z",
     "iopub.status.busy": "2025-06-30T05:54:07.122249Z",
     "iopub.status.idle": "2025-06-30T05:54:07.125362Z",
     "shell.execute_reply": "2025-06-30T05:54:07.124794Z",
     "shell.execute_reply.started": "2025-06-30T05:54:07.122476Z"
    },
    "id": "aa1Qp-9cWKSX"
   },
   "outputs": [],
   "source": [
    "import matplotlib.pyplot as plt"
   ]
  },
  {
   "cell_type": "markdown",
   "metadata": {
    "id": "v9jjd93vWKSX"
   },
   "source": [
    "By running this special iPython command, we will be displaying plots inline:"
   ]
  },
  {
   "cell_type": "code",
   "execution_count": 52,
   "metadata": {
    "execution": {
     "iopub.execute_input": "2025-06-30T05:54:07.485275Z",
     "iopub.status.busy": "2025-06-30T05:54:07.485069Z",
     "iopub.status.idle": "2025-06-30T05:54:07.495182Z",
     "shell.execute_reply": "2025-06-30T05:54:07.494639Z",
     "shell.execute_reply.started": "2025-06-30T05:54:07.485257Z"
    },
    "id": "o0Fb-dJSWKSY"
   },
   "outputs": [],
   "source": [
    "%matplotlib inline"
   ]
  },
  {
   "cell_type": "markdown",
   "metadata": {
    "id": "Y70GeIJgWKSZ"
   },
   "source": [
    "### Plotting"
   ]
  },
  {
   "cell_type": "markdown",
   "metadata": {
    "id": "gjV_pGftWKSZ"
   },
   "source": [
    "The most important function in `matplotlib` is `plot`, which allows you to plot 2D data. Here is a simple example:"
   ]
  },
  {
   "cell_type": "code",
   "execution_count": 53,
   "metadata": {
    "colab": {
     "base_uri": "https://localhost:8080/",
     "height": 265
    },
    "execution": {
     "iopub.execute_input": "2025-06-30T05:54:08.061059Z",
     "iopub.status.busy": "2025-06-30T05:54:08.060564Z",
     "iopub.status.idle": "2025-06-30T05:54:08.157881Z",
     "shell.execute_reply": "2025-06-30T05:54:08.157300Z",
     "shell.execute_reply.started": "2025-06-30T05:54:08.061036Z"
    },
    "executionInfo": {
     "elapsed": 85,
     "status": "ok",
     "timestamp": 1632761731859,
     "user": {
      "displayName": "Eman Gpu",
      "photoUrl": "https://lh3.googleusercontent.com/a/default-user=s64",
      "userId": "10062528383135308282"
     },
     "user_tz": -300
    },
    "id": "Yu4-N8n-WKSa",
    "outputId": "80652f49-7a8c-44cf-c895-f93070979a69"
   },
   "outputs": [
    {
     "data": {
      "image/png": "[encoded data removed]",
      "text/plain": [
       "<Figure size 640x480 with 1 Axes>"
      ]
     },
     "metadata": {},
     "output_type": "display_data"
    }
   ],
   "source": [
    "# Compute the x and y coordinates for points on a sine curve\n",
    "x = np.arange(0, 3 * np.pi, 0.1)\n",
    "y = np.sin(x)\n",
    "\n",
    "# Plot the points using matplotlib\n",
    "plt.plot(x, y)\n",
    "plt.show()  # You must call plt.show() to make graphics appear."
   ]
  },
  {
   "cell_type": "markdown",
   "metadata": {
    "id": "hPg7iOcwWKSa"
   },
   "source": [
    "With just a little bit of extra work we can easily plot multiple lines at once, and add a title, legend, and axis labels:"
   ]
  },
  {
   "cell_type": "code",
   "execution_count": 54,
   "metadata": {
    "colab": {
     "base_uri": "https://localhost:8080/",
     "height": 295
    },
    "execution": {
     "iopub.execute_input": "2025-06-30T05:54:08.428905Z",
     "iopub.status.busy": "2025-06-30T05:54:08.428340Z",
     "iopub.status.idle": "2025-06-30T05:54:08.555418Z",
     "shell.execute_reply": "2025-06-30T05:54:08.554862Z",
     "shell.execute_reply.started": "2025-06-30T05:54:08.428882Z"
    },
    "executionInfo": {
     "elapsed": 698,
     "status": "ok",
     "timestamp": 1632761734439,
     "user": {
      "displayName": "Eman Gpu",
      "photoUrl": "https://lh3.googleusercontent.com/a/default-user=s64",
      "userId": "10062528383135308282"
     },
     "user_tz": -300
    },
    "id": "65z3ngzCWKSa",
    "outputId": "ee49eedb-7330-431c-9d37-3f3ce438dc0b"
   },
   "outputs": [
    {
     "data": {
      "image/png": "[encoded data removed]",
      "text/plain": [
       "<Figure size 640x480 with 1 Axes>"
      ]
     },
     "metadata": {},
     "output_type": "display_data"
    }
   ],
   "source": [
    "# Compute the x and y coordinates for points on sine and cosine curves\n",
    "x = np.arange(0, 3 * np.pi, 0.1)\n",
    "y_sin = np.sin(x)\n",
    "y_cos = np.cos(x)\n",
    "\n",
    "# Plot the points using matplotlib\n",
    "plt.plot(x, y_sin)\n",
    "plt.plot(x, y_cos)\n",
    "plt.xlabel('x axis label')\n",
    "plt.ylabel('y axis label')\n",
    "plt.title('Sine and Cosine')\n",
    "plt.legend(['Sine', 'Cosine'])\n",
    "plt.show()"
   ]
  },
  {
   "cell_type": "markdown",
   "metadata": {
    "id": "BXdl9cX1WKSb"
   },
   "source": [
    "You can read much more about the `plot` function in the [documentation](https://matplotlib.org/api/pyplot_api.html#matplotlib.pyplot.plot)."
   ]
  },
  {
   "cell_type": "markdown",
   "metadata": {
    "id": "yjv8odw0WKSb"
   },
   "source": [
    "### Subplots "
   ]
  },
  {
   "cell_type": "markdown",
   "metadata": {
    "id": "9t2sZt62WKSc"
   },
   "source": [
    "You can plot different things in the same figure using the subplot function. Here is an example:"
   ]
  },
  {
   "cell_type": "code",
   "execution_count": 55,
   "metadata": {
    "colab": {
     "base_uri": "https://localhost:8080/",
     "height": 281
    },
    "execution": {
     "iopub.execute_input": "2025-06-30T05:54:09.211971Z",
     "iopub.status.busy": "2025-06-30T05:54:09.211497Z",
     "iopub.status.idle": "2025-06-30T05:54:09.361268Z",
     "shell.execute_reply": "2025-06-30T05:54:09.360687Z",
     "shell.execute_reply.started": "2025-06-30T05:54:09.211947Z"
    },
    "executionInfo": {
     "elapsed": 471,
     "status": "ok",
     "timestamp": 1632764801722,
     "user": {
      "displayName": "Eman Gpu",
      "photoUrl": "https://lh3.googleusercontent.com/a/default-user=s64",
      "userId": "10062528383135308282"
     },
     "user_tz": -300
    },
    "id": "XuTfX3CcWKSc",
    "outputId": "a17df40b-a68b-44f9-e785-3109ba6607ed"
   },
   "outputs": [
    {
     "data": {
      "image/png": "[encoded data removed]",
      "text/plain": [
       "<Figure size 640x480 with 2 Axes>"
      ]
     },
     "metadata": {},
     "output_type": "display_data"
    }
   ],
   "source": [
    "# Compute the x and y coordinates for points on sine and cosine curves\n",
    "x = np.arange(0, 3 * np.pi, 0.1)\n",
    "y_sin = np.sin(x)\n",
    "y_cos = np.cos(x)\n",
    "\n",
    "# Set up a subplot grid that has height 2 and width 1,\n",
    "# and set the first such subplot as active.\n",
    "plt.subplot(2, 1, 1)\n",
    "\n",
    "# Make the first plot\n",
    "plt.plot(x, y_sin)\n",
    "plt.title('Sine')\n",
    "\n",
    "# Set the second subplot as active, and make the second plot.\n",
    "plt.subplot(2, 1, 2)\n",
    "plt.plot(x, y_cos)\n",
    "plt.title('Cosine')\n",
    "\n",
    "# Show the figure.\n",
    "plt.show()"
   ]
  },
  {
   "cell_type": "markdown",
   "metadata": {
    "id": "2WRJ69zXWKSc"
   },
   "source": [
    "You can read much more about the `subplot` function in the [documentation](https://matplotlib.org/api/pyplot_api.html#matplotlib.pyplot.subplot)."
   ]
  },
  {
   "cell_type": "markdown",
   "metadata": {
    "id": "drzsBrKVaYcv"
   },
   "source": [
    "## Regex\n",
    "\n",
    "A regular expression (or RE) specifies a set of strings that matches it; the functions in this module let you check if a particular string matches a given regular expression (or if a given regular expression matches a particular string, which comes down to the same thing). Regex may involve metacharaters/Sequences/Sets that form a search pattern.\n",
    "\n",
    "1. `^` matches the start of the string\n",
    "2. `*` matches zero or more number of repitions of preceding Regular expression.\n",
    "3.  `$` matches the end of string with given sequence.\n",
    "4.  `\\d`\tReturns a match where the string contains digits (numbers from 0-9)\n",
    "5.  `\\s` returns a match where the string contains a white space character\n",
    "6.  `[a-n]` returns a match for any lower case character, alphabetically between a and n.\n",
    "7.  `[0-9]` returns a match for any digit between 0 and 9\n",
    "\n",
    "Complete list of sequences can be found [here](https://docs.python.org/3/library/re.html)\n",
    "\n",
    "To use Regex, we first need to import the package."
   ]
  },
  {
   "cell_type": "code",
   "execution_count": 56,
   "metadata": {
    "execution": {
     "iopub.execute_input": "2025-06-30T05:54:09.811376Z",
     "iopub.status.busy": "2025-06-30T05:54:09.810959Z",
     "iopub.status.idle": "2025-06-30T05:54:09.813996Z",
     "shell.execute_reply": "2025-06-30T05:54:09.813437Z",
     "shell.execute_reply.started": "2025-06-30T05:54:09.811355Z"
    },
    "id": "U7nvlhLtcBwX"
   },
   "outputs": [],
   "source": [
    "import re"
   ]
  },
  {
   "cell_type": "markdown",
   "metadata": {
    "id": "QqyKqSrlcpMY"
   },
   "source": [
    "This package offers variety of different functions which can be used to find patterns in the string."
   ]
  },
  {
   "cell_type": "markdown",
   "metadata": {
    "id": "0-LpOKUheedf"
   },
   "source": [
    "###FindAll()\n",
    "This method is used to print a list of all the matches of given string. If no matches are found then an empty list is returned. Following examples will explain:"
   ]
  },
  {
   "cell_type": "code",
   "execution_count": 57,
   "metadata": {
    "execution": {
     "iopub.execute_input": "2025-06-30T05:54:10.392119Z",
     "iopub.status.busy": "2025-06-30T05:54:10.391716Z",
     "iopub.status.idle": "2025-06-30T05:54:10.395334Z",
     "shell.execute_reply": "2025-06-30T05:54:10.394807Z",
     "shell.execute_reply.started": "2025-06-30T05:54:10.392098Z"
    },
    "id": "hjnI4JNIccGV"
   },
   "outputs": [
    {
     "name": "stdout",
     "output_type": "stream",
     "text": [
      "['day', 'day']\n"
     ]
    }
   ],
   "source": [
    "txt = \"Its been an energetic day today.\"\n",
    "x = re.findall(\"day\", txt) ## find all instances of string 'day' in txt string\n",
    "print(x) ## print all occurences if exist"
   ]
  },
  {
   "cell_type": "code",
   "execution_count": 58,
   "metadata": {
    "execution": {
     "iopub.execute_input": "2025-06-30T05:54:10.591843Z",
     "iopub.status.busy": "2025-06-30T05:54:10.591369Z",
     "iopub.status.idle": "2025-06-30T05:54:10.595407Z",
     "shell.execute_reply": "2025-06-30T05:54:10.594894Z",
     "shell.execute_reply.started": "2025-06-30T05:54:10.591823Z"
    },
    "id": "TgXqKIUof3UX"
   },
   "outputs": [
    {
     "name": "stdout",
     "output_type": "stream",
     "text": [
      "[]\n"
     ]
    }
   ],
   "source": [
    "txt = \"from\"\n",
    "x = \"We are going there tomorrow.\"\n",
    "x = re.findall(\"is\", txt) ## find all instances of string 'is' in txt string\n",
    "print(x) ## print empty string since no such instances exist"
   ]
  },
  {
   "cell_type": "markdown",
   "metadata": {
    "id": "VNGPR3MDhis_"
   },
   "source": [
    "### Split()\n",
    "Split function is used to return a list where there the string has been split at each match. In example below, regular expression `\\s` splits the string at each white space character."
   ]
  },
  {
   "cell_type": "code",
   "execution_count": 59,
   "metadata": {
    "execution": {
     "iopub.execute_input": "2025-06-30T05:54:10.988942Z",
     "iopub.status.busy": "2025-06-30T05:54:10.988528Z",
     "iopub.status.idle": "2025-06-30T05:54:10.992280Z",
     "shell.execute_reply": "2025-06-30T05:54:10.991747Z",
     "shell.execute_reply.started": "2025-06-30T05:54:10.988922Z"
    },
    "id": "uQnxudvzi16a"
   },
   "outputs": [
    {
     "name": "stdout",
     "output_type": "stream",
     "text": [
      "['We', 'are', 'going', 'to', 'a', 'park.']\n"
     ]
    }
   ],
   "source": [
    "txt = \"We are going to a park.\"\n",
    "x = re.split(\"\\s\", txt)\n",
    "print(x)\n"
   ]
  },
  {
   "cell_type": "markdown",
   "metadata": {
    "id": "oKX76GaAjHVT"
   },
   "source": [
    "We can control the maximum number of splits by providing `maxsplit` parameter. In example below, only first 2 splits occurences will be found and returned as list."
   ]
  },
  {
   "cell_type": "code",
   "execution_count": 60,
   "metadata": {
    "execution": {
     "iopub.execute_input": "2025-06-30T05:54:11.398587Z",
     "iopub.status.busy": "2025-06-30T05:54:11.398196Z",
     "iopub.status.idle": "2025-06-30T05:54:11.401884Z",
     "shell.execute_reply": "2025-06-30T05:54:11.401311Z",
     "shell.execute_reply.started": "2025-06-30T05:54:11.398568Z"
    },
    "id": "mJY_i5e0i2yz"
   },
   "outputs": [
    {
     "name": "stdout",
     "output_type": "stream",
     "text": [
      "['We', 'are', 'going to a park.']\n"
     ]
    }
   ],
   "source": [
    "txt = \"We are going to a park.\"\n",
    "x = re.split(\"\\s\", txt, 2)\n",
    "print(x)"
   ]
  },
  {
   "cell_type": "markdown",
   "metadata": {
    "id": "Q2MH7_GpkArR"
   },
   "source": [
    "### Sub()\n",
    "The sub() function replaces the matches with the text of your choice. For example, [0-9] regex will replace digits with given string."
   ]
  },
  {
   "cell_type": "code",
   "execution_count": 61,
   "metadata": {
    "colab": {
     "base_uri": "https://localhost:8080/"
    },
    "execution": {
     "iopub.execute_input": "2025-06-30T05:54:11.810048Z",
     "iopub.status.busy": "2025-06-30T05:54:11.809522Z",
     "iopub.status.idle": "2025-06-30T05:54:11.813289Z",
     "shell.execute_reply": "2025-06-30T05:54:11.812777Z",
     "shell.execute_reply.started": "2025-06-30T05:54:11.810030Z"
    },
    "executionInfo": {
     "elapsed": 410,
     "status": "ok",
     "timestamp": 1632385567896,
     "user": {
      "displayName": "Eman Gpu",
      "photoUrl": "https://lh3.googleusercontent.com/a/default-user=s64",
      "userId": "10062528383135308282"
     },
     "user_tz": -300
    },
    "id": "P86p7D0xjWMY",
    "outputId": "990b273a-82e0-4049-957a-c113ee4c10ac"
   },
   "outputs": [
    {
     "name": "stdout",
     "output_type": "stream",
     "text": [
      "Some digits like --- and --- are replaced.\n"
     ]
    }
   ],
   "source": [
    "txt = \"Some digits like 100 and 490 are replaced.\"\n",
    "x = re.sub(\"[0-9]\", \"-\", txt)\n",
    "print(x) "
   ]
  },
  {
   "cell_type": "markdown",
   "metadata": {
    "id": "uKpK2z16x47W"
   },
   "source": [
    "### Search()\n",
    "Returns a Match object if there is a match anywhere in the string.\n",
    "Using this method, the regular expression in given example looks for any words that starts with an upper case \"S\":"
   ]
  },
  {
   "cell_type": "code",
   "execution_count": 62,
   "metadata": {
    "execution": {
     "iopub.execute_input": "2025-06-30T05:54:12.200321Z",
     "iopub.status.busy": "2025-06-30T05:54:12.199938Z",
     "iopub.status.idle": "2025-06-30T05:54:12.203771Z",
     "shell.execute_reply": "2025-06-30T05:54:12.203255Z",
     "shell.execute_reply.started": "2025-06-30T05:54:12.200303Z"
    },
    "id": "MxuFolNDwtl2"
   },
   "outputs": [
    {
     "name": "stdout",
     "output_type": "stream",
     "text": [
      "<re.Match object; span=(12, 17), match='Spain'>\n",
      "Spain\n"
     ]
    }
   ],
   "source": [
    "txt = \"The rain in Spain.\"\n",
    "x = re.search(r\"\\bS\\w+\", txt)\n",
    "print(x) ## prints match object\n",
    "print(x.group()) ## prints a tuple containing all the subgroups of the match,"
   ]
  },
  {
   "cell_type": "markdown",
   "metadata": {
    "id": "5RsNIii2ynoR"
   },
   "source": [
    "## Reading from the File"
   ]
  },
  {
   "cell_type": "code",
   "execution_count": 63,
   "metadata": {
    "execution": {
     "iopub.execute_input": "2025-06-30T05:54:12.610903Z",
     "iopub.status.busy": "2025-06-30T05:54:12.610666Z",
     "iopub.status.idle": "2025-06-30T05:54:12.959486Z",
     "shell.execute_reply": "2025-06-30T05:54:12.959019Z",
     "shell.execute_reply.started": "2025-06-30T05:54:12.610883Z"
    },
    "id": "MIqG127jaILZ",
    "scrolled": true
   },
   "outputs": [
    {
     "data": {
      "text/html": [
       "<div>\n",
       "<style scoped>\n",
       "    .dataframe tbody tr th:only-of-type {\n",
       "        vertical-align: middle;\n",
       "    }\n",
       "\n",
       "    .dataframe tbody tr th {\n",
       "        vertical-align: top;\n",
       "    }\n",
       "\n",
       "    .dataframe thead th {\n",
       "        text-align: right;\n",
       "    }\n",
       "</style>\n",
       "<table border=\"1\" class=\"dataframe\">\n",
       "  <thead>\n",
       "    <tr style=\"text-align: right;\">\n",
       "      <th></th>\n",
       "      <th>gender</th>\n",
       "      <th>race/ethnicity</th>\n",
       "      <th>parental level of education</th>\n",
       "      <th>lunch</th>\n",
       "      <th>test preparation course</th>\n",
       "      <th>math score</th>\n",
       "      <th>reading score</th>\n",
       "      <th>writing score</th>\n",
       "    </tr>\n",
       "  </thead>\n",
       "  <tbody>\n",
       "    <tr>\n",
       "      <th>0</th>\n",
       "      <td>female</td>\n",
       "      <td>group B</td>\n",
       "      <td>bachelor's degree</td>\n",
       "      <td>standard</td>\n",
       "      <td>none</td>\n",
       "      <td>72</td>\n",
       "      <td>72</td>\n",
       "      <td>74</td>\n",
       "    </tr>\n",
       "    <tr>\n",
       "      <th>1</th>\n",
       "      <td>female</td>\n",
       "      <td>group C</td>\n",
       "      <td>some college</td>\n",
       "      <td>standard</td>\n",
       "      <td>completed</td>\n",
       "      <td>69</td>\n",
       "      <td>90</td>\n",
       "      <td>88</td>\n",
       "    </tr>\n",
       "    <tr>\n",
       "      <th>2</th>\n",
       "      <td>female</td>\n",
       "      <td>group B</td>\n",
       "      <td>master's degree</td>\n",
       "      <td>standard</td>\n",
       "      <td>none</td>\n",
       "      <td>90</td>\n",
       "      <td>95</td>\n",
       "      <td>93</td>\n",
       "    </tr>\n",
       "    <tr>\n",
       "      <th>3</th>\n",
       "      <td>male</td>\n",
       "      <td>group A</td>\n",
       "      <td>associate's degree</td>\n",
       "      <td>free/reduced</td>\n",
       "      <td>none</td>\n",
       "      <td>47</td>\n",
       "      <td>57</td>\n",
       "      <td>44</td>\n",
       "    </tr>\n",
       "    <tr>\n",
       "      <th>4</th>\n",
       "      <td>male</td>\n",
       "      <td>group C</td>\n",
       "      <td>some college</td>\n",
       "      <td>standard</td>\n",
       "      <td>none</td>\n",
       "      <td>76</td>\n",
       "      <td>78</td>\n",
       "      <td>75</td>\n",
       "    </tr>\n",
       "  </tbody>\n",
       "</table>\n",
       "</div>"
      ],
      "text/plain": [
       "   gender race/ethnicity parental level of education         lunch  \\\n",
       "0  female        group B           bachelor's degree      standard   \n",
       "1  female        group C                some college      standard   \n",
       "2  female        group B             master's degree      standard   \n",
       "3    male        group A          associate's degree  free/reduced   \n",
       "4    male        group C                some college      standard   \n",
       "\n",
       "  test preparation course  math score  reading score  writing score  \n",
       "0                    none          72             72             74  \n",
       "1               completed          69             90             88  \n",
       "2                    none          90             95             93  \n",
       "3                    none          47             57             44  \n",
       "4                    none          76             78             75  "
      ]
     },
     "execution_count": 63,
     "metadata": {},
     "output_type": "execute_result"
    }
   ],
   "source": [
    "import pandas as pd\n",
    "data = pd.read_csv('https://raw.githubusercontent.com/daniaahmad13/Dataset/main/StudentsPerformance.csv')\n",
    "data.head()\n"
   ]
  },
  {
   "cell_type": "markdown",
   "metadata": {},
   "source": [
    "To filter pandas dataframe based on a value from a column"
   ]
  },
  {
   "cell_type": "code",
   "execution_count": 64,
   "metadata": {
    "execution": {
     "iopub.execute_input": "2025-06-30T05:54:13.012237Z",
     "iopub.status.busy": "2025-06-30T05:54:13.012034Z",
     "iopub.status.idle": "2025-06-30T05:54:13.020546Z",
     "shell.execute_reply": "2025-06-30T05:54:13.019967Z",
     "shell.execute_reply.started": "2025-06-30T05:54:13.012219Z"
    }
   },
   "outputs": [
    {
     "data": {
      "text/html": [
       "<div>\n",
       "<style scoped>\n",
       "    .dataframe tbody tr th:only-of-type {\n",
       "        vertical-align: middle;\n",
       "    }\n",
       "\n",
       "    .dataframe tbody tr th {\n",
       "        vertical-align: top;\n",
       "    }\n",
       "\n",
       "    .dataframe thead th {\n",
       "        text-align: right;\n",
       "    }\n",
       "</style>\n",
       "<table border=\"1\" class=\"dataframe\">\n",
       "  <thead>\n",
       "    <tr style=\"text-align: right;\">\n",
       "      <th></th>\n",
       "      <th>gender</th>\n",
       "      <th>race/ethnicity</th>\n",
       "      <th>parental level of education</th>\n",
       "      <th>lunch</th>\n",
       "      <th>test preparation course</th>\n",
       "      <th>math score</th>\n",
       "      <th>reading score</th>\n",
       "      <th>writing score</th>\n",
       "    </tr>\n",
       "  </thead>\n",
       "  <tbody>\n",
       "    <tr>\n",
       "      <th>1</th>\n",
       "      <td>female</td>\n",
       "      <td>group C</td>\n",
       "      <td>some college</td>\n",
       "      <td>standard</td>\n",
       "      <td>completed</td>\n",
       "      <td>69</td>\n",
       "      <td>90</td>\n",
       "      <td>88</td>\n",
       "    </tr>\n",
       "    <tr>\n",
       "      <th>4</th>\n",
       "      <td>male</td>\n",
       "      <td>group C</td>\n",
       "      <td>some college</td>\n",
       "      <td>standard</td>\n",
       "      <td>none</td>\n",
       "      <td>76</td>\n",
       "      <td>78</td>\n",
       "      <td>75</td>\n",
       "    </tr>\n",
       "    <tr>\n",
       "      <th>10</th>\n",
       "      <td>male</td>\n",
       "      <td>group C</td>\n",
       "      <td>associate's degree</td>\n",
       "      <td>standard</td>\n",
       "      <td>none</td>\n",
       "      <td>58</td>\n",
       "      <td>54</td>\n",
       "      <td>52</td>\n",
       "    </tr>\n",
       "    <tr>\n",
       "      <th>15</th>\n",
       "      <td>female</td>\n",
       "      <td>group C</td>\n",
       "      <td>some high school</td>\n",
       "      <td>standard</td>\n",
       "      <td>none</td>\n",
       "      <td>69</td>\n",
       "      <td>75</td>\n",
       "      <td>78</td>\n",
       "    </tr>\n",
       "    <tr>\n",
       "      <th>16</th>\n",
       "      <td>male</td>\n",
       "      <td>group C</td>\n",
       "      <td>high school</td>\n",
       "      <td>standard</td>\n",
       "      <td>none</td>\n",
       "      <td>88</td>\n",
       "      <td>89</td>\n",
       "      <td>86</td>\n",
       "    </tr>\n",
       "  </tbody>\n",
       "</table>\n",
       "</div>"
      ],
      "text/plain": [
       "    gender race/ethnicity parental level of education     lunch  \\\n",
       "1   female        group C                some college  standard   \n",
       "4     male        group C                some college  standard   \n",
       "10    male        group C          associate's degree  standard   \n",
       "15  female        group C            some high school  standard   \n",
       "16    male        group C                 high school  standard   \n",
       "\n",
       "   test preparation course  math score  reading score  writing score  \n",
       "1                completed          69             90             88  \n",
       "4                     none          76             78             75  \n",
       "10                    none          58             54             52  \n",
       "15                    none          69             75             78  \n",
       "16                    none          88             89             86  "
      ]
     },
     "execution_count": 64,
     "metadata": {},
     "output_type": "execute_result"
    }
   ],
   "source": [
    "new_df = data.loc[data['race/ethnicity'] == \"group C\"]\n",
    "new_df.head()"
   ]
  },
  {
   "cell_type": "markdown",
   "metadata": {
    "id": "ldoTPKRXhDB3"
   },
   "source": [
    "## Writing to a File"
   ]
  },
  {
   "cell_type": "code",
   "execution_count": 65,
   "metadata": {
    "execution": {
     "iopub.execute_input": "2025-06-30T05:54:13.415264Z",
     "iopub.status.busy": "2025-06-30T05:54:13.414861Z",
     "iopub.status.idle": "2025-06-30T05:54:13.418233Z",
     "shell.execute_reply": "2025-06-30T05:54:13.417684Z",
     "shell.execute_reply.started": "2025-06-30T05:54:13.415245Z"
    },
    "id": "KVXr3o7Vgqmy"
   },
   "outputs": [],
   "source": [
    "#open the file in the append mode as the write mode overwrites the first line\n",
    "file1 = open(\"myfile.txt\",\"a\")\n",
    "file1.write(\"Today \\n\")\n",
    "file1.close()"
   ]
  },
  {
   "cell_type": "markdown",
   "metadata": {
    "id": "TCOCfpWOp1qo"
   },
   "source": [
    "## Scikit Learn\n",
    "\n",
    "Scikit-learn, commonly known as sklearn, is a free Machine Learning library for the Python programming language. It offers numerous classification, regression, and clustering algorithms, including K-Means, Linear Regression, Logistic Regression, Naive Bayes and State Vector Machines, etc. Moreover, it supports tasks such as feature extraction, feature selection, model evaluation, model selection, parameter tuning, etc. \n",
    "\n",
    "Sklearn is a widely used library due to numerous reasons, such as:\n",
    "\n",
    "1.   It is easy to learn and use.\n",
    "2.   It covers all aspects of Machine Learning.\n",
    "3.   It is very versatile and powerful.\n",
    "4.   It is very versatile and powerful.\n",
    "5.   It is an open-source library with an active community and detailed documentation.\n",
    "\n",
    "\n",
    "More information regarding Sklearn, including its implementation, can be found [here](https://scikit-learn.org/stable/).\n"
   ]
  },
  {
   "cell_type": "markdown",
   "metadata": {
    "id": "60c4war2HIAr"
   },
   "source": [
    "## Questions\n",
    "Solve some of the questions below to get more clear understanding of python basics:"
   ]
  },
  {
   "cell_type": "markdown",
   "metadata": {
    "id": "J8Cr9I0fRCdG"
   },
   "source": [
    "**Q1: Write the code to determine the parity (`even` or `odd`) of a given number.**             \n",
    "\n",
    "[3 marks]"
   ]
  },
  {
   "cell_type": "code",
   "execution_count": 66,
   "metadata": {
    "execution": {
     "iopub.execute_input": "2025-06-30T05:54:14.215098Z",
     "iopub.status.busy": "2025-06-30T05:54:14.214645Z",
     "iopub.status.idle": "2025-06-30T05:54:14.218609Z",
     "shell.execute_reply": "2025-06-30T05:54:14.218078Z",
     "shell.execute_reply.started": "2025-06-30T05:54:14.215077Z"
    },
    "id": "tQ8eUq_vRjMj"
   },
   "outputs": [
    {
     "name": "stdout",
     "output_type": "stream",
     "text": [
      "False\n",
      "False\n"
     ]
    }
   ],
   "source": [
    "### write code here...\n",
    "def check_parity(number):\n",
    "    return False\n",
    "        \n",
    "print(check_parity(3))\n",
    "print(check_parity(4))\n",
    "    "
   ]
  },
  {
   "cell_type": "markdown",
   "metadata": {
    "id": "pB2VBGtgH0sA"
   },
   "source": [
    "**Q2: For the given list of strings, check if the length of the string is even or odd. Print \"`even`\" or \"`odd`\" accordingly.** [3 marks]"
   ]
  },
  {
   "cell_type": "code",
   "execution_count": 67,
   "metadata": {
    "execution": {
     "iopub.execute_input": "2025-06-30T05:54:14.606315Z",
     "iopub.status.busy": "2025-06-30T05:54:14.605899Z",
     "iopub.status.idle": "2025-06-30T05:54:14.609167Z",
     "shell.execute_reply": "2025-06-30T05:54:14.608458Z",
     "shell.execute_reply.started": "2025-06-30T05:54:14.606297Z"
    },
    "id": "9bzTD62FH0sE"
   },
   "outputs": [],
   "source": [
    "x = ['mangos', 'apple', 'watermelon', 'آڑو', 'انار']\n",
    "### write code here...\n"
   ]
  },
  {
   "cell_type": "markdown",
   "metadata": {
    "id": "HuEAV1tiRpB0"
   },
   "source": [
    "**Q3: Write a code to reverse the string \"HAIKYU!!\" using indexing.** [2 marks]"
   ]
  },
  {
   "cell_type": "code",
   "execution_count": 68,
   "metadata": {
    "execution": {
     "iopub.execute_input": "2025-06-30T05:54:15.246263Z",
     "iopub.status.busy": "2025-06-30T05:54:15.245856Z",
     "iopub.status.idle": "2025-06-30T05:54:15.249514Z",
     "shell.execute_reply": "2025-06-30T05:54:15.248986Z",
     "shell.execute_reply.started": "2025-06-30T05:54:15.246243Z"
    },
    "id": "Fmv2vpowRuPO"
   },
   "outputs": [
    {
     "name": "stdout",
     "output_type": "stream",
     "text": [
      "HAIKYU!!\n"
     ]
    }
   ],
   "source": [
    "### write code here...\n",
    "str1 = \"HAIKYU!!\"\n",
    "## Revers the string\n",
    "print(str1)"
   ]
  },
  {
   "cell_type": "markdown",
   "metadata": {
    "id": "w9uN3aQbldUr"
   },
   "source": [
    "**Q4: For numbers in range 1 to 150, return a list of those that are multiple of 4 but not 6 using list comprehension .**  [3 marks]"
   ]
  },
  {
   "cell_type": "code",
   "execution_count": 69,
   "metadata": {
    "execution": {
     "iopub.execute_input": "2025-06-30T05:54:15.431058Z",
     "iopub.status.busy": "2025-06-30T05:54:15.430554Z",
     "iopub.status.idle": "2025-06-30T05:54:15.434171Z",
     "shell.execute_reply": "2025-06-30T05:54:15.433657Z",
     "shell.execute_reply.started": "2025-06-30T05:54:15.431041Z"
    },
    "id": "oMz2wfz5lcHG"
   },
   "outputs": [
    {
     "name": "stdout",
     "output_type": "stream",
     "text": [
      "None\n"
     ]
    }
   ],
   "source": [
    "### write code here...\n",
    "def m4not6():\n",
    "    pass\n",
    "print(m4not6())"
   ]
  },
  {
   "cell_type": "markdown",
   "metadata": {
    "id": "nIbpYb6Q2hEV"
   },
   "source": [
    "**Q5: Generate two numpy arrays x and y of 20 random integers between [1,6], compute a new array where each element is the square root of sum of corresponding entries in x and y. Use broadcasting in this question**. [5 marks]\n",
    "\n",
    "For example: x =[1,2,0] , y =[3,4,5] \n",
    "Result: [2, 2.449, 2.236]"
   ]
  },
  {
   "cell_type": "code",
   "execution_count": 70,
   "metadata": {
    "execution": {
     "iopub.execute_input": "2025-06-30T05:54:16.057276Z",
     "iopub.status.busy": "2025-06-30T05:54:16.056844Z",
     "iopub.status.idle": "2025-06-30T05:54:16.060038Z",
     "shell.execute_reply": "2025-06-30T05:54:16.059508Z",
     "shell.execute_reply.started": "2025-06-30T05:54:16.057256Z"
    },
    "id": "xISKdth141iq"
   },
   "outputs": [],
   "source": [
    "import numpy as np\n",
    "\n",
    "### write code here...\n"
   ]
  },
  {
   "cell_type": "markdown",
   "metadata": {
    "id": "YvUa7J2tK-Y6"
   },
   "source": [
    "**Q6: Given two dictionaries of ids and imdb rating, write a function to return a dictionary where keys are movie ids and values are a list containing the corresponding movie name and the imdb rating.** [5 marks]\n"
   ]
  },
  {
   "cell_type": "code",
   "execution_count": 71,
   "metadata": {
    "execution": {
     "iopub.execute_input": "2025-06-30T05:54:16.462215Z",
     "iopub.status.busy": "2025-06-30T05:54:16.461830Z",
     "iopub.status.idle": "2025-06-30T05:54:16.465581Z",
     "shell.execute_reply": "2025-06-30T05:54:16.465045Z",
     "shell.execute_reply.started": "2025-06-30T05:54:16.462198Z"
    },
    "id": "B6CKH7EkLNeP"
   },
   "outputs": [],
   "source": [
    "from collections import defaultdict\n",
    "ids = {4: 'The Godfather', 2: 'The Dark Knight', 1: 'The Lord of The Rings', 3: 'Inception', 5: 'The Matrix'} ## keys are movie ids and values are movie names\n",
    "imdb_ratings = {2: 9.0, 1: 8.9, 3: 8.7, 5: 8.7, 4: 9.2}  ## keys are movie ids and values are imdb ratings\n",
    "\n",
    "### write code here..\n"
   ]
  },
  {
   "cell_type": "markdown",
   "metadata": {
    "id": "c6MuT8TYLnvv"
   },
   "source": [
    "**Q7: Given a numpy array `x`, write a function to find all negative elements and replace them with their squares. Use boolean indexing.** [3 marks]"
   ]
  },
  {
   "cell_type": "code",
   "execution_count": 72,
   "metadata": {
    "execution": {
     "iopub.execute_input": "2025-06-30T05:54:16.854842Z",
     "iopub.status.busy": "2025-06-30T05:54:16.854408Z",
     "iopub.status.idle": "2025-06-30T05:54:16.857731Z",
     "shell.execute_reply": "2025-06-30T05:54:16.857195Z",
     "shell.execute_reply.started": "2025-06-30T05:54:16.854821Z"
    },
    "id": "tWEfvOzhLjER"
   },
   "outputs": [],
   "source": [
    "x = np.array([[5,-1,2],[-5,-2,12],[5,-15,-10]])\n",
    "### write code here...\n"
   ]
  },
  {
   "cell_type": "markdown",
   "metadata": {
    "id": "OKej-1UHSAbf"
   },
   "source": [
    "**Q8: Write a function which takes that numpy array as input and returns the following:**  [3 marks]\n",
    " \n",
    "\n",
    "1.   Maximum value in the array\n",
    "2.   Standard Deviation\n",
    "3.   Sum of all the elements in the array\n",
    "\n",
    "\n",
    "\n",
    "\n",
    "\n"
   ]
  },
  {
   "cell_type": "code",
   "execution_count": 73,
   "metadata": {
    "execution": {
     "iopub.execute_input": "2025-06-30T05:54:17.246597Z",
     "iopub.status.busy": "2025-06-30T05:54:17.246059Z",
     "iopub.status.idle": "2025-06-30T05:54:17.250481Z",
     "shell.execute_reply": "2025-06-30T05:54:17.249969Z",
     "shell.execute_reply.started": "2025-06-30T05:54:17.246579Z"
    },
    "id": "Y70Mv7HISUOl"
   },
   "outputs": [
    {
     "name": "stdout",
     "output_type": "stream",
     "text": [
      "(np.int64(71), np.float64(37.32393855006313), np.int64(-31))\n"
     ]
    }
   ],
   "source": [
    "x = np.array([[5,-10,71,-5],[-10,41,-82,5],[5,5,-1,-55]])\n",
    "### write code here...\n",
    "def get_arr_stats(x):\n",
    "    return np.amax(x), np.std(x), np.sum(x)\n",
    "    \n",
    "print(get_arr_stats(x))"
   ]
  },
  {
   "cell_type": "markdown",
   "metadata": {
    "id": "GyE7f5cdSjme"
   },
   "source": [
    "**Q9: Write a Python function that accepts a string and calculates the number of upper case letters and lower case letters.**   [3 marks]\n",
    "\n"
   ]
  },
  {
   "cell_type": "code",
   "execution_count": 74,
   "metadata": {
    "execution": {
     "iopub.execute_input": "2025-06-30T05:54:17.662219Z",
     "iopub.status.busy": "2025-06-30T05:54:17.661720Z",
     "iopub.status.idle": "2025-06-30T05:54:17.665805Z",
     "shell.execute_reply": "2025-06-30T05:54:17.665242Z",
     "shell.execute_reply.started": "2025-06-30T05:54:17.662196Z"
    },
    "id": "iPawA5zjSqJ5"
   },
   "outputs": [
    {
     "name": "stdout",
     "output_type": "stream",
     "text": [
      "None\n"
     ]
    }
   ],
   "source": [
    "str = \"I am Batman. Dun Dun Dun!\"\n",
    "### write code here...\n",
    "def upper_lower_len(s):\n",
    "    pass\n",
    "    \n",
    "print(upper_lower_len(str))"
   ]
  },
  {
   "cell_type": "markdown",
   "metadata": {
    "id": "vGhdJEBISz0T"
   },
   "source": [
    "**Q10: Write a function that prints the integers from 1 to 150. But for multiples of five, print \"Na Na Na\" instead of the number, and for the multiples of six print \"Batman\". For numbers which are multiples of both five and six print \"Na Na Na Batman\".**   [3 marks]"
   ]
  },
  {
   "cell_type": "code",
   "execution_count": 75,
   "metadata": {
    "execution": {
     "iopub.execute_input": "2025-06-30T05:54:18.062745Z",
     "iopub.status.busy": "2025-06-30T05:54:18.062160Z",
     "iopub.status.idle": "2025-06-30T05:54:18.065326Z",
     "shell.execute_reply": "2025-06-30T05:54:18.064788Z",
     "shell.execute_reply.started": "2025-06-30T05:54:18.062726Z"
    },
    "id": "1rXLf2KWS74A"
   },
   "outputs": [],
   "source": [
    "### write code here...\n"
   ]
  },
  {
   "cell_type": "markdown",
   "metadata": {
    "id": "xADW_rCrTE1W"
   },
   "source": [
    "**Q11: Write a function, `calculateSum(l,k)` which will take a list, `l` and a number `k` as input and return two numbers from `l` that add up to `k`.**   [5 marks]"
   ]
  },
  {
   "cell_type": "code",
   "execution_count": 76,
   "metadata": {
    "execution": {
     "iopub.execute_input": "2025-06-30T05:54:18.475634Z",
     "iopub.status.busy": "2025-06-30T05:54:18.475074Z",
     "iopub.status.idle": "2025-06-30T05:54:18.478664Z",
     "shell.execute_reply": "2025-06-30T05:54:18.478152Z",
     "shell.execute_reply.started": "2025-06-30T05:54:18.475614Z"
    },
    "id": "Vgrax_Z-TIax"
   },
   "outputs": [],
   "source": [
    "l = [5, 1, 10, 22, 14, 2, 66]\n",
    "k = 32\n",
    "### write code here...\n",
    "def calculateSum(l,k):\n",
    "    pass\n",
    "\n",
    "calculateSum(l,k)"
   ]
  },
  {
   "cell_type": "markdown",
   "metadata": {
    "id": "rz4skoNTTPab"
   },
   "source": [
    "**Q12: Write a function, `find_superhero`  that receives the superhero dictionary and a team name, and returns a list with names in sorted order of all superheros whose team matches the team in the argument.**   [5 marks]"
   ]
  },
  {
   "cell_type": "code",
   "execution_count": 77,
   "metadata": {
    "colab": {
     "base_uri": "https://localhost:8080/"
    },
    "execution": {
     "iopub.execute_input": "2025-06-30T05:54:18.878675Z",
     "iopub.status.busy": "2025-06-30T05:54:18.878131Z",
     "iopub.status.idle": "2025-06-30T05:54:18.882941Z",
     "shell.execute_reply": "2025-06-30T05:54:18.882423Z",
     "shell.execute_reply.started": "2025-06-30T05:54:18.878656Z"
    },
    "executionInfo": {
     "elapsed": 576,
     "status": "ok",
     "timestamp": 1632827337892,
     "user": {
      "displayName": "Dania Ahmad",
      "photoUrl": "https://lh3.googleusercontent.com/a/default-user=s64",
      "userId": "09643934378086205076"
     },
     "user_tz": -300
    },
    "id": "C0MZwcLLTUQP",
    "outputId": "34cea024-ac17-4385-e8f7-e581075c94c2"
   },
   "outputs": [
    {
     "name": "stdout",
     "output_type": "stream",
     "text": [
      "None\n"
     ]
    }
   ],
   "source": [
    "def find_superheros(team, superheros):\n",
    "    pass\n",
    "\n",
    "superheros = {\n",
    "      \"Black Widow\": {\"age\": 32, \"Team\": \"The Avengers\"},\n",
    "      \"Scarlet Witch\": {\"age\": 21, \"Team\": \"The Avengers\"},\n",
    "      \"Captain America\": {\"age\": 80, \"Team\": \"The Avengers\"},\n",
    "      \"Iron-man\": {\"age\": 48, \"Team\": \"The Avengers\"},\n",
    "      \"Wonder Woman\": {\"age\": 800, \"Team\": \"Justice League\"}, \n",
    "      \"Batman\": {\"age\": 81, \"Team\": \"Justice League\"}, \n",
    "      \"Star-Lord\": {\"age\": 38, \"Team\": \"Guardians of the Galaxy\"},\n",
    "      \"Groot\": {\"age\": 25, \"Team\": \"Guardians of the Galaxy\"},\n",
    "      \"Gamora\": {\"age\": 29, \"Team\": \"Guardians of the Galaxy\"},\n",
    "}\n",
    "print(find_superheros(\"The Avengers\", superheros))"
   ]
  },
  {
   "cell_type": "markdown",
   "metadata": {
    "id": "iZ8SMLqQTdFR"
   },
   "source": [
    "**Q13: Edit the following iterator class to return all the positive odd numbers from 1 to (n).**      [3 marks]"
   ]
  },
  {
   "cell_type": "code",
   "execution_count": 78,
   "metadata": {
    "execution": {
     "iopub.execute_input": "2025-06-30T05:54:19.298215Z",
     "iopub.status.busy": "2025-06-30T05:54:19.297714Z",
     "iopub.status.idle": "2025-06-30T05:54:19.302393Z",
     "shell.execute_reply": "2025-06-30T05:54:19.301824Z",
     "shell.execute_reply.started": "2025-06-30T05:54:19.298191Z"
    },
    "id": "AowdlG29Thhg"
   },
   "outputs": [
    {
     "name": "stdout",
     "output_type": "stream",
     "text": [
      "1\n",
      "3\n",
      "5\n",
      "7\n",
      "9\n",
      "11\n",
      "13\n",
      "15\n",
      "17\n",
      "19\n",
      "21\n",
      "23\n",
      "25\n",
      "27\n",
      "29\n"
     ]
    }
   ],
   "source": [
    "### Write code here...\n",
    "class OddNumbers:\n",
    "    n = 0\n",
    "    def __init__(self, n):\n",
    "        self.n = n\n",
    "        \n",
    "    def __iter__(self):\n",
    "        self.a = 1\n",
    "        return self\n",
    "\n",
    "    def __next__(self):\n",
    "        x = self.a\n",
    "        if not x >= self.n:\n",
    "            self.a += 2\n",
    "            return x\n",
    "        else:\n",
    "            raise StopIteration\n",
    "\n",
    "myclass = OddNumbers(30)\n",
    "myiter = iter(myclass)\n",
    "\n",
    "for x in myiter:\n",
    "    print(x)"
   ]
  },
  {
   "cell_type": "markdown",
   "metadata": {
    "id": "P8vZbdD8Tr9v"
   },
   "source": [
    "**Q14: Using keys and indexing, grab the 'hello' from the given dictionaries.**\n",
    "[3 marks]\n"
   ]
  },
  {
   "cell_type": "code",
   "execution_count": 79,
   "metadata": {
    "execution": {
     "iopub.execute_input": "2025-06-30T05:54:19.694495Z",
     "iopub.status.busy": "2025-06-30T05:54:19.694005Z",
     "iopub.status.idle": "2025-06-30T05:54:19.698338Z",
     "shell.execute_reply": "2025-06-30T05:54:19.697775Z",
     "shell.execute_reply.started": "2025-06-30T05:54:19.694465Z"
    },
    "id": "r1nI0vt7Tzxy"
   },
   "outputs": [
    {
     "name": "stdout",
     "output_type": "stream",
     "text": [
      "hello\n",
      "hello\n",
      "hello\n"
     ]
    }
   ],
   "source": [
    "d1 = {'simple_key':('hello')}\n",
    "\n",
    "d2 = {'k1':{'k2':['hello']}}\n",
    "\n",
    "d3 = {'k1':[{'nest_key':['this is deep',[({\"k2\": 'hello'})]]}]}\n",
    "\n",
    "### write code here...\n",
    "print(d1['simple_key'])\n",
    "print(d2['k1']['k2'][0])\n",
    "print(d3['k1'][0]['nest_key'][1][0]['k2'])"
   ]
  },
  {
   "cell_type": "markdown",
   "metadata": {
    "id": "5f8yWxZwGBH-"
   },
   "source": [
    "**Q15: Write a python Class that accepts a tuple, has two instance variables, setter and getter methods and also write these methods to compute results accordingly:** [10 marks]\n",
    "\n",
    "1.   def Addition(tup )\n",
    "2.   def  Subtraction (tup)\n",
    "3.   def Multiplication(tup)\n",
    "4.   def Division(tup )\n",
    "5.   def Power(tup)\n"
   ]
  },
  {
   "cell_type": "code",
   "execution_count": 80,
   "metadata": {
    "execution": {
     "iopub.execute_input": "2025-06-30T05:54:20.096094Z",
     "iopub.status.busy": "2025-06-30T05:54:20.095616Z",
     "iopub.status.idle": "2025-06-30T05:54:20.101709Z",
     "shell.execute_reply": "2025-06-30T05:54:20.101108Z",
     "shell.execute_reply.started": "2025-06-30T05:54:20.096065Z"
    },
    "id": "2gPaYB_6GtMQ"
   },
   "outputs": [
    {
     "name": "stdout",
     "output_type": "stream",
     "text": [
      "7\n",
      "-1\n",
      "12\n",
      "0.75\n",
      "81\n"
     ]
    }
   ],
   "source": [
    "### write code here...\n",
    "class TupOperations:\n",
    "    def __init__(self, tup):\n",
    "        self.t1 = tup[0]\n",
    "        self.t2 = tup[1]\n",
    "        \n",
    "    def get_tup(self):\n",
    "        return (self.t1, self.t2)\n",
    "    \n",
    "    def set_tup(self, tup):\n",
    "        self.t1 = tup[0]\n",
    "        self.t2 = tup[1]\n",
    "    \n",
    "    def Addition(self, tup):\n",
    "        t = tup.get_tup()\n",
    "        return t[0] + t[1]\n",
    "\n",
    "    def Subtraction(self, tup):\n",
    "        t = tup.get_tup()\n",
    "        return t[0] - t[1]\n",
    "\n",
    "    def Multiplication(self, tup):\n",
    "        t = tup.get_tup()\n",
    "        return t[0] * t[1]\n",
    "\n",
    "    def Division(self, tup):\n",
    "        t = tup.get_tup()\n",
    "        return t[0] / t[1]\n",
    "\n",
    "    def Power(self, tup):\n",
    "        t = tup.get_tup()\n",
    "        return t[0] ** t[1]\n",
    "\n",
    "tup = TupOperations((3,4))\n",
    "print(tup.Addition(tup))\n",
    "print(tup.Subtraction(tup))\n",
    "print(tup.Multiplication(tup))\n",
    "print(tup.Division(tup))\n",
    "print(tup.Power(tup))"
   ]
  },
  {
   "cell_type": "markdown",
   "metadata": {
    "id": "NwuvJ74zL9cr"
   },
   "source": [
    "**Q16. For given array x of floating point numbers. Print plots for the following functions with the specified properties. Make a different subplot for each listed number.**    [10 marks]\n",
    "\n",
    "1. $y1$ = $x^{2} + 10$,\n",
    "$y2$ = $x^{3} + x^{2}$\n",
    "* X and Y axis labels\n",
    "* Legend in top right corner\n",
    "* Give appropriate title\n",
    "* y1 line with red color\n",
    "* y2 line with blue color\n",
    "\n",
    "2. y1 = $sin(x) * sin(x)^{2}$ * $sin(x)^{3}$\n",
    "* X and Y axis labels\n",
    "* Legend in bottom center\n",
    "* Give appropriate title\n",
    "* line fontsize 20\n",
    "\n",
    "3. y1 = $cos(x)^{3}$\n",
    "* X and Y axis labels\n",
    "* Legend in bottom left corner\n",
    "* Give appropriate title\n",
    "* y1 graph with green circles only and circles should not be connected via line.\n",
    "\n"
   ]
  },
  {
   "cell_type": "code",
   "execution_count": 81,
   "metadata": {
    "execution": {
     "iopub.execute_input": "2025-06-30T05:54:20.470411Z",
     "iopub.status.busy": "2025-06-30T05:54:20.469940Z",
     "iopub.status.idle": "2025-06-30T05:54:20.845022Z",
     "shell.execute_reply": "2025-06-30T05:54:20.844526Z",
     "shell.execute_reply.started": "2025-06-30T05:54:20.470381Z"
    },
    "id": "yhB8hFK0TALX"
   },
   "outputs": [
    {
     "data": {
      "image/png": "[encoded data removed]",
      "text/plain": [
       "<Figure size 640x480 with 1 Axes>"
      ]
     },
     "metadata": {},
     "output_type": "display_data"
    },
    {
     "data": {
      "image/png": "[encoded data removed]",
      "text/plain": [
       "<Figure size 640x480 with 1 Axes>"
      ]
     },
     "metadata": {},
     "output_type": "display_data"
    },
    {
     "data": {
      "image/png": "[encoded data removed]",
      "text/plain": [
       "<Figure size 640x480 with 1 Axes>"
      ]
     },
     "metadata": {},
     "output_type": "display_data"
    }
   ],
   "source": [
    "import matplotlib.pyplot as plt\n",
    "x = np.arange(-10,10, 0.2)\n",
    "## Write your code here...\n",
    "y1 = (x**2) + 10\n",
    "y2 = (x**3) + (x**2)\n",
    "plt.plot(x, y1, 'r', label='y1')\n",
    "plt.plot(x, y2, 'b', label='y2')\n",
    "plt.title('y1 = x^2+10, y2 = x^3+x^2')\n",
    "plt.xlabel(\"X\")\n",
    "plt.ylabel(\"Y\")\n",
    "plt.legend(loc='upper right')\n",
    "\n",
    "\n",
    "plt.show()\n",
    "\n",
    "y1 =np.sin(x) + (np.sin(x)**2)*(np.sin(x)**3)\n",
    "\n",
    "plt.plot(x, y1, 'r', label='y1', linewidth=20)\n",
    "\n",
    "plt.title('y1 = sin(x) * sin(x)^2 * sin(x)^3')\n",
    "plt.xlabel(\"X\")\n",
    "plt.ylabel(\"Y\")\n",
    "plt.legend(loc='lower center', bbox_to_anchor =(0.5,-0.27))\n",
    "\n",
    "plt.show()\n",
    "\n",
    "y1 = np.cos(x)**3\n",
    "plt.plot(x, y1, 'og', label='y1')\n",
    "plt.title('y1 = cos(x)^3')\n",
    "plt.xlabel(\"X\")\n",
    "plt.ylabel(\"Y\")\n",
    "plt.legend(loc='lower left', bbox_to_anchor=(-0.01,-0.3))\n",
    "\n",
    "plt.show()"
   ]
  },
  {
   "cell_type": "code",
   "execution_count": null,
   "metadata": {},
   "outputs": [],
   "source": []
  }
 ],
 "metadata": {
  "colab": {
   "collapsed_sections": [
    "Y70GeIJgWKSZ",
    "yjv8odw0WKSb"
   ],
   "name": "Assignment0.ipynb",
   "provenance": []
  },
  "kernelspec": {
   "display_name": "Python 3 (ipykernel)",
   "language": "python",
   "name": "python3"
  },
  "language_info": {
   "codemirror_mode": {
    "name": "ipython",
    "version": 3
   },
   "file_extension": ".py",
   "mimetype": "text/x-python",
   "name": "python",
   "nbconvert_exporter": "python",
   "pygments_lexer": "ipython3",
   "version": "3.12.11"
  }
 },
 "nbformat": 4,
 "nbformat_minor": 4
}
